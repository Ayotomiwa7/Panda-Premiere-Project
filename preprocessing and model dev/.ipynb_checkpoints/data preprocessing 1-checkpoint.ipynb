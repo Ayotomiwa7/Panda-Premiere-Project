{
 "cells": [
  {
   "cell_type": "markdown",
   "id": "3cf8bc4e",
   "metadata": {},
   "source": [
    "# Import Packages"
   ]
  },
  {
   "cell_type": "code",
   "execution_count": 1,
   "id": "3d3a792b",
   "metadata": {},
   "outputs": [],
   "source": [
    "import numpy as np\n",
    "import pandas as pd\n",
    "import matplotlib.pyplot as plt\n",
    "import seaborn as sns"
   ]
  },
  {
   "cell_type": "markdown",
   "id": "91fc3c61",
   "metadata": {},
   "source": [
    "# Read CSV"
   ]
  },
  {
   "cell_type": "code",
   "execution_count": 2,
   "id": "c0383fce",
   "metadata": {},
   "outputs": [],
   "source": [
    "df1 = pd.read_csv(\"SDG_Feb2024_ (1).csv\")"
   ]
  },
  {
   "cell_type": "code",
   "execution_count": 20,
   "id": "cd48a056",
   "metadata": {},
   "outputs": [],
   "source": [
    "df2 = pd.read_csv(\"SDG_Feb2024_ (2).csv\")"
   ]
  },
  {
   "cell_type": "code",
   "execution_count": 32,
   "id": "1c6626a2",
   "metadata": {},
   "outputs": [],
   "source": [
    "df3 = pd.read_csv(\"SDG_Feb2024_ (3).csv\")"
   ]
  },
  {
   "cell_type": "code",
   "execution_count": 41,
   "id": "910f5753",
   "metadata": {},
   "outputs": [],
   "source": [
    "df4 = pd.read_csv(\"SDG_Feb2024_ (4).csv\")"
   ]
  },
  {
   "cell_type": "code",
   "execution_count": 42,
   "id": "64593933",
   "metadata": {},
   "outputs": [],
   "source": [
    "df5 = pd.read_csv(\"SDG_Feb2024_ (5).csv\")"
   ]
  },
  {
   "cell_type": "code",
   "execution_count": 77,
   "id": "faa707b2",
   "metadata": {},
   "outputs": [],
   "source": [
    "df6 = pd.read_csv(\"SDG_Feb2024_ (6).csv\")"
   ]
  },
  {
   "cell_type": "code",
   "execution_count": 78,
   "id": "7ee61c8e",
   "metadata": {},
   "outputs": [],
   "source": [
    "df7 = pd.read_csv(\"SDG_Feb2024_ (7).csv\")"
   ]
  },
  {
   "cell_type": "code",
   "execution_count": 45,
   "id": "3dc5f8ba",
   "metadata": {},
   "outputs": [],
   "source": [
    "df8 = pd.read_csv(\"SDG_Feb2024_.csv\")"
   ]
  },
  {
   "cell_type": "code",
   "execution_count": 46,
   "id": "b8146e5d",
   "metadata": {},
   "outputs": [],
   "source": [
    "df9 = pd.read_csv(\"SDG_Feb2024_Education 2030 FFA.csv\")"
   ]
  },
  {
   "cell_type": "code",
   "execution_count": null,
   "id": "a3b6b051",
   "metadata": {},
   "outputs": [],
   "source": []
  },
  {
   "cell_type": "code",
   "execution_count": null,
   "id": "226b0160",
   "metadata": {},
   "outputs": [],
   "source": []
  },
  {
   "cell_type": "markdown",
   "id": "b7f056a3",
   "metadata": {},
   "source": [
    "### Percentage of total aid to education allocated to least developed countries (%)"
   ]
  },
  {
   "cell_type": "code",
   "execution_count": 3,
   "id": "e9ac9aed",
   "metadata": {},
   "outputs": [
    {
     "data": {
      "text/html": [
       "<div>\n",
       "<style scoped>\n",
       "    .dataframe tbody tr th:only-of-type {\n",
       "        vertical-align: middle;\n",
       "    }\n",
       "\n",
       "    .dataframe tbody tr th {\n",
       "        vertical-align: top;\n",
       "    }\n",
       "\n",
       "    .dataframe thead th {\n",
       "        text-align: right;\n",
       "    }\n",
       "</style>\n",
       "<table border=\"1\" class=\"dataframe\">\n",
       "  <thead>\n",
       "    <tr style=\"text-align: right;\">\n",
       "      <th></th>\n",
       "      <th>Region</th>\n",
       "      <th>Country</th>\n",
       "      <th>Target</th>\n",
       "      <th>Indicator Number</th>\n",
       "      <th>Indicator Name</th>\n",
       "      <th>Year</th>\n",
       "      <th>Value</th>\n",
       "      <th>Metadata</th>\n",
       "    </tr>\n",
       "  </thead>\n",
       "  <tbody>\n",
       "    <tr>\n",
       "      <th>0</th>\n",
       "      <td>SDG: Europe and Northern America</td>\n",
       "      <td>Denmark</td>\n",
       "      <td>4.5</td>\n",
       "      <td>4.5.5</td>\n",
       "      <td>Percentage of total aid to education allocated...</td>\n",
       "      <td>2010</td>\n",
       "      <td>50.08</td>\n",
       "      <td>SOURCE: Development Assistance Committee (DAC)...</td>\n",
       "    </tr>\n",
       "    <tr>\n",
       "      <th>1</th>\n",
       "      <td>SDG: Europe and Northern America</td>\n",
       "      <td>Germany</td>\n",
       "      <td>4.5</td>\n",
       "      <td>4.5.5</td>\n",
       "      <td>Percentage of total aid to education allocated...</td>\n",
       "      <td>2010</td>\n",
       "      <td>14.88</td>\n",
       "      <td>SOURCE: Development Assistance Committee (DAC)...</td>\n",
       "    </tr>\n",
       "    <tr>\n",
       "      <th>2</th>\n",
       "      <td>SDG: Europe and Northern America</td>\n",
       "      <td>Greece</td>\n",
       "      <td>4.5</td>\n",
       "      <td>4.5.5</td>\n",
       "      <td>Percentage of total aid to education allocated...</td>\n",
       "      <td>2010</td>\n",
       "      <td>4.66</td>\n",
       "      <td>SOURCE: Development Assistance Committee (DAC)...</td>\n",
       "    </tr>\n",
       "    <tr>\n",
       "      <th>3</th>\n",
       "      <td>SDG: Europe and Northern America</td>\n",
       "      <td>Ireland</td>\n",
       "      <td>4.5</td>\n",
       "      <td>4.5.5</td>\n",
       "      <td>Percentage of total aid to education allocated...</td>\n",
       "      <td>2010</td>\n",
       "      <td>66.49</td>\n",
       "      <td>SOURCE: Development Assistance Committee (DAC)...</td>\n",
       "    </tr>\n",
       "    <tr>\n",
       "      <th>4</th>\n",
       "      <td>SDG: Europe and Northern America</td>\n",
       "      <td>Sweden</td>\n",
       "      <td>4.5</td>\n",
       "      <td>4.5.5</td>\n",
       "      <td>Percentage of total aid to education allocated...</td>\n",
       "      <td>2010</td>\n",
       "      <td>42.29</td>\n",
       "      <td>SOURCE: Development Assistance Committee (DAC)...</td>\n",
       "    </tr>\n",
       "  </tbody>\n",
       "</table>\n",
       "</div>"
      ],
      "text/plain": [
       "                             Region  Country  Target Indicator Number  \\\n",
       "0  SDG: Europe and Northern America  Denmark     4.5            4.5.5   \n",
       "1  SDG: Europe and Northern America  Germany     4.5            4.5.5   \n",
       "2  SDG: Europe and Northern America   Greece     4.5            4.5.5   \n",
       "3  SDG: Europe and Northern America  Ireland     4.5            4.5.5   \n",
       "4  SDG: Europe and Northern America   Sweden     4.5            4.5.5   \n",
       "\n",
       "                                      Indicator Name  Year  Value  \\\n",
       "0  Percentage of total aid to education allocated...  2010  50.08   \n",
       "1  Percentage of total aid to education allocated...  2010  14.88   \n",
       "2  Percentage of total aid to education allocated...  2010   4.66   \n",
       "3  Percentage of total aid to education allocated...  2010  66.49   \n",
       "4  Percentage of total aid to education allocated...  2010  42.29   \n",
       "\n",
       "                                            Metadata  \n",
       "0  SOURCE: Development Assistance Committee (DAC)...  \n",
       "1  SOURCE: Development Assistance Committee (DAC)...  \n",
       "2  SOURCE: Development Assistance Committee (DAC)...  \n",
       "3  SOURCE: Development Assistance Committee (DAC)...  \n",
       "4  SOURCE: Development Assistance Committee (DAC)...  "
      ]
     },
     "execution_count": 3,
     "metadata": {},
     "output_type": "execute_result"
    }
   ],
   "source": [
    "df1.head()"
   ]
  },
  {
   "cell_type": "code",
   "execution_count": 4,
   "id": "9e6eb971",
   "metadata": {},
   "outputs": [
    {
     "name": "stdout",
     "output_type": "stream",
     "text": [
      "<class 'pandas.core.frame.DataFrame'>\n",
      "RangeIndex: 451 entries, 0 to 450\n",
      "Data columns (total 8 columns):\n",
      " #   Column            Non-Null Count  Dtype  \n",
      "---  ------            --------------  -----  \n",
      " 0   Region            451 non-null    object \n",
      " 1   Country           451 non-null    object \n",
      " 2   Target            451 non-null    float64\n",
      " 3   Indicator Number  451 non-null    object \n",
      " 4   Indicator Name    451 non-null    object \n",
      " 5   Year              451 non-null    int64  \n",
      " 6   Value             451 non-null    float64\n",
      " 7   Metadata          451 non-null    object \n",
      "dtypes: float64(2), int64(1), object(5)\n",
      "memory usage: 28.3+ KB\n"
     ]
    }
   ],
   "source": [
    "df1.info()"
   ]
  },
  {
   "cell_type": "code",
   "execution_count": 5,
   "id": "f713c0c5",
   "metadata": {},
   "outputs": [
    {
     "data": {
      "text/plain": [
       "Index(['Region', 'Country', 'Target', 'Indicator Number', 'Indicator Name',\n",
       "       'Year', 'Value', 'Metadata'],\n",
       "      dtype='object')"
      ]
     },
     "execution_count": 5,
     "metadata": {},
     "output_type": "execute_result"
    }
   ],
   "source": [
    "df1.columns"
   ]
  },
  {
   "cell_type": "code",
   "execution_count": 6,
   "id": "18352e1f",
   "metadata": {
    "scrolled": true
   },
   "outputs": [
    {
     "data": {
      "text/plain": [
       "4.5    451\n",
       "Name: Target, dtype: int64"
      ]
     },
     "execution_count": 6,
     "metadata": {},
     "output_type": "execute_result"
    }
   ],
   "source": [
    "df1['Target'].value_counts()"
   ]
  },
  {
   "cell_type": "code",
   "execution_count": 7,
   "id": "2ba0ddf3",
   "metadata": {},
   "outputs": [
    {
     "data": {
      "text/plain": [
       "array(['Percentage of total aid to education allocated to least developed countries (%)'],\n",
       "      dtype=object)"
      ]
     },
     "execution_count": 7,
     "metadata": {},
     "output_type": "execute_result"
    }
   ],
   "source": [
    "df1['Indicator Name'].unique()"
   ]
  },
  {
   "cell_type": "code",
   "execution_count": 11,
   "id": "f3862f53",
   "metadata": {},
   "outputs": [
    {
     "data": {
      "text/plain": [
       "array(['SOURCE: Development Assistance Committee (DAC) of Organisation for Economic Co-operation and Development (OECD)'],\n",
       "      dtype=object)"
      ]
     },
     "execution_count": 11,
     "metadata": {},
     "output_type": "execute_result"
    }
   ],
   "source": [
    "df1['Metadata'].unique()"
   ]
  },
  {
   "cell_type": "code",
   "execution_count": 9,
   "id": "f51af588",
   "metadata": {},
   "outputs": [],
   "source": [
    "# change name of value column\n",
    "\n",
    "df1['Percentage of total aid to education allocated to least developed countries (%)'] = df1['Value']"
   ]
  },
  {
   "cell_type": "code",
   "execution_count": 10,
   "id": "c39d1019",
   "metadata": {},
   "outputs": [
    {
     "data": {
      "text/html": [
       "<div>\n",
       "<style scoped>\n",
       "    .dataframe tbody tr th:only-of-type {\n",
       "        vertical-align: middle;\n",
       "    }\n",
       "\n",
       "    .dataframe tbody tr th {\n",
       "        vertical-align: top;\n",
       "    }\n",
       "\n",
       "    .dataframe thead th {\n",
       "        text-align: right;\n",
       "    }\n",
       "</style>\n",
       "<table border=\"1\" class=\"dataframe\">\n",
       "  <thead>\n",
       "    <tr style=\"text-align: right;\">\n",
       "      <th></th>\n",
       "      <th>Region</th>\n",
       "      <th>Country</th>\n",
       "      <th>Target</th>\n",
       "      <th>Indicator Number</th>\n",
       "      <th>Indicator Name</th>\n",
       "      <th>Year</th>\n",
       "      <th>Value</th>\n",
       "      <th>Metadata</th>\n",
       "      <th>Percentage of total aid to education allocated to least developed countries (%)</th>\n",
       "    </tr>\n",
       "  </thead>\n",
       "  <tbody>\n",
       "    <tr>\n",
       "      <th>0</th>\n",
       "      <td>SDG: Europe and Northern America</td>\n",
       "      <td>Denmark</td>\n",
       "      <td>4.5</td>\n",
       "      <td>4.5.5</td>\n",
       "      <td>Percentage of total aid to education allocated...</td>\n",
       "      <td>2010</td>\n",
       "      <td>50.08</td>\n",
       "      <td>SOURCE: Development Assistance Committee (DAC)...</td>\n",
       "      <td>50.08</td>\n",
       "    </tr>\n",
       "  </tbody>\n",
       "</table>\n",
       "</div>"
      ],
      "text/plain": [
       "                             Region  Country  Target Indicator Number  \\\n",
       "0  SDG: Europe and Northern America  Denmark     4.5            4.5.5   \n",
       "\n",
       "                                      Indicator Name  Year  Value  \\\n",
       "0  Percentage of total aid to education allocated...  2010  50.08   \n",
       "\n",
       "                                            Metadata  \\\n",
       "0  SOURCE: Development Assistance Committee (DAC)...   \n",
       "\n",
       "   Percentage of total aid to education allocated to least developed countries (%)  \n",
       "0                                              50.08                                "
      ]
     },
     "execution_count": 10,
     "metadata": {},
     "output_type": "execute_result"
    }
   ],
   "source": [
    "df1.head(1)"
   ]
  },
  {
   "cell_type": "code",
   "execution_count": 12,
   "id": "f4ecde7e",
   "metadata": {},
   "outputs": [],
   "source": [
    "# drop irrelevant columns\n",
    "\n",
    "df1.drop(columns=['Value', 'Target', 'Region', 'Indicator Number', 'Indicator Name', 'Metadata'], inplace=True)"
   ]
  },
  {
   "cell_type": "code",
   "execution_count": 13,
   "id": "7231b16a",
   "metadata": {},
   "outputs": [
    {
     "data": {
      "text/html": [
       "<div>\n",
       "<style scoped>\n",
       "    .dataframe tbody tr th:only-of-type {\n",
       "        vertical-align: middle;\n",
       "    }\n",
       "\n",
       "    .dataframe tbody tr th {\n",
       "        vertical-align: top;\n",
       "    }\n",
       "\n",
       "    .dataframe thead th {\n",
       "        text-align: right;\n",
       "    }\n",
       "</style>\n",
       "<table border=\"1\" class=\"dataframe\">\n",
       "  <thead>\n",
       "    <tr style=\"text-align: right;\">\n",
       "      <th></th>\n",
       "      <th>Country</th>\n",
       "      <th>Year</th>\n",
       "      <th>Percentage of total aid to education allocated to least developed countries (%)</th>\n",
       "    </tr>\n",
       "  </thead>\n",
       "  <tbody>\n",
       "    <tr>\n",
       "      <th>0</th>\n",
       "      <td>Denmark</td>\n",
       "      <td>2010</td>\n",
       "      <td>50.08</td>\n",
       "    </tr>\n",
       "    <tr>\n",
       "      <th>1</th>\n",
       "      <td>Germany</td>\n",
       "      <td>2010</td>\n",
       "      <td>14.88</td>\n",
       "    </tr>\n",
       "    <tr>\n",
       "      <th>2</th>\n",
       "      <td>Greece</td>\n",
       "      <td>2010</td>\n",
       "      <td>4.66</td>\n",
       "    </tr>\n",
       "    <tr>\n",
       "      <th>3</th>\n",
       "      <td>Ireland</td>\n",
       "      <td>2010</td>\n",
       "      <td>66.49</td>\n",
       "    </tr>\n",
       "    <tr>\n",
       "      <th>4</th>\n",
       "      <td>Sweden</td>\n",
       "      <td>2010</td>\n",
       "      <td>42.29</td>\n",
       "    </tr>\n",
       "  </tbody>\n",
       "</table>\n",
       "</div>"
      ],
      "text/plain": [
       "   Country  Year  \\\n",
       "0  Denmark  2010   \n",
       "1  Germany  2010   \n",
       "2   Greece  2010   \n",
       "3  Ireland  2010   \n",
       "4   Sweden  2010   \n",
       "\n",
       "   Percentage of total aid to education allocated to least developed countries (%)  \n",
       "0                                              50.08                                \n",
       "1                                              14.88                                \n",
       "2                                               4.66                                \n",
       "3                                              66.49                                \n",
       "4                                              42.29                                "
      ]
     },
     "execution_count": 13,
     "metadata": {},
     "output_type": "execute_result"
    }
   ],
   "source": [
    "df1.head()"
   ]
  },
  {
   "cell_type": "code",
   "execution_count": 31,
   "id": "c32d465a",
   "metadata": {},
   "outputs": [
    {
     "name": "stdout",
     "output_type": "stream",
     "text": [
      "<class 'pandas.core.frame.DataFrame'>\n",
      "RangeIndex: 451 entries, 0 to 450\n",
      "Data columns (total 3 columns):\n",
      " #   Column                                                                           Non-Null Count  Dtype  \n",
      "---  ------                                                                           --------------  -----  \n",
      " 0   Country                                                                          451 non-null    object \n",
      " 1   Year                                                                             451 non-null    int64  \n",
      " 2   Percentage of total aid to education allocated to least developed countries (%)  451 non-null    float64\n",
      "dtypes: float64(1), int64(1), object(1)\n",
      "memory usage: 10.7+ KB\n"
     ]
    }
   ],
   "source": [
    "df1.info()"
   ]
  },
  {
   "cell_type": "code",
   "execution_count": 18,
   "id": "9b63a172",
   "metadata": {},
   "outputs": [],
   "source": [
    "least_developed_countries = df1['Country'].unique()"
   ]
  },
  {
   "cell_type": "code",
   "execution_count": 19,
   "id": "7695849d",
   "metadata": {},
   "outputs": [
    {
     "data": {
      "text/plain": [
       "array(['Denmark', 'Germany', 'Greece', 'Ireland', 'Sweden', 'Austria',\n",
       "       'United States of America', 'Netherlands', 'Portugal', 'Slovenia',\n",
       "       'New Zealand',\n",
       "       'United Kingdom of Great Britain and Northern Ireland', 'Belgium',\n",
       "       'United Arab Emirates', 'Republic of Korea', 'Finland', 'Italy',\n",
       "       'Japan', 'Canada', 'Norway', 'Switzerland', 'Spain', 'Luxembourg',\n",
       "       'France', 'Australia', 'Czechia', 'Iceland', 'Kuwait', 'Poland',\n",
       "       'Slovakia', 'Estonia', 'Romania', 'Hungary', 'Kazakhstan',\n",
       "       'Saudi Arabia', 'Latvia', 'Lithuania', 'Croatia', 'Türkiye',\n",
       "       'Qatar', 'Liechtenstein', 'Malta', 'Israel', 'Thailand',\n",
       "       'Bulgaria'], dtype=object)"
      ]
     },
     "execution_count": 19,
     "metadata": {},
     "output_type": "execute_result"
    }
   ],
   "source": [
    "least_developed_countries"
   ]
  },
  {
   "cell_type": "markdown",
   "id": "f2d89b54",
   "metadata": {},
   "source": [
    "### Initial government expenditure on education as a percentage of GDP (%)"
   ]
  },
  {
   "cell_type": "code",
   "execution_count": 21,
   "id": "354ccdfd",
   "metadata": {},
   "outputs": [
    {
     "data": {
      "text/html": [
       "<div>\n",
       "<style scoped>\n",
       "    .dataframe tbody tr th:only-of-type {\n",
       "        vertical-align: middle;\n",
       "    }\n",
       "\n",
       "    .dataframe tbody tr th {\n",
       "        vertical-align: top;\n",
       "    }\n",
       "\n",
       "    .dataframe thead th {\n",
       "        text-align: right;\n",
       "    }\n",
       "</style>\n",
       "<table border=\"1\" class=\"dataframe\">\n",
       "  <thead>\n",
       "    <tr style=\"text-align: right;\">\n",
       "      <th></th>\n",
       "      <th>Region</th>\n",
       "      <th>Country</th>\n",
       "      <th>Target</th>\n",
       "      <th>Indicator Number</th>\n",
       "      <th>Indicator Name</th>\n",
       "      <th>Year</th>\n",
       "      <th>Value</th>\n",
       "      <th>Metadata</th>\n",
       "    </tr>\n",
       "  </thead>\n",
       "  <tbody>\n",
       "    <tr>\n",
       "      <th>0</th>\n",
       "      <td>SDG: Latin America and the Caribbean</td>\n",
       "      <td>Guyana</td>\n",
       "      <td>4.5</td>\n",
       "      <td>4.5.6</td>\n",
       "      <td>Initial government expenditure on education as...</td>\n",
       "      <td>2010</td>\n",
       "      <td>2.37</td>\n",
       "      <td>SOURCE: UIS/UOE data</td>\n",
       "    </tr>\n",
       "    <tr>\n",
       "      <th>1</th>\n",
       "      <td>SDG: Central and Southern Asia</td>\n",
       "      <td>Iran (Islamic Republic of)</td>\n",
       "      <td>4.5</td>\n",
       "      <td>4.5.6</td>\n",
       "      <td>Initial government expenditure on education as...</td>\n",
       "      <td>2010</td>\n",
       "      <td>3.71</td>\n",
       "      <td>SOURCE: UIS/UOE data; int'l transfers subtract...</td>\n",
       "    </tr>\n",
       "    <tr>\n",
       "      <th>2</th>\n",
       "      <td>SDG: Sub-Saharan Africa</td>\n",
       "      <td>Niger</td>\n",
       "      <td>4.5</td>\n",
       "      <td>4.5.6</td>\n",
       "      <td>Initial government expenditure on education as...</td>\n",
       "      <td>2010</td>\n",
       "      <td>2.72</td>\n",
       "      <td>SOURCE: UIS/UOE data</td>\n",
       "    </tr>\n",
       "    <tr>\n",
       "      <th>3</th>\n",
       "      <td>SDG: Sub-Saharan Africa</td>\n",
       "      <td>Uganda</td>\n",
       "      <td>4.5</td>\n",
       "      <td>4.5.6</td>\n",
       "      <td>Initial government expenditure on education as...</td>\n",
       "      <td>2010</td>\n",
       "      <td>1.73</td>\n",
       "      <td>SOURCE: UIS/UOE data</td>\n",
       "    </tr>\n",
       "    <tr>\n",
       "      <th>4</th>\n",
       "      <td>SDG: Eastern and South-Eastern Asia</td>\n",
       "      <td>Brunei Darussalam</td>\n",
       "      <td>4.5</td>\n",
       "      <td>4.5.6</td>\n",
       "      <td>Initial government expenditure on education as...</td>\n",
       "      <td>2010</td>\n",
       "      <td>2.05</td>\n",
       "      <td>SOURCE: UIS/UOE data</td>\n",
       "    </tr>\n",
       "  </tbody>\n",
       "</table>\n",
       "</div>"
      ],
      "text/plain": [
       "                                 Region                     Country  Target  \\\n",
       "0  SDG: Latin America and the Caribbean                      Guyana     4.5   \n",
       "1        SDG: Central and Southern Asia  Iran (Islamic Republic of)     4.5   \n",
       "2               SDG: Sub-Saharan Africa                       Niger     4.5   \n",
       "3               SDG: Sub-Saharan Africa                      Uganda     4.5   \n",
       "4   SDG: Eastern and South-Eastern Asia           Brunei Darussalam     4.5   \n",
       "\n",
       "  Indicator Number                                     Indicator Name  Year  \\\n",
       "0            4.5.6  Initial government expenditure on education as...  2010   \n",
       "1            4.5.6  Initial government expenditure on education as...  2010   \n",
       "2            4.5.6  Initial government expenditure on education as...  2010   \n",
       "3            4.5.6  Initial government expenditure on education as...  2010   \n",
       "4            4.5.6  Initial government expenditure on education as...  2010   \n",
       "\n",
       "   Value                                           Metadata  \n",
       "0   2.37                               SOURCE: UIS/UOE data  \n",
       "1   3.71  SOURCE: UIS/UOE data; int'l transfers subtract...  \n",
       "2   2.72                               SOURCE: UIS/UOE data  \n",
       "3   1.73                               SOURCE: UIS/UOE data  \n",
       "4   2.05                               SOURCE: UIS/UOE data  "
      ]
     },
     "execution_count": 21,
     "metadata": {},
     "output_type": "execute_result"
    }
   ],
   "source": [
    "df2.head()"
   ]
  },
  {
   "cell_type": "code",
   "execution_count": 22,
   "id": "3ef3c5b3",
   "metadata": {},
   "outputs": [
    {
     "name": "stdout",
     "output_type": "stream",
     "text": [
      "<class 'pandas.core.frame.DataFrame'>\n",
      "RangeIndex: 1346 entries, 0 to 1345\n",
      "Data columns (total 8 columns):\n",
      " #   Column            Non-Null Count  Dtype  \n",
      "---  ------            --------------  -----  \n",
      " 0   Region            1346 non-null   object \n",
      " 1   Country           1346 non-null   object \n",
      " 2   Target            1346 non-null   float64\n",
      " 3   Indicator Number  1346 non-null   object \n",
      " 4   Indicator Name    1346 non-null   object \n",
      " 5   Year              1346 non-null   int64  \n",
      " 6   Value             1346 non-null   float64\n",
      " 7   Metadata          1271 non-null   object \n",
      "dtypes: float64(2), int64(1), object(5)\n",
      "memory usage: 84.3+ KB\n"
     ]
    }
   ],
   "source": [
    "df2.info()"
   ]
  },
  {
   "cell_type": "code",
   "execution_count": 23,
   "id": "565f9b5b",
   "metadata": {},
   "outputs": [
    {
     "data": {
      "text/plain": [
       "Index(['Region', 'Country', 'Target', 'Indicator Number', 'Indicator Name',\n",
       "       'Year', 'Value', 'Metadata'],\n",
       "      dtype='object')"
      ]
     },
     "execution_count": 23,
     "metadata": {},
     "output_type": "execute_result"
    }
   ],
   "source": [
    "df2.columns"
   ]
  },
  {
   "cell_type": "code",
   "execution_count": 24,
   "id": "86d0148c",
   "metadata": {},
   "outputs": [
    {
     "data": {
      "text/plain": [
       "array(['Initial government expenditure on education as a percentage of GDP (%)'],\n",
       "      dtype=object)"
      ]
     },
     "execution_count": 24,
     "metadata": {},
     "output_type": "execute_result"
    }
   ],
   "source": [
    "df2['Indicator Name'].unique()"
   ]
  },
  {
   "cell_type": "code",
   "execution_count": 25,
   "id": "51c3de8f",
   "metadata": {},
   "outputs": [],
   "source": [
    "# change name of value column\n",
    "\n",
    "df2['Initial government expenditure on education as a percentage of GDP (%)'] = df2['Value']"
   ]
  },
  {
   "cell_type": "code",
   "execution_count": 26,
   "id": "dee78c67",
   "metadata": {},
   "outputs": [
    {
     "data": {
      "text/html": [
       "<div>\n",
       "<style scoped>\n",
       "    .dataframe tbody tr th:only-of-type {\n",
       "        vertical-align: middle;\n",
       "    }\n",
       "\n",
       "    .dataframe tbody tr th {\n",
       "        vertical-align: top;\n",
       "    }\n",
       "\n",
       "    .dataframe thead th {\n",
       "        text-align: right;\n",
       "    }\n",
       "</style>\n",
       "<table border=\"1\" class=\"dataframe\">\n",
       "  <thead>\n",
       "    <tr style=\"text-align: right;\">\n",
       "      <th></th>\n",
       "      <th>Region</th>\n",
       "      <th>Country</th>\n",
       "      <th>Target</th>\n",
       "      <th>Indicator Number</th>\n",
       "      <th>Indicator Name</th>\n",
       "      <th>Year</th>\n",
       "      <th>Value</th>\n",
       "      <th>Metadata</th>\n",
       "      <th>Initial government expenditure on education as a percentage of GDP (%)</th>\n",
       "    </tr>\n",
       "  </thead>\n",
       "  <tbody>\n",
       "    <tr>\n",
       "      <th>0</th>\n",
       "      <td>SDG: Latin America and the Caribbean</td>\n",
       "      <td>Guyana</td>\n",
       "      <td>4.5</td>\n",
       "      <td>4.5.6</td>\n",
       "      <td>Initial government expenditure on education as...</td>\n",
       "      <td>2010</td>\n",
       "      <td>2.37</td>\n",
       "      <td>SOURCE: UIS/UOE data</td>\n",
       "      <td>2.37</td>\n",
       "    </tr>\n",
       "  </tbody>\n",
       "</table>\n",
       "</div>"
      ],
      "text/plain": [
       "                                 Region Country  Target Indicator Number  \\\n",
       "0  SDG: Latin America and the Caribbean  Guyana     4.5            4.5.6   \n",
       "\n",
       "                                      Indicator Name  Year  Value  \\\n",
       "0  Initial government expenditure on education as...  2010   2.37   \n",
       "\n",
       "               Metadata  \\\n",
       "0  SOURCE: UIS/UOE data   \n",
       "\n",
       "   Initial government expenditure on education as a percentage of GDP (%)  \n",
       "0                                               2.37                       "
      ]
     },
     "execution_count": 26,
     "metadata": {},
     "output_type": "execute_result"
    }
   ],
   "source": [
    "df2.head(1)"
   ]
  },
  {
   "cell_type": "code",
   "execution_count": 28,
   "id": "30a98771",
   "metadata": {},
   "outputs": [],
   "source": [
    "df2.drop(columns=['Region', 'Target', 'Indicator Number', 'Indicator Name', 'Value', 'Metadata'], inplace=True)"
   ]
  },
  {
   "cell_type": "code",
   "execution_count": 29,
   "id": "46a8bcd5",
   "metadata": {},
   "outputs": [
    {
     "data": {
      "text/html": [
       "<div>\n",
       "<style scoped>\n",
       "    .dataframe tbody tr th:only-of-type {\n",
       "        vertical-align: middle;\n",
       "    }\n",
       "\n",
       "    .dataframe tbody tr th {\n",
       "        vertical-align: top;\n",
       "    }\n",
       "\n",
       "    .dataframe thead th {\n",
       "        text-align: right;\n",
       "    }\n",
       "</style>\n",
       "<table border=\"1\" class=\"dataframe\">\n",
       "  <thead>\n",
       "    <tr style=\"text-align: right;\">\n",
       "      <th></th>\n",
       "      <th>Country</th>\n",
       "      <th>Year</th>\n",
       "      <th>Initial government expenditure on education as a percentage of GDP (%)</th>\n",
       "    </tr>\n",
       "  </thead>\n",
       "  <tbody>\n",
       "    <tr>\n",
       "      <th>0</th>\n",
       "      <td>Guyana</td>\n",
       "      <td>2010</td>\n",
       "      <td>2.37</td>\n",
       "    </tr>\n",
       "  </tbody>\n",
       "</table>\n",
       "</div>"
      ],
      "text/plain": [
       "  Country  Year  \\\n",
       "0  Guyana  2010   \n",
       "\n",
       "   Initial government expenditure on education as a percentage of GDP (%)  \n",
       "0                                               2.37                       "
      ]
     },
     "execution_count": 29,
     "metadata": {},
     "output_type": "execute_result"
    }
   ],
   "source": [
    "df2.head(1)"
   ]
  },
  {
   "cell_type": "code",
   "execution_count": 30,
   "id": "2cfbf8d4",
   "metadata": {},
   "outputs": [
    {
     "name": "stdout",
     "output_type": "stream",
     "text": [
      "<class 'pandas.core.frame.DataFrame'>\n",
      "RangeIndex: 1346 entries, 0 to 1345\n",
      "Data columns (total 3 columns):\n",
      " #   Column                                                                  Non-Null Count  Dtype  \n",
      "---  ------                                                                  --------------  -----  \n",
      " 0   Country                                                                 1346 non-null   object \n",
      " 1   Year                                                                    1346 non-null   int64  \n",
      " 2   Initial government expenditure on education as a percentage of GDP (%)  1346 non-null   float64\n",
      "dtypes: float64(1), int64(1), object(1)\n",
      "memory usage: 31.7+ KB\n"
     ]
    }
   ],
   "source": [
    "df2.info()"
   ]
  },
  {
   "cell_type": "markdown",
   "id": "1a1db0a8",
   "metadata": {},
   "source": [
    "### Initial private expenditure on education (household) as a percentage of GDP (%)"
   ]
  },
  {
   "cell_type": "code",
   "execution_count": 33,
   "id": "6a5712be",
   "metadata": {},
   "outputs": [
    {
     "data": {
      "text/html": [
       "<div>\n",
       "<style scoped>\n",
       "    .dataframe tbody tr th:only-of-type {\n",
       "        vertical-align: middle;\n",
       "    }\n",
       "\n",
       "    .dataframe tbody tr th {\n",
       "        vertical-align: top;\n",
       "    }\n",
       "\n",
       "    .dataframe thead th {\n",
       "        text-align: right;\n",
       "    }\n",
       "</style>\n",
       "<table border=\"1\" class=\"dataframe\">\n",
       "  <thead>\n",
       "    <tr style=\"text-align: right;\">\n",
       "      <th></th>\n",
       "      <th>Region</th>\n",
       "      <th>Country</th>\n",
       "      <th>Target</th>\n",
       "      <th>Indicator Number</th>\n",
       "      <th>Indicator Name</th>\n",
       "      <th>Year</th>\n",
       "      <th>Value</th>\n",
       "      <th>Metadata</th>\n",
       "    </tr>\n",
       "  </thead>\n",
       "  <tbody>\n",
       "    <tr>\n",
       "      <th>0</th>\n",
       "      <td>SDG: Sub-Saharan Africa</td>\n",
       "      <td>Mali</td>\n",
       "      <td>4.5</td>\n",
       "      <td>4.5.6</td>\n",
       "      <td>Initial private expenditure on education (hous...</td>\n",
       "      <td>2010</td>\n",
       "      <td>0.39</td>\n",
       "      <td>SOURCE: UIS/UOE data QUALIFIER: This data poin...</td>\n",
       "    </tr>\n",
       "    <tr>\n",
       "      <th>1</th>\n",
       "      <td>SDG: Latin America and the Caribbean</td>\n",
       "      <td>Mexico</td>\n",
       "      <td>4.5</td>\n",
       "      <td>4.5.6</td>\n",
       "      <td>Initial private expenditure on education (hous...</td>\n",
       "      <td>2010</td>\n",
       "      <td>1.13</td>\n",
       "      <td>SOURCE: OECD data</td>\n",
       "    </tr>\n",
       "    <tr>\n",
       "      <th>2</th>\n",
       "      <td>SDG: Latin America and the Caribbean</td>\n",
       "      <td>Cuba</td>\n",
       "      <td>4.5</td>\n",
       "      <td>4.5.6</td>\n",
       "      <td>Initial private expenditure on education (hous...</td>\n",
       "      <td>2010</td>\n",
       "      <td>0.12</td>\n",
       "      <td>SOURCE: UIS/UOE data</td>\n",
       "    </tr>\n",
       "    <tr>\n",
       "      <th>3</th>\n",
       "      <td>SDG: Europe and Northern America</td>\n",
       "      <td>Slovakia</td>\n",
       "      <td>4.5</td>\n",
       "      <td>4.5.6</td>\n",
       "      <td>Initial private expenditure on education (hous...</td>\n",
       "      <td>2010</td>\n",
       "      <td>0.76</td>\n",
       "      <td>SOURCE: UIS/UOE data</td>\n",
       "    </tr>\n",
       "    <tr>\n",
       "      <th>4</th>\n",
       "      <td>SDG: Sub-Saharan Africa</td>\n",
       "      <td>Niger</td>\n",
       "      <td>4.5</td>\n",
       "      <td>4.5.6</td>\n",
       "      <td>Initial private expenditure on education (hous...</td>\n",
       "      <td>2010</td>\n",
       "      <td>0.38</td>\n",
       "      <td>SOURCE: UIS/UOE data</td>\n",
       "    </tr>\n",
       "  </tbody>\n",
       "</table>\n",
       "</div>"
      ],
      "text/plain": [
       "                                 Region   Country  Target Indicator Number  \\\n",
       "0               SDG: Sub-Saharan Africa      Mali     4.5            4.5.6   \n",
       "1  SDG: Latin America and the Caribbean    Mexico     4.5            4.5.6   \n",
       "2  SDG: Latin America and the Caribbean      Cuba     4.5            4.5.6   \n",
       "3      SDG: Europe and Northern America  Slovakia     4.5            4.5.6   \n",
       "4               SDG: Sub-Saharan Africa     Niger     4.5            4.5.6   \n",
       "\n",
       "                                      Indicator Name  Year  Value  \\\n",
       "0  Initial private expenditure on education (hous...  2010   0.39   \n",
       "1  Initial private expenditure on education (hous...  2010   1.13   \n",
       "2  Initial private expenditure on education (hous...  2010   0.12   \n",
       "3  Initial private expenditure on education (hous...  2010   0.76   \n",
       "4  Initial private expenditure on education (hous...  2010   0.38   \n",
       "\n",
       "                                            Metadata  \n",
       "0  SOURCE: UIS/UOE data QUALIFIER: This data poin...  \n",
       "1                                  SOURCE: OECD data  \n",
       "2                               SOURCE: UIS/UOE data  \n",
       "3                               SOURCE: UIS/UOE data  \n",
       "4                               SOURCE: UIS/UOE data  "
      ]
     },
     "execution_count": 33,
     "metadata": {},
     "output_type": "execute_result"
    }
   ],
   "source": [
    "df3.head()"
   ]
  },
  {
   "cell_type": "code",
   "execution_count": 34,
   "id": "b1bca5ac",
   "metadata": {},
   "outputs": [
    {
     "name": "stdout",
     "output_type": "stream",
     "text": [
      "<class 'pandas.core.frame.DataFrame'>\n",
      "RangeIndex: 590 entries, 0 to 589\n",
      "Data columns (total 8 columns):\n",
      " #   Column            Non-Null Count  Dtype  \n",
      "---  ------            --------------  -----  \n",
      " 0   Region            590 non-null    object \n",
      " 1   Country           590 non-null    object \n",
      " 2   Target            590 non-null    float64\n",
      " 3   Indicator Number  590 non-null    object \n",
      " 4   Indicator Name    590 non-null    object \n",
      " 5   Year              590 non-null    int64  \n",
      " 6   Value             590 non-null    float64\n",
      " 7   Metadata          549 non-null    object \n",
      "dtypes: float64(2), int64(1), object(5)\n",
      "memory usage: 37.0+ KB\n"
     ]
    }
   ],
   "source": [
    "df3.info()"
   ]
  },
  {
   "cell_type": "code",
   "execution_count": 36,
   "id": "e6e19964",
   "metadata": {},
   "outputs": [
    {
     "data": {
      "text/plain": [
       "array(['Initial private expenditure on education (household) as a percentage of GDP (%)'],\n",
       "      dtype=object)"
      ]
     },
     "execution_count": 36,
     "metadata": {},
     "output_type": "execute_result"
    }
   ],
   "source": [
    "df3['Indicator Name'].unique()"
   ]
  },
  {
   "cell_type": "code",
   "execution_count": 37,
   "id": "5b85782b",
   "metadata": {},
   "outputs": [],
   "source": [
    "# change name of value column\n",
    "\n",
    "df3['Initial private expenditure on education (household) as a percentage of GDP (%)'] = df3['Value']"
   ]
  },
  {
   "cell_type": "code",
   "execution_count": 38,
   "id": "2c31dcc9",
   "metadata": {},
   "outputs": [],
   "source": [
    "df3.drop(columns=['Region', 'Target', 'Indicator Number', 'Indicator Name', 'Value', 'Metadata'], inplace=True)"
   ]
  },
  {
   "cell_type": "code",
   "execution_count": 39,
   "id": "60cf2f78",
   "metadata": {},
   "outputs": [
    {
     "data": {
      "text/html": [
       "<div>\n",
       "<style scoped>\n",
       "    .dataframe tbody tr th:only-of-type {\n",
       "        vertical-align: middle;\n",
       "    }\n",
       "\n",
       "    .dataframe tbody tr th {\n",
       "        vertical-align: top;\n",
       "    }\n",
       "\n",
       "    .dataframe thead th {\n",
       "        text-align: right;\n",
       "    }\n",
       "</style>\n",
       "<table border=\"1\" class=\"dataframe\">\n",
       "  <thead>\n",
       "    <tr style=\"text-align: right;\">\n",
       "      <th></th>\n",
       "      <th>Country</th>\n",
       "      <th>Year</th>\n",
       "      <th>Initial private expenditure on education (household) as a percentage of GDP (%)</th>\n",
       "    </tr>\n",
       "  </thead>\n",
       "  <tbody>\n",
       "    <tr>\n",
       "      <th>0</th>\n",
       "      <td>Mali</td>\n",
       "      <td>2010</td>\n",
       "      <td>0.39</td>\n",
       "    </tr>\n",
       "  </tbody>\n",
       "</table>\n",
       "</div>"
      ],
      "text/plain": [
       "  Country  Year  \\\n",
       "0    Mali  2010   \n",
       "\n",
       "   Initial private expenditure on education (household) as a percentage of GDP (%)  \n",
       "0                                               0.39                                "
      ]
     },
     "execution_count": 39,
     "metadata": {},
     "output_type": "execute_result"
    }
   ],
   "source": [
    "df3.head(1)"
   ]
  },
  {
   "cell_type": "code",
   "execution_count": 40,
   "id": "c4f506b0",
   "metadata": {},
   "outputs": [
    {
     "name": "stdout",
     "output_type": "stream",
     "text": [
      "<class 'pandas.core.frame.DataFrame'>\n",
      "RangeIndex: 590 entries, 0 to 589\n",
      "Data columns (total 3 columns):\n",
      " #   Column                                                                           Non-Null Count  Dtype  \n",
      "---  ------                                                                           --------------  -----  \n",
      " 0   Country                                                                          590 non-null    object \n",
      " 1   Year                                                                             590 non-null    int64  \n",
      " 2   Initial private expenditure on education (household) as a percentage of GDP (%)  590 non-null    float64\n",
      "dtypes: float64(1), int64(1), object(1)\n",
      "memory usage: 14.0+ KB\n"
     ]
    }
   ],
   "source": [
    "df3.info()"
   ]
  },
  {
   "cell_type": "markdown",
   "id": "8666b46c",
   "metadata": {},
   "source": [
    "### Initial private expenditure on education (other non-educational private entities) as a percentage of GDP (%)"
   ]
  },
  {
   "cell_type": "code",
   "execution_count": 47,
   "id": "fe4415d1",
   "metadata": {},
   "outputs": [
    {
     "data": {
      "text/html": [
       "<div>\n",
       "<style scoped>\n",
       "    .dataframe tbody tr th:only-of-type {\n",
       "        vertical-align: middle;\n",
       "    }\n",
       "\n",
       "    .dataframe tbody tr th {\n",
       "        vertical-align: top;\n",
       "    }\n",
       "\n",
       "    .dataframe thead th {\n",
       "        text-align: right;\n",
       "    }\n",
       "</style>\n",
       "<table border=\"1\" class=\"dataframe\">\n",
       "  <thead>\n",
       "    <tr style=\"text-align: right;\">\n",
       "      <th></th>\n",
       "      <th>Region</th>\n",
       "      <th>Country</th>\n",
       "      <th>Target</th>\n",
       "      <th>Indicator Number</th>\n",
       "      <th>Indicator Name</th>\n",
       "      <th>Year</th>\n",
       "      <th>Value</th>\n",
       "      <th>Metadata</th>\n",
       "    </tr>\n",
       "  </thead>\n",
       "  <tbody>\n",
       "    <tr>\n",
       "      <th>0</th>\n",
       "      <td>SDG: Europe and Northern America</td>\n",
       "      <td>Austria</td>\n",
       "      <td>4.5</td>\n",
       "      <td>4.5.6</td>\n",
       "      <td>Initial private expenditure on education (othe...</td>\n",
       "      <td>2010</td>\n",
       "      <td>0.30</td>\n",
       "      <td>SOURCE: UIS/UOE data</td>\n",
       "    </tr>\n",
       "    <tr>\n",
       "      <th>1</th>\n",
       "      <td>SDG: Latin America and the Caribbean</td>\n",
       "      <td>Colombia</td>\n",
       "      <td>4.5</td>\n",
       "      <td>4.5.6</td>\n",
       "      <td>Initial private expenditure on education (othe...</td>\n",
       "      <td>2010</td>\n",
       "      <td>0.01</td>\n",
       "      <td>SOURCE: UIS/UOE data</td>\n",
       "    </tr>\n",
       "    <tr>\n",
       "      <th>2</th>\n",
       "      <td>SDG: Europe and Northern America</td>\n",
       "      <td>Denmark</td>\n",
       "      <td>4.5</td>\n",
       "      <td>4.5.6</td>\n",
       "      <td>Initial private expenditure on education (othe...</td>\n",
       "      <td>2010</td>\n",
       "      <td>0.08</td>\n",
       "      <td>SOURCE: UIS/UOE data</td>\n",
       "    </tr>\n",
       "    <tr>\n",
       "      <th>3</th>\n",
       "      <td>SDG: Latin America and the Caribbean</td>\n",
       "      <td>Dominica</td>\n",
       "      <td>4.5</td>\n",
       "      <td>4.5.6</td>\n",
       "      <td>Initial private expenditure on education (othe...</td>\n",
       "      <td>2010</td>\n",
       "      <td>0.00</td>\n",
       "      <td>SOURCE: UIS/UOE data Magnitude NIL</td>\n",
       "    </tr>\n",
       "    <tr>\n",
       "      <th>4</th>\n",
       "      <td>SDG: Northern Africa and Western Asia</td>\n",
       "      <td>Israel</td>\n",
       "      <td>4.5</td>\n",
       "      <td>4.5.6</td>\n",
       "      <td>Initial private expenditure on education (othe...</td>\n",
       "      <td>2010</td>\n",
       "      <td>0.48</td>\n",
       "      <td>SOURCE: UIS/UOE data</td>\n",
       "    </tr>\n",
       "  </tbody>\n",
       "</table>\n",
       "</div>"
      ],
      "text/plain": [
       "                                  Region   Country  Target Indicator Number  \\\n",
       "0       SDG: Europe and Northern America   Austria     4.5            4.5.6   \n",
       "1   SDG: Latin America and the Caribbean  Colombia     4.5            4.5.6   \n",
       "2       SDG: Europe and Northern America   Denmark     4.5            4.5.6   \n",
       "3   SDG: Latin America and the Caribbean  Dominica     4.5            4.5.6   \n",
       "4  SDG: Northern Africa and Western Asia    Israel     4.5            4.5.6   \n",
       "\n",
       "                                      Indicator Name  Year  Value  \\\n",
       "0  Initial private expenditure on education (othe...  2010   0.30   \n",
       "1  Initial private expenditure on education (othe...  2010   0.01   \n",
       "2  Initial private expenditure on education (othe...  2010   0.08   \n",
       "3  Initial private expenditure on education (othe...  2010   0.00   \n",
       "4  Initial private expenditure on education (othe...  2010   0.48   \n",
       "\n",
       "                             Metadata  \n",
       "0                SOURCE: UIS/UOE data  \n",
       "1                SOURCE: UIS/UOE data  \n",
       "2                SOURCE: UIS/UOE data  \n",
       "3  SOURCE: UIS/UOE data Magnitude NIL  \n",
       "4                SOURCE: UIS/UOE data  "
      ]
     },
     "execution_count": 47,
     "metadata": {},
     "output_type": "execute_result"
    }
   ],
   "source": [
    "df4.head()"
   ]
  },
  {
   "cell_type": "code",
   "execution_count": 48,
   "id": "fa69c46d",
   "metadata": {},
   "outputs": [
    {
     "name": "stdout",
     "output_type": "stream",
     "text": [
      "<class 'pandas.core.frame.DataFrame'>\n",
      "RangeIndex: 494 entries, 0 to 493\n",
      "Data columns (total 8 columns):\n",
      " #   Column            Non-Null Count  Dtype  \n",
      "---  ------            --------------  -----  \n",
      " 0   Region            494 non-null    object \n",
      " 1   Country           494 non-null    object \n",
      " 2   Target            494 non-null    float64\n",
      " 3   Indicator Number  494 non-null    object \n",
      " 4   Indicator Name    494 non-null    object \n",
      " 5   Year              494 non-null    int64  \n",
      " 6   Value             494 non-null    float64\n",
      " 7   Metadata          494 non-null    object \n",
      "dtypes: float64(2), int64(1), object(5)\n",
      "memory usage: 31.0+ KB\n"
     ]
    }
   ],
   "source": [
    "df4.info()"
   ]
  },
  {
   "cell_type": "code",
   "execution_count": 49,
   "id": "47de1ad3",
   "metadata": {},
   "outputs": [
    {
     "data": {
      "text/plain": [
       "array(['Initial private expenditure on education (other non-educational private entities) as a percentage of GDP (%)'],\n",
       "      dtype=object)"
      ]
     },
     "execution_count": 49,
     "metadata": {},
     "output_type": "execute_result"
    }
   ],
   "source": [
    "df4['Indicator Name'].unique()"
   ]
  },
  {
   "cell_type": "code",
   "execution_count": 50,
   "id": "2fe9169c",
   "metadata": {},
   "outputs": [],
   "source": [
    "# change name of value column\n",
    "\n",
    "df4['Initial private expenditure on education (other non-educational private entities) as a percentage of GDP (%)'] = df4['Value']"
   ]
  },
  {
   "cell_type": "code",
   "execution_count": 51,
   "id": "3bb62e36",
   "metadata": {},
   "outputs": [],
   "source": [
    "df4.drop(columns=['Region', 'Target', 'Indicator Number', 'Indicator Name', 'Value', 'Metadata'], inplace=True)"
   ]
  },
  {
   "cell_type": "code",
   "execution_count": 53,
   "id": "7f4d9808",
   "metadata": {},
   "outputs": [
    {
     "data": {
      "text/html": [
       "<div>\n",
       "<style scoped>\n",
       "    .dataframe tbody tr th:only-of-type {\n",
       "        vertical-align: middle;\n",
       "    }\n",
       "\n",
       "    .dataframe tbody tr th {\n",
       "        vertical-align: top;\n",
       "    }\n",
       "\n",
       "    .dataframe thead th {\n",
       "        text-align: right;\n",
       "    }\n",
       "</style>\n",
       "<table border=\"1\" class=\"dataframe\">\n",
       "  <thead>\n",
       "    <tr style=\"text-align: right;\">\n",
       "      <th></th>\n",
       "      <th>Country</th>\n",
       "      <th>Year</th>\n",
       "      <th>Initial private expenditure on education (other non-educational private entities) as a percentage of GDP (%)</th>\n",
       "    </tr>\n",
       "  </thead>\n",
       "  <tbody>\n",
       "    <tr>\n",
       "      <th>0</th>\n",
       "      <td>Austria</td>\n",
       "      <td>2010</td>\n",
       "      <td>0.3</td>\n",
       "    </tr>\n",
       "  </tbody>\n",
       "</table>\n",
       "</div>"
      ],
      "text/plain": [
       "   Country  Year  \\\n",
       "0  Austria  2010   \n",
       "\n",
       "   Initial private expenditure on education (other non-educational private entities) as a percentage of GDP (%)  \n",
       "0                                                0.3                                                             "
      ]
     },
     "execution_count": 53,
     "metadata": {},
     "output_type": "execute_result"
    }
   ],
   "source": [
    "df4.head(1)"
   ]
  },
  {
   "cell_type": "code",
   "execution_count": 54,
   "id": "584b46e6",
   "metadata": {},
   "outputs": [
    {
     "name": "stdout",
     "output_type": "stream",
     "text": [
      "<class 'pandas.core.frame.DataFrame'>\n",
      "RangeIndex: 494 entries, 0 to 493\n",
      "Data columns (total 3 columns):\n",
      " #   Column                                                                                                        Non-Null Count  Dtype  \n",
      "---  ------                                                                                                        --------------  -----  \n",
      " 0   Country                                                                                                       494 non-null    object \n",
      " 1   Year                                                                                                          494 non-null    int64  \n",
      " 2   Initial private expenditure on education (other non-educational private entities) as a percentage of GDP (%)  494 non-null    float64\n",
      "dtypes: float64(1), int64(1), object(1)\n",
      "memory usage: 11.7+ KB\n"
     ]
    }
   ],
   "source": [
    "df4.info()"
   ]
  },
  {
   "cell_type": "markdown",
   "id": "d31d6b37",
   "metadata": {},
   "source": [
    "### Expenditure on education (public, private, international) as a percentage of GDP"
   ]
  },
  {
   "cell_type": "code",
   "execution_count": 56,
   "id": "ac01da24",
   "metadata": {},
   "outputs": [
    {
     "data": {
      "text/html": [
       "<div>\n",
       "<style scoped>\n",
       "    .dataframe tbody tr th:only-of-type {\n",
       "        vertical-align: middle;\n",
       "    }\n",
       "\n",
       "    .dataframe tbody tr th {\n",
       "        vertical-align: top;\n",
       "    }\n",
       "\n",
       "    .dataframe thead th {\n",
       "        text-align: right;\n",
       "    }\n",
       "</style>\n",
       "<table border=\"1\" class=\"dataframe\">\n",
       "  <thead>\n",
       "    <tr style=\"text-align: right;\">\n",
       "      <th></th>\n",
       "      <th>Region</th>\n",
       "      <th>Country</th>\n",
       "      <th>Target</th>\n",
       "      <th>Indicator Number</th>\n",
       "      <th>Indicator Name</th>\n",
       "      <th>Year</th>\n",
       "      <th>Value</th>\n",
       "      <th>Metadata</th>\n",
       "    </tr>\n",
       "  </thead>\n",
       "  <tbody>\n",
       "    <tr>\n",
       "      <th>0</th>\n",
       "      <td>SDG: Europe and Northern America</td>\n",
       "      <td>Portugal</td>\n",
       "      <td>4.5</td>\n",
       "      <td>4.5.6</td>\n",
       "      <td>Expenditure on education (public, private, int...</td>\n",
       "      <td>2010</td>\n",
       "      <td>5.93</td>\n",
       "      <td>SOURCE: UIS estimate based on data available f...</td>\n",
       "    </tr>\n",
       "    <tr>\n",
       "      <th>1</th>\n",
       "      <td>SDG: Europe and Northern America</td>\n",
       "      <td>United Kingdom of Great Britain and Northern I...</td>\n",
       "      <td>4.5</td>\n",
       "      <td>4.5.6</td>\n",
       "      <td>Expenditure on education (public, private, int...</td>\n",
       "      <td>2010</td>\n",
       "      <td>7.34</td>\n",
       "      <td>SOURCE: UIS estimate based on data available f...</td>\n",
       "    </tr>\n",
       "    <tr>\n",
       "      <th>2</th>\n",
       "      <td>SDG: Europe and Northern America</td>\n",
       "      <td>Ireland</td>\n",
       "      <td>4.5</td>\n",
       "      <td>4.5.6</td>\n",
       "      <td>Expenditure on education (public, private, int...</td>\n",
       "      <td>2010</td>\n",
       "      <td>6.50</td>\n",
       "      <td>SOURCE: UIS estimate based on data available f...</td>\n",
       "    </tr>\n",
       "    <tr>\n",
       "      <th>3</th>\n",
       "      <td>SDG: Europe and Northern America</td>\n",
       "      <td>Iceland</td>\n",
       "      <td>4.5</td>\n",
       "      <td>4.5.6</td>\n",
       "      <td>Expenditure on education (public, private, int...</td>\n",
       "      <td>2010</td>\n",
       "      <td>7.63</td>\n",
       "      <td>SOURCE: UIS estimate based on data available f...</td>\n",
       "    </tr>\n",
       "    <tr>\n",
       "      <th>4</th>\n",
       "      <td>SDG: Latin America and the Caribbean</td>\n",
       "      <td>Guyana</td>\n",
       "      <td>4.5</td>\n",
       "      <td>4.5.6</td>\n",
       "      <td>Expenditure on education (public, private, int...</td>\n",
       "      <td>2010</td>\n",
       "      <td>2.54</td>\n",
       "      <td>SOURCE: UIS estimate based on data available f...</td>\n",
       "    </tr>\n",
       "  </tbody>\n",
       "</table>\n",
       "</div>"
      ],
      "text/plain": [
       "                                 Region  \\\n",
       "0      SDG: Europe and Northern America   \n",
       "1      SDG: Europe and Northern America   \n",
       "2      SDG: Europe and Northern America   \n",
       "3      SDG: Europe and Northern America   \n",
       "4  SDG: Latin America and the Caribbean   \n",
       "\n",
       "                                             Country  Target Indicator Number  \\\n",
       "0                                           Portugal     4.5            4.5.6   \n",
       "1  United Kingdom of Great Britain and Northern I...     4.5            4.5.6   \n",
       "2                                            Ireland     4.5            4.5.6   \n",
       "3                                            Iceland     4.5            4.5.6   \n",
       "4                                             Guyana     4.5            4.5.6   \n",
       "\n",
       "                                      Indicator Name  Year  Value  \\\n",
       "0  Expenditure on education (public, private, int...  2010   5.93   \n",
       "1  Expenditure on education (public, private, int...  2010   7.34   \n",
       "2  Expenditure on education (public, private, int...  2010   6.50   \n",
       "3  Expenditure on education (public, private, int...  2010   7.63   \n",
       "4  Expenditure on education (public, private, int...  2010   2.54   \n",
       "\n",
       "                                            Metadata  \n",
       "0  SOURCE: UIS estimate based on data available f...  \n",
       "1  SOURCE: UIS estimate based on data available f...  \n",
       "2  SOURCE: UIS estimate based on data available f...  \n",
       "3  SOURCE: UIS estimate based on data available f...  \n",
       "4  SOURCE: UIS estimate based on data available f...  "
      ]
     },
     "execution_count": 56,
     "metadata": {},
     "output_type": "execute_result"
    }
   ],
   "source": [
    "df5.head()"
   ]
  },
  {
   "cell_type": "code",
   "execution_count": 55,
   "id": "a13e5b23",
   "metadata": {},
   "outputs": [
    {
     "name": "stdout",
     "output_type": "stream",
     "text": [
      "<class 'pandas.core.frame.DataFrame'>\n",
      "RangeIndex: 255 entries, 0 to 254\n",
      "Data columns (total 8 columns):\n",
      " #   Column            Non-Null Count  Dtype  \n",
      "---  ------            --------------  -----  \n",
      " 0   Region            255 non-null    object \n",
      " 1   Country           255 non-null    object \n",
      " 2   Target            255 non-null    float64\n",
      " 3   Indicator Number  255 non-null    object \n",
      " 4   Indicator Name    255 non-null    object \n",
      " 5   Year              255 non-null    int64  \n",
      " 6   Value             255 non-null    float64\n",
      " 7   Metadata          255 non-null    object \n",
      "dtypes: float64(2), int64(1), object(5)\n",
      "memory usage: 16.1+ KB\n"
     ]
    }
   ],
   "source": [
    "df5.info()"
   ]
  },
  {
   "cell_type": "code",
   "execution_count": 57,
   "id": "59bcf33b",
   "metadata": {},
   "outputs": [
    {
     "data": {
      "text/plain": [
       "array(['Expenditure on education (public, private, international) as a percentage of GDP'],\n",
       "      dtype=object)"
      ]
     },
     "execution_count": 57,
     "metadata": {},
     "output_type": "execute_result"
    }
   ],
   "source": [
    "df5['Indicator Name'].unique()"
   ]
  },
  {
   "cell_type": "code",
   "execution_count": 58,
   "id": "0eedf9ef",
   "metadata": {},
   "outputs": [],
   "source": [
    "# change name of value column\n",
    "\n",
    "df5['Expenditure on education (public, private, international) as a percentage of GDP'] = df5['Value']"
   ]
  },
  {
   "cell_type": "code",
   "execution_count": 59,
   "id": "35154fc2",
   "metadata": {},
   "outputs": [],
   "source": [
    "df5.drop(columns=['Region', 'Target', 'Indicator Number', 'Indicator Name', 'Value', 'Metadata'], inplace=True)"
   ]
  },
  {
   "cell_type": "code",
   "execution_count": 60,
   "id": "f7ce904b",
   "metadata": {},
   "outputs": [
    {
     "data": {
      "text/html": [
       "<div>\n",
       "<style scoped>\n",
       "    .dataframe tbody tr th:only-of-type {\n",
       "        vertical-align: middle;\n",
       "    }\n",
       "\n",
       "    .dataframe tbody tr th {\n",
       "        vertical-align: top;\n",
       "    }\n",
       "\n",
       "    .dataframe thead th {\n",
       "        text-align: right;\n",
       "    }\n",
       "</style>\n",
       "<table border=\"1\" class=\"dataframe\">\n",
       "  <thead>\n",
       "    <tr style=\"text-align: right;\">\n",
       "      <th></th>\n",
       "      <th>Country</th>\n",
       "      <th>Year</th>\n",
       "      <th>Expenditure on education (public, private, international) as a percentage of GDP</th>\n",
       "    </tr>\n",
       "  </thead>\n",
       "  <tbody>\n",
       "    <tr>\n",
       "      <th>0</th>\n",
       "      <td>Portugal</td>\n",
       "      <td>2010</td>\n",
       "      <td>5.93</td>\n",
       "    </tr>\n",
       "  </tbody>\n",
       "</table>\n",
       "</div>"
      ],
      "text/plain": [
       "    Country  Year  \\\n",
       "0  Portugal  2010   \n",
       "\n",
       "   Expenditure on education (public, private, international) as a percentage of GDP  \n",
       "0                                               5.93                                 "
      ]
     },
     "execution_count": 60,
     "metadata": {},
     "output_type": "execute_result"
    }
   ],
   "source": [
    "df5.head(1)"
   ]
  },
  {
   "cell_type": "code",
   "execution_count": 61,
   "id": "c3a6ffc0",
   "metadata": {},
   "outputs": [
    {
     "name": "stdout",
     "output_type": "stream",
     "text": [
      "<class 'pandas.core.frame.DataFrame'>\n",
      "RangeIndex: 255 entries, 0 to 254\n",
      "Data columns (total 3 columns):\n",
      " #   Column                                                                            Non-Null Count  Dtype  \n",
      "---  ------                                                                            --------------  -----  \n",
      " 0   Country                                                                           255 non-null    object \n",
      " 1   Year                                                                              255 non-null    int64  \n",
      " 2   Expenditure on education (public, private, international) as a percentage of GDP  255 non-null    float64\n",
      "dtypes: float64(1), int64(1), object(1)\n",
      "memory usage: 6.1+ KB\n"
     ]
    }
   ],
   "source": [
    "df5.info()"
   ]
  },
  {
   "cell_type": "markdown",
   "id": "f7c161b0",
   "metadata": {},
   "source": [
    "### Expenditure on education (public, households, ODA) as a percentage of GDP"
   ]
  },
  {
   "cell_type": "code",
   "execution_count": 79,
   "id": "5a18d25f",
   "metadata": {},
   "outputs": [
    {
     "data": {
      "text/html": [
       "<div>\n",
       "<style scoped>\n",
       "    .dataframe tbody tr th:only-of-type {\n",
       "        vertical-align: middle;\n",
       "    }\n",
       "\n",
       "    .dataframe tbody tr th {\n",
       "        vertical-align: top;\n",
       "    }\n",
       "\n",
       "    .dataframe thead th {\n",
       "        text-align: right;\n",
       "    }\n",
       "</style>\n",
       "<table border=\"1\" class=\"dataframe\">\n",
       "  <thead>\n",
       "    <tr style=\"text-align: right;\">\n",
       "      <th></th>\n",
       "      <th>Region</th>\n",
       "      <th>Country</th>\n",
       "      <th>Target</th>\n",
       "      <th>Indicator Number</th>\n",
       "      <th>Indicator Name</th>\n",
       "      <th>Year</th>\n",
       "      <th>Value</th>\n",
       "      <th>Metadata</th>\n",
       "    </tr>\n",
       "  </thead>\n",
       "  <tbody>\n",
       "    <tr>\n",
       "      <th>0</th>\n",
       "      <td>SDG: Europe and Northern America</td>\n",
       "      <td>Sweden</td>\n",
       "      <td>4.5</td>\n",
       "      <td>4.5.6</td>\n",
       "      <td>Expenditure on education (public, households, ...</td>\n",
       "      <td>2010</td>\n",
       "      <td>6.52</td>\n",
       "      <td>SOURCE: UIS estimate based on data available f...</td>\n",
       "    </tr>\n",
       "    <tr>\n",
       "      <th>1</th>\n",
       "      <td>SDG: Europe and Northern America</td>\n",
       "      <td>Belgium</td>\n",
       "      <td>4.5</td>\n",
       "      <td>4.5.6</td>\n",
       "      <td>Expenditure on education (public, households, ...</td>\n",
       "      <td>2010</td>\n",
       "      <td>7.07</td>\n",
       "      <td>SOURCE: UIS estimate based on data available f...</td>\n",
       "    </tr>\n",
       "    <tr>\n",
       "      <th>2</th>\n",
       "      <td>SDG: Sub-Saharan Africa</td>\n",
       "      <td>Burundi</td>\n",
       "      <td>4.5</td>\n",
       "      <td>4.5.6</td>\n",
       "      <td>Expenditure on education (public, households, ...</td>\n",
       "      <td>2010</td>\n",
       "      <td>8.16</td>\n",
       "      <td>SOURCE: UIS estimate based on data available f...</td>\n",
       "    </tr>\n",
       "    <tr>\n",
       "      <th>3</th>\n",
       "      <td>SDG: Latin America and the Caribbean</td>\n",
       "      <td>Paraguay</td>\n",
       "      <td>4.5</td>\n",
       "      <td>4.5.6</td>\n",
       "      <td>Expenditure on education (public, households, ...</td>\n",
       "      <td>2010</td>\n",
       "      <td>4.76</td>\n",
       "      <td>SOURCE: UIS estimate based on data available f...</td>\n",
       "    </tr>\n",
       "    <tr>\n",
       "      <th>4</th>\n",
       "      <td>SDG: Europe and Northern America</td>\n",
       "      <td>Slovenia</td>\n",
       "      <td>4.5</td>\n",
       "      <td>4.5.6</td>\n",
       "      <td>Expenditure on education (public, households, ...</td>\n",
       "      <td>2010</td>\n",
       "      <td>6.16</td>\n",
       "      <td>SOURCE: UIS estimate based on data available f...</td>\n",
       "    </tr>\n",
       "  </tbody>\n",
       "</table>\n",
       "</div>"
      ],
      "text/plain": [
       "                                 Region   Country  Target Indicator Number  \\\n",
       "0      SDG: Europe and Northern America    Sweden     4.5            4.5.6   \n",
       "1      SDG: Europe and Northern America   Belgium     4.5            4.5.6   \n",
       "2               SDG: Sub-Saharan Africa   Burundi     4.5            4.5.6   \n",
       "3  SDG: Latin America and the Caribbean  Paraguay     4.5            4.5.6   \n",
       "4      SDG: Europe and Northern America  Slovenia     4.5            4.5.6   \n",
       "\n",
       "                                      Indicator Name  Year  Value  \\\n",
       "0  Expenditure on education (public, households, ...  2010   6.52   \n",
       "1  Expenditure on education (public, households, ...  2010   7.07   \n",
       "2  Expenditure on education (public, households, ...  2010   8.16   \n",
       "3  Expenditure on education (public, households, ...  2010   4.76   \n",
       "4  Expenditure on education (public, households, ...  2010   6.16   \n",
       "\n",
       "                                            Metadata  \n",
       "0  SOURCE: UIS estimate based on data available f...  \n",
       "1  SOURCE: UIS estimate based on data available f...  \n",
       "2  SOURCE: UIS estimate based on data available f...  \n",
       "3  SOURCE: UIS estimate based on data available f...  \n",
       "4  SOURCE: UIS estimate based on data available f...  "
      ]
     },
     "execution_count": 79,
     "metadata": {},
     "output_type": "execute_result"
    }
   ],
   "source": [
    "df6.head()"
   ]
  },
  {
   "cell_type": "code",
   "execution_count": 80,
   "id": "d7054296",
   "metadata": {},
   "outputs": [
    {
     "name": "stdout",
     "output_type": "stream",
     "text": [
      "<class 'pandas.core.frame.DataFrame'>\n",
      "RangeIndex: 503 entries, 0 to 502\n",
      "Data columns (total 8 columns):\n",
      " #   Column            Non-Null Count  Dtype  \n",
      "---  ------            --------------  -----  \n",
      " 0   Region            503 non-null    object \n",
      " 1   Country           503 non-null    object \n",
      " 2   Target            503 non-null    float64\n",
      " 3   Indicator Number  503 non-null    object \n",
      " 4   Indicator Name    503 non-null    object \n",
      " 5   Year              503 non-null    int64  \n",
      " 6   Value             503 non-null    float64\n",
      " 7   Metadata          503 non-null    object \n",
      "dtypes: float64(2), int64(1), object(5)\n",
      "memory usage: 31.6+ KB\n"
     ]
    }
   ],
   "source": [
    "df6.info()"
   ]
  },
  {
   "cell_type": "code",
   "execution_count": 81,
   "id": "9f3bbcc1",
   "metadata": {},
   "outputs": [
    {
     "data": {
      "text/plain": [
       "array(['Expenditure on education (public, households, ODA) as a percentage of GDP'],\n",
       "      dtype=object)"
      ]
     },
     "execution_count": 81,
     "metadata": {},
     "output_type": "execute_result"
    }
   ],
   "source": [
    "df6['Indicator Name'].unique()"
   ]
  },
  {
   "cell_type": "code",
   "execution_count": 82,
   "id": "3523d215",
   "metadata": {},
   "outputs": [],
   "source": [
    "# change name of value column\n",
    "\n",
    "df6['Expenditure on education (public, households, ODA) as a percentage of GDP'] = df6['Value']"
   ]
  },
  {
   "cell_type": "code",
   "execution_count": 83,
   "id": "adaca7af",
   "metadata": {},
   "outputs": [],
   "source": [
    "df6.drop(columns=['Region', 'Target', 'Indicator Number', 'Indicator Name', 'Value', 'Metadata'], inplace=True)"
   ]
  },
  {
   "cell_type": "code",
   "execution_count": 84,
   "id": "25535b40",
   "metadata": {},
   "outputs": [
    {
     "data": {
      "text/html": [
       "<div>\n",
       "<style scoped>\n",
       "    .dataframe tbody tr th:only-of-type {\n",
       "        vertical-align: middle;\n",
       "    }\n",
       "\n",
       "    .dataframe tbody tr th {\n",
       "        vertical-align: top;\n",
       "    }\n",
       "\n",
       "    .dataframe thead th {\n",
       "        text-align: right;\n",
       "    }\n",
       "</style>\n",
       "<table border=\"1\" class=\"dataframe\">\n",
       "  <thead>\n",
       "    <tr style=\"text-align: right;\">\n",
       "      <th></th>\n",
       "      <th>Country</th>\n",
       "      <th>Year</th>\n",
       "      <th>Expenditure on education (public, households, ODA) as a percentage of GDP</th>\n",
       "    </tr>\n",
       "  </thead>\n",
       "  <tbody>\n",
       "    <tr>\n",
       "      <th>0</th>\n",
       "      <td>Sweden</td>\n",
       "      <td>2010</td>\n",
       "      <td>6.52</td>\n",
       "    </tr>\n",
       "  </tbody>\n",
       "</table>\n",
       "</div>"
      ],
      "text/plain": [
       "  Country  Year  \\\n",
       "0  Sweden  2010   \n",
       "\n",
       "   Expenditure on education (public, households, ODA) as a percentage of GDP  \n",
       "0                                               6.52                          "
      ]
     },
     "execution_count": 84,
     "metadata": {},
     "output_type": "execute_result"
    }
   ],
   "source": [
    "df6.head(1)"
   ]
  },
  {
   "cell_type": "code",
   "execution_count": 85,
   "id": "a63560ae",
   "metadata": {},
   "outputs": [
    {
     "name": "stdout",
     "output_type": "stream",
     "text": [
      "<class 'pandas.core.frame.DataFrame'>\n",
      "RangeIndex: 503 entries, 0 to 502\n",
      "Data columns (total 3 columns):\n",
      " #   Column                                                                     Non-Null Count  Dtype  \n",
      "---  ------                                                                     --------------  -----  \n",
      " 0   Country                                                                    503 non-null    object \n",
      " 1   Year                                                                       503 non-null    int64  \n",
      " 2   Expenditure on education (public, households, ODA) as a percentage of GDP  503 non-null    float64\n",
      "dtypes: float64(1), int64(1), object(1)\n",
      "memory usage: 11.9+ KB\n"
     ]
    }
   ],
   "source": [
    "df6.info()"
   ]
  },
  {
   "cell_type": "markdown",
   "id": "1943938f",
   "metadata": {},
   "source": [
    "### next"
   ]
  },
  {
   "cell_type": "code",
   "execution_count": 86,
   "id": "d9c64de3",
   "metadata": {},
   "outputs": [
    {
     "data": {
      "text/html": [
       "<div>\n",
       "<style scoped>\n",
       "    .dataframe tbody tr th:only-of-type {\n",
       "        vertical-align: middle;\n",
       "    }\n",
       "\n",
       "    .dataframe tbody tr th {\n",
       "        vertical-align: top;\n",
       "    }\n",
       "\n",
       "    .dataframe thead th {\n",
       "        text-align: right;\n",
       "    }\n",
       "</style>\n",
       "<table border=\"1\" class=\"dataframe\">\n",
       "  <thead>\n",
       "    <tr style=\"text-align: right;\">\n",
       "      <th></th>\n",
       "      <th>Region</th>\n",
       "      <th>Country</th>\n",
       "      <th>Target</th>\n",
       "      <th>Indicator Number</th>\n",
       "      <th>Indicator Name</th>\n",
       "      <th>Year</th>\n",
       "      <th>Value</th>\n",
       "      <th>Metadata</th>\n",
       "    </tr>\n",
       "  </thead>\n",
       "  <tbody>\n",
       "    <tr>\n",
       "      <th>0</th>\n",
       "      <td>SDG: Sub-Saharan Africa</td>\n",
       "      <td>Sierra Leone</td>\n",
       "      <td>1.a</td>\n",
       "      <td>1.a.2</td>\n",
       "      <td>Expenditure on education as a percentage of to...</td>\n",
       "      <td>2010</td>\n",
       "      <td>12.80</td>\n",
       "      <td>NaN</td>\n",
       "    </tr>\n",
       "    <tr>\n",
       "      <th>1</th>\n",
       "      <td>SDG: Europe and Northern America</td>\n",
       "      <td>Estonia</td>\n",
       "      <td>1.a</td>\n",
       "      <td>1.a.2</td>\n",
       "      <td>Expenditure on education as a percentage of to...</td>\n",
       "      <td>2010</td>\n",
       "      <td>16.17</td>\n",
       "      <td>SOURCE: IMF; indicator GEETO_G14_PT: COFOG Fun...</td>\n",
       "    </tr>\n",
       "    <tr>\n",
       "      <th>2</th>\n",
       "      <td>SDG: Europe and Northern America</td>\n",
       "      <td>Hungary</td>\n",
       "      <td>1.a</td>\n",
       "      <td>1.a.2</td>\n",
       "      <td>Expenditure on education as a percentage of to...</td>\n",
       "      <td>2010</td>\n",
       "      <td>11.23</td>\n",
       "      <td>SOURCE: IMF; indicator GEETO_G14_PT: COFOG Fun...</td>\n",
       "    </tr>\n",
       "    <tr>\n",
       "      <th>3</th>\n",
       "      <td>SDG: Sub-Saharan Africa</td>\n",
       "      <td>Mali</td>\n",
       "      <td>1.a</td>\n",
       "      <td>1.a.2</td>\n",
       "      <td>Expenditure on education as a percentage of to...</td>\n",
       "      <td>2010</td>\n",
       "      <td>16.50</td>\n",
       "      <td>NaN</td>\n",
       "    </tr>\n",
       "    <tr>\n",
       "      <th>4</th>\n",
       "      <td>SDG: Latin America and the Caribbean</td>\n",
       "      <td>Brazil</td>\n",
       "      <td>1.a</td>\n",
       "      <td>1.a.2</td>\n",
       "      <td>Expenditure on education as a percentage of to...</td>\n",
       "      <td>2010</td>\n",
       "      <td>13.40</td>\n",
       "      <td>NaN</td>\n",
       "    </tr>\n",
       "  </tbody>\n",
       "</table>\n",
       "</div>"
      ],
      "text/plain": [
       "                                 Region       Country Target Indicator Number  \\\n",
       "0               SDG: Sub-Saharan Africa  Sierra Leone    1.a            1.a.2   \n",
       "1      SDG: Europe and Northern America       Estonia    1.a            1.a.2   \n",
       "2      SDG: Europe and Northern America       Hungary    1.a            1.a.2   \n",
       "3               SDG: Sub-Saharan Africa          Mali    1.a            1.a.2   \n",
       "4  SDG: Latin America and the Caribbean        Brazil    1.a            1.a.2   \n",
       "\n",
       "                                      Indicator Name  Year  Value  \\\n",
       "0  Expenditure on education as a percentage of to...  2010  12.80   \n",
       "1  Expenditure on education as a percentage of to...  2010  16.17   \n",
       "2  Expenditure on education as a percentage of to...  2010  11.23   \n",
       "3  Expenditure on education as a percentage of to...  2010  16.50   \n",
       "4  Expenditure on education as a percentage of to...  2010  13.40   \n",
       "\n",
       "                                            Metadata  \n",
       "0                                                NaN  \n",
       "1  SOURCE: IMF; indicator GEETO_G14_PT: COFOG Fun...  \n",
       "2  SOURCE: IMF; indicator GEETO_G14_PT: COFOG Fun...  \n",
       "3                                                NaN  \n",
       "4                                                NaN  "
      ]
     },
     "execution_count": 86,
     "metadata": {},
     "output_type": "execute_result"
    }
   ],
   "source": [
    "df7.head()"
   ]
  },
  {
   "cell_type": "code",
   "execution_count": 87,
   "id": "2ed952b0",
   "metadata": {},
   "outputs": [
    {
     "name": "stdout",
     "output_type": "stream",
     "text": [
      "<class 'pandas.core.frame.DataFrame'>\n",
      "RangeIndex: 2021 entries, 0 to 2020\n",
      "Data columns (total 8 columns):\n",
      " #   Column            Non-Null Count  Dtype  \n",
      "---  ------            --------------  -----  \n",
      " 0   Region            2021 non-null   object \n",
      " 1   Country           2021 non-null   object \n",
      " 2   Target            2021 non-null   object \n",
      " 3   Indicator Number  2021 non-null   object \n",
      " 4   Indicator Name    2021 non-null   object \n",
      " 5   Year              2021 non-null   int64  \n",
      " 6   Value             2021 non-null   float64\n",
      " 7   Metadata          1486 non-null   object \n",
      "dtypes: float64(1), int64(1), object(6)\n",
      "memory usage: 126.4+ KB\n"
     ]
    }
   ],
   "source": [
    "df7.info()"
   ]
  },
  {
   "cell_type": "code",
   "execution_count": 88,
   "id": "d550ebd8",
   "metadata": {},
   "outputs": [
    {
     "data": {
      "text/plain": [
       "array(['Expenditure on education as a percentage of total government expenditure (%)'],\n",
       "      dtype=object)"
      ]
     },
     "execution_count": 88,
     "metadata": {},
     "output_type": "execute_result"
    }
   ],
   "source": [
    "df7['Indicator Name'].unique()"
   ]
  },
  {
   "cell_type": "code",
   "execution_count": 89,
   "id": "0199bfbb",
   "metadata": {},
   "outputs": [],
   "source": [
    "# change name of value column\n",
    "\n",
    "df7['Expenditure on education as a percentage of total government expenditure (%)'] = df7['Value']"
   ]
  },
  {
   "cell_type": "code",
   "execution_count": 90,
   "id": "8f1022d0",
   "metadata": {},
   "outputs": [],
   "source": [
    "df7.drop(columns=['Region', 'Target', 'Indicator Number', 'Indicator Name', 'Value', 'Metadata'], inplace=True)"
   ]
  },
  {
   "cell_type": "code",
   "execution_count": 91,
   "id": "33470560",
   "metadata": {},
   "outputs": [
    {
     "data": {
      "text/html": [
       "<div>\n",
       "<style scoped>\n",
       "    .dataframe tbody tr th:only-of-type {\n",
       "        vertical-align: middle;\n",
       "    }\n",
       "\n",
       "    .dataframe tbody tr th {\n",
       "        vertical-align: top;\n",
       "    }\n",
       "\n",
       "    .dataframe thead th {\n",
       "        text-align: right;\n",
       "    }\n",
       "</style>\n",
       "<table border=\"1\" class=\"dataframe\">\n",
       "  <thead>\n",
       "    <tr style=\"text-align: right;\">\n",
       "      <th></th>\n",
       "      <th>Country</th>\n",
       "      <th>Year</th>\n",
       "      <th>Expenditure on education as a percentage of total government expenditure (%)</th>\n",
       "    </tr>\n",
       "  </thead>\n",
       "  <tbody>\n",
       "    <tr>\n",
       "      <th>0</th>\n",
       "      <td>Sierra Leone</td>\n",
       "      <td>2010</td>\n",
       "      <td>12.8</td>\n",
       "    </tr>\n",
       "  </tbody>\n",
       "</table>\n",
       "</div>"
      ],
      "text/plain": [
       "        Country  Year  \\\n",
       "0  Sierra Leone  2010   \n",
       "\n",
       "   Expenditure on education as a percentage of total government expenditure (%)  \n",
       "0                                               12.8                             "
      ]
     },
     "execution_count": 91,
     "metadata": {},
     "output_type": "execute_result"
    }
   ],
   "source": [
    "df7.head(1)"
   ]
  },
  {
   "cell_type": "code",
   "execution_count": 92,
   "id": "da64781d",
   "metadata": {},
   "outputs": [
    {
     "name": "stdout",
     "output_type": "stream",
     "text": [
      "<class 'pandas.core.frame.DataFrame'>\n",
      "RangeIndex: 2021 entries, 0 to 2020\n",
      "Data columns (total 3 columns):\n",
      " #   Column                                                                        Non-Null Count  Dtype  \n",
      "---  ------                                                                        --------------  -----  \n",
      " 0   Country                                                                       2021 non-null   object \n",
      " 1   Year                                                                          2021 non-null   int64  \n",
      " 2   Expenditure on education as a percentage of total government expenditure (%)  2021 non-null   float64\n",
      "dtypes: float64(1), int64(1), object(1)\n",
      "memory usage: 47.5+ KB\n"
     ]
    }
   ],
   "source": [
    "df7.info()"
   ]
  },
  {
   "cell_type": "markdown",
   "id": "d1ddafda",
   "metadata": {},
   "source": [
    "### Volume of official development assistance flows for scholarships by sector and type of study, constant US$"
   ]
  },
  {
   "cell_type": "code",
   "execution_count": 93,
   "id": "3926f129",
   "metadata": {},
   "outputs": [
    {
     "data": {
      "text/html": [
       "<div>\n",
       "<style scoped>\n",
       "    .dataframe tbody tr th:only-of-type {\n",
       "        vertical-align: middle;\n",
       "    }\n",
       "\n",
       "    .dataframe tbody tr th {\n",
       "        vertical-align: top;\n",
       "    }\n",
       "\n",
       "    .dataframe thead th {\n",
       "        text-align: right;\n",
       "    }\n",
       "</style>\n",
       "<table border=\"1\" class=\"dataframe\">\n",
       "  <thead>\n",
       "    <tr style=\"text-align: right;\">\n",
       "      <th></th>\n",
       "      <th>Region</th>\n",
       "      <th>Country</th>\n",
       "      <th>Target</th>\n",
       "      <th>Indicator Number</th>\n",
       "      <th>Indicator Name</th>\n",
       "      <th>Year</th>\n",
       "      <th>Value</th>\n",
       "      <th>Metadata</th>\n",
       "    </tr>\n",
       "  </thead>\n",
       "  <tbody>\n",
       "    <tr>\n",
       "      <th>0</th>\n",
       "      <td>SDG: Latin America and the Caribbean</td>\n",
       "      <td>Belize</td>\n",
       "      <td>4.b</td>\n",
       "      <td>4.b.1</td>\n",
       "      <td>Volume of official development assistance flow...</td>\n",
       "      <td>2010</td>\n",
       "      <td>120,858.00</td>\n",
       "      <td>SOURCE: Official Development Assistance. Schol...</td>\n",
       "    </tr>\n",
       "    <tr>\n",
       "      <th>1</th>\n",
       "      <td>SDG: Eastern and South-Eastern Asia</td>\n",
       "      <td>Cambodia</td>\n",
       "      <td>4.b</td>\n",
       "      <td>4.b.1</td>\n",
       "      <td>Volume of official development assistance flow...</td>\n",
       "      <td>2010</td>\n",
       "      <td>10,568,186.00</td>\n",
       "      <td>SOURCE: Official Development Assistance. Schol...</td>\n",
       "    </tr>\n",
       "    <tr>\n",
       "      <th>2</th>\n",
       "      <td>SDG: Sub-Saharan Africa</td>\n",
       "      <td>South Africa</td>\n",
       "      <td>4.b</td>\n",
       "      <td>4.b.1</td>\n",
       "      <td>Volume of official development assistance flow...</td>\n",
       "      <td>2010</td>\n",
       "      <td>7,012,275.00</td>\n",
       "      <td>SOURCE: Official Development Assistance. Schol...</td>\n",
       "    </tr>\n",
       "    <tr>\n",
       "      <th>3</th>\n",
       "      <td>SDG: Central and Southern Asia</td>\n",
       "      <td>Turkmenistan</td>\n",
       "      <td>4.b</td>\n",
       "      <td>4.b.1</td>\n",
       "      <td>Volume of official development assistance flow...</td>\n",
       "      <td>2010</td>\n",
       "      <td>927,746.00</td>\n",
       "      <td>SOURCE: Official Development Assistance. Schol...</td>\n",
       "    </tr>\n",
       "    <tr>\n",
       "      <th>4</th>\n",
       "      <td>SDG: Oceania</td>\n",
       "      <td>Nauru</td>\n",
       "      <td>4.b</td>\n",
       "      <td>4.b.1</td>\n",
       "      <td>Volume of official development assistance flow...</td>\n",
       "      <td>2010</td>\n",
       "      <td>375,019.00</td>\n",
       "      <td>SOURCE: Official Development Assistance. Schol...</td>\n",
       "    </tr>\n",
       "  </tbody>\n",
       "</table>\n",
       "</div>"
      ],
      "text/plain": [
       "                                 Region       Country Target Indicator Number  \\\n",
       "0  SDG: Latin America and the Caribbean        Belize    4.b            4.b.1   \n",
       "1   SDG: Eastern and South-Eastern Asia      Cambodia    4.b            4.b.1   \n",
       "2               SDG: Sub-Saharan Africa  South Africa    4.b            4.b.1   \n",
       "3        SDG: Central and Southern Asia  Turkmenistan    4.b            4.b.1   \n",
       "4                          SDG: Oceania         Nauru    4.b            4.b.1   \n",
       "\n",
       "                                      Indicator Name  Year          Value  \\\n",
       "0  Volume of official development assistance flow...  2010     120,858.00   \n",
       "1  Volume of official development assistance flow...  2010  10,568,186.00   \n",
       "2  Volume of official development assistance flow...  2010   7,012,275.00   \n",
       "3  Volume of official development assistance flow...  2010     927,746.00   \n",
       "4  Volume of official development assistance flow...  2010     375,019.00   \n",
       "\n",
       "                                            Metadata  \n",
       "0  SOURCE: Official Development Assistance. Schol...  \n",
       "1  SOURCE: Official Development Assistance. Schol...  \n",
       "2  SOURCE: Official Development Assistance. Schol...  \n",
       "3  SOURCE: Official Development Assistance. Schol...  \n",
       "4  SOURCE: Official Development Assistance. Schol...  "
      ]
     },
     "execution_count": 93,
     "metadata": {},
     "output_type": "execute_result"
    }
   ],
   "source": [
    "df8.head()"
   ]
  },
  {
   "cell_type": "code",
   "execution_count": 94,
   "id": "4d5b7ef8",
   "metadata": {},
   "outputs": [
    {
     "name": "stdout",
     "output_type": "stream",
     "text": [
      "<class 'pandas.core.frame.DataFrame'>\n",
      "RangeIndex: 1844 entries, 0 to 1843\n",
      "Data columns (total 8 columns):\n",
      " #   Column            Non-Null Count  Dtype \n",
      "---  ------            --------------  ----- \n",
      " 0   Region            1844 non-null   object\n",
      " 1   Country           1844 non-null   object\n",
      " 2   Target            1844 non-null   object\n",
      " 3   Indicator Number  1844 non-null   object\n",
      " 4   Indicator Name    1844 non-null   object\n",
      " 5   Year              1844 non-null   int64 \n",
      " 6   Value             1844 non-null   object\n",
      " 7   Metadata          1844 non-null   object\n",
      "dtypes: int64(1), object(7)\n",
      "memory usage: 115.4+ KB\n"
     ]
    }
   ],
   "source": [
    "df8.info()"
   ]
  },
  {
   "cell_type": "code",
   "execution_count": 95,
   "id": "f5cab866",
   "metadata": {},
   "outputs": [
    {
     "data": {
      "text/plain": [
       "array(['Volume of official development assistance flows for scholarships by sector and type of study, constant US$'],\n",
       "      dtype=object)"
      ]
     },
     "execution_count": 95,
     "metadata": {},
     "output_type": "execute_result"
    }
   ],
   "source": [
    "df8['Indicator Name'].unique()"
   ]
  },
  {
   "cell_type": "code",
   "execution_count": 96,
   "id": "381eae27",
   "metadata": {},
   "outputs": [],
   "source": [
    "# change name of value column\n",
    "\n",
    "df8['Volume of official development assistance flows for scholarships by sector and type of study, constant US$'] = df8['Value']"
   ]
  },
  {
   "cell_type": "code",
   "execution_count": 97,
   "id": "d441ad3a",
   "metadata": {},
   "outputs": [],
   "source": [
    "df8.drop(columns=['Region', 'Target', 'Indicator Number', 'Indicator Name', 'Value', 'Metadata'], inplace=True)"
   ]
  },
  {
   "cell_type": "code",
   "execution_count": 98,
   "id": "9dd57ccc",
   "metadata": {},
   "outputs": [
    {
     "data": {
      "text/html": [
       "<div>\n",
       "<style scoped>\n",
       "    .dataframe tbody tr th:only-of-type {\n",
       "        vertical-align: middle;\n",
       "    }\n",
       "\n",
       "    .dataframe tbody tr th {\n",
       "        vertical-align: top;\n",
       "    }\n",
       "\n",
       "    .dataframe thead th {\n",
       "        text-align: right;\n",
       "    }\n",
       "</style>\n",
       "<table border=\"1\" class=\"dataframe\">\n",
       "  <thead>\n",
       "    <tr style=\"text-align: right;\">\n",
       "      <th></th>\n",
       "      <th>Country</th>\n",
       "      <th>Year</th>\n",
       "      <th>Volume of official development assistance flows for scholarships by sector and type of study, constant US$</th>\n",
       "    </tr>\n",
       "  </thead>\n",
       "  <tbody>\n",
       "    <tr>\n",
       "      <th>0</th>\n",
       "      <td>Belize</td>\n",
       "      <td>2010</td>\n",
       "      <td>120,858.00</td>\n",
       "    </tr>\n",
       "  </tbody>\n",
       "</table>\n",
       "</div>"
      ],
      "text/plain": [
       "  Country  Year  \\\n",
       "0  Belize  2010   \n",
       "\n",
       "  Volume of official development assistance flows for scholarships by sector and type of study, constant US$  \n",
       "0                                         120,858.00                                                          "
      ]
     },
     "execution_count": 98,
     "metadata": {},
     "output_type": "execute_result"
    }
   ],
   "source": [
    "df8.head(1)"
   ]
  },
  {
   "cell_type": "code",
   "execution_count": 99,
   "id": "9feecf7c",
   "metadata": {},
   "outputs": [
    {
     "name": "stdout",
     "output_type": "stream",
     "text": [
      "<class 'pandas.core.frame.DataFrame'>\n",
      "RangeIndex: 1844 entries, 0 to 1843\n",
      "Data columns (total 3 columns):\n",
      " #   Column                                                                                                      Non-Null Count  Dtype \n",
      "---  ------                                                                                                      --------------  ----- \n",
      " 0   Country                                                                                                     1844 non-null   object\n",
      " 1   Year                                                                                                        1844 non-null   int64 \n",
      " 2   Volume of official development assistance flows for scholarships by sector and type of study, constant US$  1844 non-null   object\n",
      "dtypes: int64(1), object(2)\n",
      "memory usage: 43.3+ KB\n"
     ]
    }
   ],
   "source": [
    "df8.info()"
   ]
  },
  {
   "cell_type": "markdown",
   "id": "fbf34ea6",
   "metadata": {},
   "source": [
    "### Government expenditure on education as a percentage of GDP (%)"
   ]
  },
  {
   "cell_type": "code",
   "execution_count": 100,
   "id": "6c404305",
   "metadata": {},
   "outputs": [
    {
     "data": {
      "text/html": [
       "<div>\n",
       "<style scoped>\n",
       "    .dataframe tbody tr th:only-of-type {\n",
       "        vertical-align: middle;\n",
       "    }\n",
       "\n",
       "    .dataframe tbody tr th {\n",
       "        vertical-align: top;\n",
       "    }\n",
       "\n",
       "    .dataframe thead th {\n",
       "        text-align: right;\n",
       "    }\n",
       "</style>\n",
       "<table border=\"1\" class=\"dataframe\">\n",
       "  <thead>\n",
       "    <tr style=\"text-align: right;\">\n",
       "      <th></th>\n",
       "      <th>Region</th>\n",
       "      <th>Country</th>\n",
       "      <th>2010</th>\n",
       "      <th>2011</th>\n",
       "      <th>2012</th>\n",
       "      <th>2013</th>\n",
       "      <th>2014</th>\n",
       "      <th>2015</th>\n",
       "      <th>2016</th>\n",
       "      <th>2017</th>\n",
       "      <th>2018</th>\n",
       "      <th>2019</th>\n",
       "      <th>2020</th>\n",
       "      <th>2021</th>\n",
       "      <th>2022</th>\n",
       "      <th>2023</th>\n",
       "    </tr>\n",
       "  </thead>\n",
       "  <tbody>\n",
       "    <tr>\n",
       "      <th>0</th>\n",
       "      <td>SDG: Central and Southern Asia</td>\n",
       "      <td>Afghanistan</td>\n",
       "      <td>3.48</td>\n",
       "      <td>3.46</td>\n",
       "      <td>2.60</td>\n",
       "      <td>3.45</td>\n",
       "      <td>3.70</td>\n",
       "      <td>3.26</td>\n",
       "      <td>4.54</td>\n",
       "      <td>4.34</td>\n",
       "      <td>NaN</td>\n",
       "      <td>NaN</td>\n",
       "      <td>NaN</td>\n",
       "      <td>NaN</td>\n",
       "      <td>NaN</td>\n",
       "      <td>NaN</td>\n",
       "    </tr>\n",
       "    <tr>\n",
       "      <th>1</th>\n",
       "      <td>SDG: Central and Southern Asia</td>\n",
       "      <td>Bangladesh</td>\n",
       "      <td>NaN</td>\n",
       "      <td>2.13</td>\n",
       "      <td>2.05</td>\n",
       "      <td>1.97</td>\n",
       "      <td>2.10</td>\n",
       "      <td>1.87</td>\n",
       "      <td>2.22</td>\n",
       "      <td>1.85</td>\n",
       "      <td>1.66</td>\n",
       "      <td>1.68</td>\n",
       "      <td>1.76</td>\n",
       "      <td>1.83</td>\n",
       "      <td>1.97</td>\n",
       "      <td>2.05</td>\n",
       "    </tr>\n",
       "    <tr>\n",
       "      <th>2</th>\n",
       "      <td>SDG: Central and Southern Asia</td>\n",
       "      <td>Bhutan</td>\n",
       "      <td>4.12</td>\n",
       "      <td>4.77</td>\n",
       "      <td>NaN</td>\n",
       "      <td>5.72</td>\n",
       "      <td>6.04</td>\n",
       "      <td>6.24</td>\n",
       "      <td>6.34</td>\n",
       "      <td>6.70</td>\n",
       "      <td>6.07</td>\n",
       "      <td>4.76</td>\n",
       "      <td>5.98</td>\n",
       "      <td>6.97</td>\n",
       "      <td>8.14</td>\n",
       "      <td>NaN</td>\n",
       "    </tr>\n",
       "    <tr>\n",
       "      <th>3</th>\n",
       "      <td>SDG: Central and Southern Asia</td>\n",
       "      <td>India</td>\n",
       "      <td>3.38</td>\n",
       "      <td>3.80</td>\n",
       "      <td>4.08</td>\n",
       "      <td>3.84</td>\n",
       "      <td>3.90</td>\n",
       "      <td>4.12</td>\n",
       "      <td>4.26</td>\n",
       "      <td>4.31</td>\n",
       "      <td>4.38</td>\n",
       "      <td>3.90</td>\n",
       "      <td>4.29</td>\n",
       "      <td>4.63</td>\n",
       "      <td>NaN</td>\n",
       "      <td>NaN</td>\n",
       "    </tr>\n",
       "    <tr>\n",
       "      <th>4</th>\n",
       "      <td>SDG: Central and Southern Asia</td>\n",
       "      <td>Iran (Islamic Republic of)</td>\n",
       "      <td>3.71</td>\n",
       "      <td>3.48</td>\n",
       "      <td>2.94</td>\n",
       "      <td>2.85</td>\n",
       "      <td>2.62</td>\n",
       "      <td>2.63</td>\n",
       "      <td>3.17</td>\n",
       "      <td>3.46</td>\n",
       "      <td>3.62</td>\n",
       "      <td>3.26</td>\n",
       "      <td>3.20</td>\n",
       "      <td>NaN</td>\n",
       "      <td>2.67</td>\n",
       "      <td>NaN</td>\n",
       "    </tr>\n",
       "  </tbody>\n",
       "</table>\n",
       "</div>"
      ],
      "text/plain": [
       "                           Region                     Country  2010  2011  \\\n",
       "0  SDG: Central and Southern Asia                 Afghanistan  3.48  3.46   \n",
       "1  SDG: Central and Southern Asia                  Bangladesh   NaN  2.13   \n",
       "2  SDG: Central and Southern Asia                      Bhutan  4.12  4.77   \n",
       "3  SDG: Central and Southern Asia                       India  3.38  3.80   \n",
       "4  SDG: Central and Southern Asia  Iran (Islamic Republic of)  3.71  3.48   \n",
       "\n",
       "   2012  2013  2014  2015  2016  2017  2018  2019  2020  2021  2022  2023  \n",
       "0  2.60  3.45  3.70  3.26  4.54  4.34   NaN   NaN   NaN   NaN   NaN   NaN  \n",
       "1  2.05  1.97  2.10  1.87  2.22  1.85  1.66  1.68  1.76  1.83  1.97  2.05  \n",
       "2   NaN  5.72  6.04  6.24  6.34  6.70  6.07  4.76  5.98  6.97  8.14   NaN  \n",
       "3  4.08  3.84  3.90  4.12  4.26  4.31  4.38  3.90  4.29  4.63   NaN   NaN  \n",
       "4  2.94  2.85  2.62  2.63  3.17  3.46  3.62  3.26  3.20   NaN  2.67   NaN  "
      ]
     },
     "execution_count": 100,
     "metadata": {},
     "output_type": "execute_result"
    }
   ],
   "source": [
    "df9.head()"
   ]
  },
  {
   "cell_type": "code",
   "execution_count": 101,
   "id": "2da7d1f7",
   "metadata": {},
   "outputs": [
    {
     "name": "stdout",
     "output_type": "stream",
     "text": [
      "<class 'pandas.core.frame.DataFrame'>\n",
      "RangeIndex: 192 entries, 0 to 191\n",
      "Data columns (total 16 columns):\n",
      " #   Column   Non-Null Count  Dtype  \n",
      "---  ------   --------------  -----  \n",
      " 0   Region   192 non-null    object \n",
      " 1   Country  191 non-null    object \n",
      " 2   2010     147 non-null    float64\n",
      " 3   2011     154 non-null    float64\n",
      " 4   2012     165 non-null    float64\n",
      " 5   2013     165 non-null    float64\n",
      " 6   2014     169 non-null    float64\n",
      " 7   2015     172 non-null    float64\n",
      " 8   2016     169 non-null    float64\n",
      " 9   2017     173 non-null    float64\n",
      " 10  2018     169 non-null    float64\n",
      " 11  2019     166 non-null    float64\n",
      " 12  2020     163 non-null    float64\n",
      " 13  2021     156 non-null    float64\n",
      " 14  2022     108 non-null    float64\n",
      " 15  2023     17 non-null     float64\n",
      "dtypes: float64(14), object(2)\n",
      "memory usage: 24.1+ KB\n"
     ]
    }
   ],
   "source": [
    "df9.info()"
   ]
  },
  {
   "cell_type": "code",
   "execution_count": 102,
   "id": "8150883a",
   "metadata": {},
   "outputs": [
    {
     "data": {
      "text/plain": [
       "Region      0.000000\n",
       "Country     0.520833\n",
       "2010       23.437500\n",
       "2011       19.791667\n",
       "2012       14.062500\n",
       "2013       14.062500\n",
       "2014       11.979167\n",
       "2015       10.416667\n",
       "2016       11.979167\n",
       "2017        9.895833\n",
       "2018       11.979167\n",
       "2019       13.541667\n",
       "2020       15.104167\n",
       "2021       18.750000\n",
       "2022       43.750000\n",
       "2023       91.145833\n",
       "dtype: float64"
      ]
     },
     "execution_count": 102,
     "metadata": {},
     "output_type": "execute_result"
    }
   ],
   "source": [
    "df9.isnull().mean() * 100"
   ]
  },
  {
   "cell_type": "code",
   "execution_count": 103,
   "id": "19d60fdc",
   "metadata": {},
   "outputs": [],
   "source": [
    "# drop irrelevant columns and columns with over 30% null values\n",
    "\n",
    "df9.drop(columns=['Region', '2022', '2023'], inplace=True)"
   ]
  },
  {
   "cell_type": "code",
   "execution_count": 104,
   "id": "95f37922",
   "metadata": {
    "scrolled": true
   },
   "outputs": [
    {
     "data": {
      "text/html": [
       "<div>\n",
       "<style scoped>\n",
       "    .dataframe tbody tr th:only-of-type {\n",
       "        vertical-align: middle;\n",
       "    }\n",
       "\n",
       "    .dataframe tbody tr th {\n",
       "        vertical-align: top;\n",
       "    }\n",
       "\n",
       "    .dataframe thead th {\n",
       "        text-align: right;\n",
       "    }\n",
       "</style>\n",
       "<table border=\"1\" class=\"dataframe\">\n",
       "  <thead>\n",
       "    <tr style=\"text-align: right;\">\n",
       "      <th></th>\n",
       "      <th>Country</th>\n",
       "      <th>2010</th>\n",
       "      <th>2011</th>\n",
       "      <th>2012</th>\n",
       "      <th>2013</th>\n",
       "      <th>2014</th>\n",
       "      <th>2015</th>\n",
       "      <th>2016</th>\n",
       "      <th>2017</th>\n",
       "      <th>2018</th>\n",
       "      <th>2019</th>\n",
       "      <th>2020</th>\n",
       "      <th>2021</th>\n",
       "    </tr>\n",
       "  </thead>\n",
       "  <tbody>\n",
       "    <tr>\n",
       "      <th>0</th>\n",
       "      <td>Afghanistan</td>\n",
       "      <td>3.48</td>\n",
       "      <td>3.46</td>\n",
       "      <td>2.60</td>\n",
       "      <td>3.45</td>\n",
       "      <td>3.70</td>\n",
       "      <td>3.26</td>\n",
       "      <td>4.54</td>\n",
       "      <td>4.34</td>\n",
       "      <td>NaN</td>\n",
       "      <td>NaN</td>\n",
       "      <td>NaN</td>\n",
       "      <td>NaN</td>\n",
       "    </tr>\n",
       "    <tr>\n",
       "      <th>1</th>\n",
       "      <td>Bangladesh</td>\n",
       "      <td>NaN</td>\n",
       "      <td>2.13</td>\n",
       "      <td>2.05</td>\n",
       "      <td>1.97</td>\n",
       "      <td>2.10</td>\n",
       "      <td>1.87</td>\n",
       "      <td>2.22</td>\n",
       "      <td>1.85</td>\n",
       "      <td>1.66</td>\n",
       "      <td>1.68</td>\n",
       "      <td>1.76</td>\n",
       "      <td>1.83</td>\n",
       "    </tr>\n",
       "    <tr>\n",
       "      <th>2</th>\n",
       "      <td>Bhutan</td>\n",
       "      <td>4.12</td>\n",
       "      <td>4.77</td>\n",
       "      <td>NaN</td>\n",
       "      <td>5.72</td>\n",
       "      <td>6.04</td>\n",
       "      <td>6.24</td>\n",
       "      <td>6.34</td>\n",
       "      <td>6.70</td>\n",
       "      <td>6.07</td>\n",
       "      <td>4.76</td>\n",
       "      <td>5.98</td>\n",
       "      <td>6.97</td>\n",
       "    </tr>\n",
       "    <tr>\n",
       "      <th>3</th>\n",
       "      <td>India</td>\n",
       "      <td>3.38</td>\n",
       "      <td>3.80</td>\n",
       "      <td>4.08</td>\n",
       "      <td>3.84</td>\n",
       "      <td>3.90</td>\n",
       "      <td>4.12</td>\n",
       "      <td>4.26</td>\n",
       "      <td>4.31</td>\n",
       "      <td>4.38</td>\n",
       "      <td>3.90</td>\n",
       "      <td>4.29</td>\n",
       "      <td>4.63</td>\n",
       "    </tr>\n",
       "    <tr>\n",
       "      <th>4</th>\n",
       "      <td>Iran (Islamic Republic of)</td>\n",
       "      <td>3.71</td>\n",
       "      <td>3.48</td>\n",
       "      <td>2.94</td>\n",
       "      <td>2.85</td>\n",
       "      <td>2.62</td>\n",
       "      <td>2.63</td>\n",
       "      <td>3.17</td>\n",
       "      <td>3.46</td>\n",
       "      <td>3.62</td>\n",
       "      <td>3.26</td>\n",
       "      <td>3.20</td>\n",
       "      <td>NaN</td>\n",
       "    </tr>\n",
       "  </tbody>\n",
       "</table>\n",
       "</div>"
      ],
      "text/plain": [
       "                      Country  2010  2011  2012  2013  2014  2015  2016  2017  \\\n",
       "0                 Afghanistan  3.48  3.46  2.60  3.45  3.70  3.26  4.54  4.34   \n",
       "1                  Bangladesh   NaN  2.13  2.05  1.97  2.10  1.87  2.22  1.85   \n",
       "2                      Bhutan  4.12  4.77   NaN  5.72  6.04  6.24  6.34  6.70   \n",
       "3                       India  3.38  3.80  4.08  3.84  3.90  4.12  4.26  4.31   \n",
       "4  Iran (Islamic Republic of)  3.71  3.48  2.94  2.85  2.62  2.63  3.17  3.46   \n",
       "\n",
       "   2018  2019  2020  2021  \n",
       "0   NaN   NaN   NaN   NaN  \n",
       "1  1.66  1.68  1.76  1.83  \n",
       "2  6.07  4.76  5.98  6.97  \n",
       "3  4.38  3.90  4.29  4.63  \n",
       "4  3.62  3.26  3.20   NaN  "
      ]
     },
     "execution_count": 104,
     "metadata": {},
     "output_type": "execute_result"
    }
   ],
   "source": [
    "df9.head()"
   ]
  },
  {
   "cell_type": "code",
   "execution_count": 144,
   "id": "7bae6ddb",
   "metadata": {},
   "outputs": [],
   "source": [
    "dfx = df9.melt(id_vars=['Country'], var_name= 'Year', value_name=\"Government expenditure on education as a percentage of GDP (%)\")"
   ]
  },
  {
   "cell_type": "code",
   "execution_count": 145,
   "id": "b9e54e45",
   "metadata": {},
   "outputs": [
    {
     "data": {
      "text/html": [
       "<div>\n",
       "<style scoped>\n",
       "    .dataframe tbody tr th:only-of-type {\n",
       "        vertical-align: middle;\n",
       "    }\n",
       "\n",
       "    .dataframe tbody tr th {\n",
       "        vertical-align: top;\n",
       "    }\n",
       "\n",
       "    .dataframe thead th {\n",
       "        text-align: right;\n",
       "    }\n",
       "</style>\n",
       "<table border=\"1\" class=\"dataframe\">\n",
       "  <thead>\n",
       "    <tr style=\"text-align: right;\">\n",
       "      <th></th>\n",
       "      <th>Country</th>\n",
       "      <th>Year</th>\n",
       "      <th>Government expenditure on education as a percentage of GDP (%)</th>\n",
       "    </tr>\n",
       "  </thead>\n",
       "  <tbody>\n",
       "    <tr>\n",
       "      <th>0</th>\n",
       "      <td>Afghanistan</td>\n",
       "      <td>2010</td>\n",
       "      <td>3.48</td>\n",
       "    </tr>\n",
       "    <tr>\n",
       "      <th>1</th>\n",
       "      <td>Bangladesh</td>\n",
       "      <td>2010</td>\n",
       "      <td>NaN</td>\n",
       "    </tr>\n",
       "  </tbody>\n",
       "</table>\n",
       "</div>"
      ],
      "text/plain": [
       "       Country  Year  \\\n",
       "0  Afghanistan  2010   \n",
       "1   Bangladesh  2010   \n",
       "\n",
       "   Government expenditure on education as a percentage of GDP (%)  \n",
       "0                                               3.48               \n",
       "1                                                NaN               "
      ]
     },
     "execution_count": 145,
     "metadata": {},
     "output_type": "execute_result"
    }
   ],
   "source": [
    "dfx.head(2)"
   ]
  },
  {
   "cell_type": "code",
   "execution_count": 113,
   "id": "6bff63a8",
   "metadata": {},
   "outputs": [
    {
     "name": "stdout",
     "output_type": "stream",
     "text": [
      "<class 'pandas.core.frame.DataFrame'>\n",
      "RangeIndex: 2304 entries, 0 to 2303\n",
      "Data columns (total 3 columns):\n",
      " #   Column   Non-Null Count  Dtype  \n",
      "---  ------   --------------  -----  \n",
      " 0   Country  2292 non-null   object \n",
      " 1   Year     2304 non-null   object \n",
      " 2   % gdp    1968 non-null   float64\n",
      "dtypes: float64(1), object(2)\n",
      "memory usage: 54.1+ KB\n"
     ]
    }
   ],
   "source": [
    "dfx.info()"
   ]
  },
  {
   "cell_type": "code",
   "execution_count": null,
   "id": "27c5948e",
   "metadata": {},
   "outputs": [],
   "source": []
  },
  {
   "cell_type": "code",
   "execution_count": null,
   "id": "eff2a231",
   "metadata": {},
   "outputs": [],
   "source": []
  },
  {
   "cell_type": "code",
   "execution_count": 105,
   "id": "10084175",
   "metadata": {},
   "outputs": [
    {
     "data": {
      "text/plain": [
       "((451, 3),\n",
       " (1346, 3),\n",
       " (590, 3),\n",
       " (494, 3),\n",
       " (255, 3),\n",
       " (503, 3),\n",
       " (2021, 3),\n",
       " (1844, 3),\n",
       " (192, 13))"
      ]
     },
     "execution_count": 105,
     "metadata": {},
     "output_type": "execute_result"
    }
   ],
   "source": [
    "df1.shape, df2.shape, df3.shape, df4.shape, df5.shape, df6.shape, df7.shape, df8.shape, df9.shape"
   ]
  }
 ],
 "metadata": {
  "kernelspec": {
   "display_name": "Python 3 (ipykernel)",
   "language": "python",
   "name": "python3"
  },
  "language_info": {
   "codemirror_mode": {
    "name": "ipython",
    "version": 3
   },
   "file_extension": ".py",
   "mimetype": "text/x-python",
   "name": "python",
   "nbconvert_exporter": "python",
   "pygments_lexer": "ipython3",
   "version": "3.11.3"
  }
 },
 "nbformat": 4,
 "nbformat_minor": 5
}
