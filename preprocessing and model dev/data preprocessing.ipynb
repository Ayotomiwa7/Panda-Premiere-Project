{
 "cells": [
  {
   "cell_type": "markdown",
   "id": "b6208643",
   "metadata": {},
   "source": [
    "# Import Packages"
   ]
  },
  {
   "cell_type": "code",
   "execution_count": 1,
   "id": "b9742e36",
   "metadata": {},
   "outputs": [],
   "source": [
    "import numpy as np\n",
    "import pandas as pd\n",
    "import matplotlib.pyplot as plt\n",
    "import seaborn as sns"
   ]
  },
  {
   "cell_type": "markdown",
   "id": "6de71d73",
   "metadata": {},
   "source": [
    "# Load Data"
   ]
  },
  {
   "cell_type": "code",
   "execution_count": 130,
   "id": "a1e25c58",
   "metadata": {},
   "outputs": [],
   "source": [
    "df = pd.read_csv(\"unesco data.csv\")"
   ]
  },
  {
   "cell_type": "code",
   "execution_count": 131,
   "id": "7ca4e7cd",
   "metadata": {},
   "outputs": [
    {
     "name": "stdout",
     "output_type": "stream",
     "text": [
      "<class 'pandas.core.frame.DataFrame'>\n",
      "RangeIndex: 9152 entries, 0 to 9151\n",
      "Data columns (total 8 columns):\n",
      " #   Column            Non-Null Count  Dtype  \n",
      "---  ------            --------------  -----  \n",
      " 0   Region            9152 non-null   object \n",
      " 1   Country           9152 non-null   object \n",
      " 2   Target            9152 non-null   object \n",
      " 3   Indicator Number  9152 non-null   object \n",
      " 4   Indicator Name    9152 non-null   object \n",
      " 5   Year              9152 non-null   int64  \n",
      " 6   Value             9152 non-null   float64\n",
      " 7   Metadata          7342 non-null   object \n",
      "dtypes: float64(1), int64(1), object(6)\n",
      "memory usage: 572.1+ KB\n"
     ]
    }
   ],
   "source": [
    "df.info()"
   ]
  },
  {
   "cell_type": "code",
   "execution_count": 132,
   "id": "27e85a6a",
   "metadata": {},
   "outputs": [
    {
     "data": {
      "text/html": [
       "<div>\n",
       "<style scoped>\n",
       "    .dataframe tbody tr th:only-of-type {\n",
       "        vertical-align: middle;\n",
       "    }\n",
       "\n",
       "    .dataframe tbody tr th {\n",
       "        vertical-align: top;\n",
       "    }\n",
       "\n",
       "    .dataframe thead th {\n",
       "        text-align: right;\n",
       "    }\n",
       "</style>\n",
       "<table border=\"1\" class=\"dataframe\">\n",
       "  <thead>\n",
       "    <tr style=\"text-align: right;\">\n",
       "      <th></th>\n",
       "      <th>Region</th>\n",
       "      <th>Country</th>\n",
       "      <th>Target</th>\n",
       "      <th>Indicator Number</th>\n",
       "      <th>Indicator Name</th>\n",
       "      <th>Year</th>\n",
       "      <th>Value</th>\n",
       "      <th>Metadata</th>\n",
       "    </tr>\n",
       "  </thead>\n",
       "  <tbody>\n",
       "    <tr>\n",
       "      <th>0</th>\n",
       "      <td>SDG: Sub-Saharan Africa</td>\n",
       "      <td>Zimbabwe</td>\n",
       "      <td>Education 2030 FFA</td>\n",
       "      <td>Education 2030 FFA</td>\n",
       "      <td>Government expenditure on education as a perce...</td>\n",
       "      <td>2010</td>\n",
       "      <td>1.54</td>\n",
       "      <td>NaN</td>\n",
       "    </tr>\n",
       "    <tr>\n",
       "      <th>1</th>\n",
       "      <td>SDG: Latin America and the Caribbean</td>\n",
       "      <td>Guyana</td>\n",
       "      <td>4.5</td>\n",
       "      <td>4.5.6</td>\n",
       "      <td>Initial government expenditure on education as...</td>\n",
       "      <td>2010</td>\n",
       "      <td>2.37</td>\n",
       "      <td>SOURCE: UIS/UOE data</td>\n",
       "    </tr>\n",
       "  </tbody>\n",
       "</table>\n",
       "</div>"
      ],
      "text/plain": [
       "                                 Region   Country              Target  \\\n",
       "0               SDG: Sub-Saharan Africa  Zimbabwe  Education 2030 FFA   \n",
       "1  SDG: Latin America and the Caribbean    Guyana                 4.5   \n",
       "\n",
       "     Indicator Number                                     Indicator Name  \\\n",
       "0  Education 2030 FFA  Government expenditure on education as a perce...   \n",
       "1               4.5.6  Initial government expenditure on education as...   \n",
       "\n",
       "   Year  Value              Metadata  \n",
       "0  2010   1.54                   NaN  \n",
       "1  2010   2.37  SOURCE: UIS/UOE data  "
      ]
     },
     "execution_count": 132,
     "metadata": {},
     "output_type": "execute_result"
    }
   ],
   "source": [
    "df.head(2)"
   ]
  },
  {
   "cell_type": "code",
   "execution_count": 133,
   "id": "5cad3fef",
   "metadata": {},
   "outputs": [],
   "source": [
    "# drop irrelevant columns\n",
    "\n",
    "df.drop(columns=['Region', 'Target', 'Indicator Number', 'Metadata'], inplace=True)"
   ]
  },
  {
   "cell_type": "code",
   "execution_count": 134,
   "id": "e4cfd444",
   "metadata": {},
   "outputs": [
    {
     "name": "stdout",
     "output_type": "stream",
     "text": [
      "<class 'pandas.core.frame.DataFrame'>\n",
      "RangeIndex: 9152 entries, 0 to 9151\n",
      "Data columns (total 4 columns):\n",
      " #   Column          Non-Null Count  Dtype  \n",
      "---  ------          --------------  -----  \n",
      " 0   Country         9152 non-null   object \n",
      " 1   Indicator Name  9152 non-null   object \n",
      " 2   Year            9152 non-null   int64  \n",
      " 3   Value           9152 non-null   float64\n",
      "dtypes: float64(1), int64(1), object(2)\n",
      "memory usage: 286.1+ KB\n"
     ]
    }
   ],
   "source": [
    "df.info()"
   ]
  },
  {
   "cell_type": "code",
   "execution_count": 135,
   "id": "3f9823b3",
   "metadata": {},
   "outputs": [
    {
     "data": {
      "text/html": [
       "<div>\n",
       "<style scoped>\n",
       "    .dataframe tbody tr th:only-of-type {\n",
       "        vertical-align: middle;\n",
       "    }\n",
       "\n",
       "    .dataframe tbody tr th {\n",
       "        vertical-align: top;\n",
       "    }\n",
       "\n",
       "    .dataframe thead th {\n",
       "        text-align: right;\n",
       "    }\n",
       "</style>\n",
       "<table border=\"1\" class=\"dataframe\">\n",
       "  <thead>\n",
       "    <tr style=\"text-align: right;\">\n",
       "      <th></th>\n",
       "      <th>Country</th>\n",
       "      <th>Indicator Name</th>\n",
       "      <th>Year</th>\n",
       "      <th>Value</th>\n",
       "    </tr>\n",
       "  </thead>\n",
       "  <tbody>\n",
       "    <tr>\n",
       "      <th>0</th>\n",
       "      <td>Zimbabwe</td>\n",
       "      <td>Government expenditure on education as a perce...</td>\n",
       "      <td>2010</td>\n",
       "      <td>1.54</td>\n",
       "    </tr>\n",
       "    <tr>\n",
       "      <th>1</th>\n",
       "      <td>Guyana</td>\n",
       "      <td>Initial government expenditure on education as...</td>\n",
       "      <td>2010</td>\n",
       "      <td>2.37</td>\n",
       "    </tr>\n",
       "  </tbody>\n",
       "</table>\n",
       "</div>"
      ],
      "text/plain": [
       "    Country                                     Indicator Name  Year  Value\n",
       "0  Zimbabwe  Government expenditure on education as a perce...  2010   1.54\n",
       "1    Guyana  Initial government expenditure on education as...  2010   2.37"
      ]
     },
     "execution_count": 135,
     "metadata": {},
     "output_type": "execute_result"
    }
   ],
   "source": [
    "df.head(2)"
   ]
  },
  {
   "cell_type": "code",
   "execution_count": 136,
   "id": "b1a3d715",
   "metadata": {},
   "outputs": [],
   "source": [
    "df_pivoted = df.pivot_table(index=[\"Country\", \"Year\"], columns=\"Indicator Name\", values=\"Value\").reset_index()"
   ]
  },
  {
   "cell_type": "code",
   "execution_count": 137,
   "id": "28acee3d",
   "metadata": {},
   "outputs": [
    {
     "data": {
      "text/html": [
       "<div>\n",
       "<style scoped>\n",
       "    .dataframe tbody tr th:only-of-type {\n",
       "        vertical-align: middle;\n",
       "    }\n",
       "\n",
       "    .dataframe tbody tr th {\n",
       "        vertical-align: top;\n",
       "    }\n",
       "\n",
       "    .dataframe thead th {\n",
       "        text-align: right;\n",
       "    }\n",
       "</style>\n",
       "<table border=\"1\" class=\"dataframe\">\n",
       "  <thead>\n",
       "    <tr style=\"text-align: right;\">\n",
       "      <th>Indicator Name</th>\n",
       "      <th>Country</th>\n",
       "      <th>Year</th>\n",
       "      <th>Expenditure on education (public, households, ODA) as a percentage of GDP</th>\n",
       "      <th>Expenditure on education (public, private, international) as a percentage of GDP</th>\n",
       "      <th>Expenditure on education as a percentage of total government expenditure (%)</th>\n",
       "      <th>Government expenditure on education as a percentage of GDP (%)</th>\n",
       "      <th>Initial government expenditure on education as a percentage of GDP (%)</th>\n",
       "      <th>Initial private expenditure on education (household) as a percentage of GDP (%)</th>\n",
       "      <th>Initial private expenditure on education (other non-educational private entities) as a percentage of GDP (%)</th>\n",
       "      <th>International expenditure on education as a percentage of GDP (%)</th>\n",
       "      <th>Percentage of total aid to education allocated to least developed countries (%)</th>\n",
       "    </tr>\n",
       "  </thead>\n",
       "  <tbody>\n",
       "    <tr>\n",
       "      <th>0</th>\n",
       "      <td>Afghanistan</td>\n",
       "      <td>2010</td>\n",
       "      <td>NaN</td>\n",
       "      <td>NaN</td>\n",
       "      <td>6.40</td>\n",
       "      <td>3.48</td>\n",
       "      <td>2.85</td>\n",
       "      <td>NaN</td>\n",
       "      <td>NaN</td>\n",
       "      <td>0.63</td>\n",
       "      <td>NaN</td>\n",
       "    </tr>\n",
       "    <tr>\n",
       "      <th>1</th>\n",
       "      <td>Afghanistan</td>\n",
       "      <td>2011</td>\n",
       "      <td>NaN</td>\n",
       "      <td>NaN</td>\n",
       "      <td>5.15</td>\n",
       "      <td>3.46</td>\n",
       "      <td>3.46</td>\n",
       "      <td>NaN</td>\n",
       "      <td>0.0</td>\n",
       "      <td>2.08</td>\n",
       "      <td>NaN</td>\n",
       "    </tr>\n",
       "  </tbody>\n",
       "</table>\n",
       "</div>"
      ],
      "text/plain": [
       "Indicator Name      Country  Year  \\\n",
       "0               Afghanistan  2010   \n",
       "1               Afghanistan  2011   \n",
       "\n",
       "Indicator Name  Expenditure on education (public, households, ODA) as a percentage of GDP  \\\n",
       "0                                                             NaN                           \n",
       "1                                                             NaN                           \n",
       "\n",
       "Indicator Name  Expenditure on education (public, private, international) as a percentage of GDP  \\\n",
       "0                                                             NaN                                  \n",
       "1                                                             NaN                                  \n",
       "\n",
       "Indicator Name  Expenditure on education as a percentage of total government expenditure (%)  \\\n",
       "0                                                            6.40                              \n",
       "1                                                            5.15                              \n",
       "\n",
       "Indicator Name  Government expenditure on education as a percentage of GDP (%)  \\\n",
       "0                                                            3.48                \n",
       "1                                                            3.46                \n",
       "\n",
       "Indicator Name  Initial government expenditure on education as a percentage of GDP (%)  \\\n",
       "0                                                            2.85                        \n",
       "1                                                            3.46                        \n",
       "\n",
       "Indicator Name  Initial private expenditure on education (household) as a percentage of GDP (%)  \\\n",
       "0                                                             NaN                                 \n",
       "1                                                             NaN                                 \n",
       "\n",
       "Indicator Name  Initial private expenditure on education (other non-educational private entities) as a percentage of GDP (%)  \\\n",
       "0                                                             NaN                                                              \n",
       "1                                                             0.0                                                              \n",
       "\n",
       "Indicator Name  International expenditure on education as a percentage of GDP (%)  \\\n",
       "0                                                            0.63                   \n",
       "1                                                            2.08                   \n",
       "\n",
       "Indicator Name  Percentage of total aid to education allocated to least developed countries (%)  \n",
       "0                                                             NaN                                \n",
       "1                                                             NaN                                "
      ]
     },
     "execution_count": 137,
     "metadata": {},
     "output_type": "execute_result"
    }
   ],
   "source": [
    "df_pivoted.head(2)"
   ]
  },
  {
   "cell_type": "code",
   "execution_count": 138,
   "id": "7b9e5506",
   "metadata": {},
   "outputs": [
    {
     "data": {
      "text/plain": [
       "Index(['Country', 'Year',\n",
       "       'Expenditure on education (public, households, ODA) as a percentage of GDP',\n",
       "       'Expenditure on education (public, private, international) as a percentage of GDP',\n",
       "       'Expenditure on education as a percentage of total government expenditure (%)',\n",
       "       'Government expenditure on education as a percentage of GDP (%)',\n",
       "       'Initial government expenditure on education as a percentage of GDP (%)',\n",
       "       'Initial private expenditure on education (household) as a percentage of GDP (%)',\n",
       "       'Initial private expenditure on education (other non-educational private entities) as a percentage of GDP (%)',\n",
       "       'International expenditure on education as a percentage of GDP (%)',\n",
       "       'Percentage of total aid to education allocated to least developed countries (%)'],\n",
       "      dtype='object', name='Indicator Name')"
      ]
     },
     "execution_count": 138,
     "metadata": {},
     "output_type": "execute_result"
    }
   ],
   "source": [
    "df_pivoted.columns"
   ]
  },
  {
   "cell_type": "code",
   "execution_count": 139,
   "id": "cd834f39",
   "metadata": {},
   "outputs": [
    {
     "name": "stdout",
     "output_type": "stream",
     "text": [
      "<class 'pandas.core.frame.DataFrame'>\n",
      "RangeIndex: 2274 entries, 0 to 2273\n",
      "Data columns (total 11 columns):\n",
      " #   Column                                                                                                        Non-Null Count  Dtype  \n",
      "---  ------                                                                                                        --------------  -----  \n",
      " 0   Country                                                                                                       2274 non-null   object \n",
      " 1   Year                                                                                                          2274 non-null   int64  \n",
      " 2   Expenditure on education (public, households, ODA) as a percentage of GDP                                     503 non-null    float64\n",
      " 3   Expenditure on education (public, private, international) as a percentage of GDP                              255 non-null    float64\n",
      " 4   Expenditure on education as a percentage of total government expenditure (%)                                  2021 non-null   float64\n",
      " 5   Government expenditure on education as a percentage of GDP (%)                                                2093 non-null   float64\n",
      " 6   Initial government expenditure on education as a percentage of GDP (%)                                        1346 non-null   float64\n",
      " 7   Initial private expenditure on education (household) as a percentage of GDP (%)                               590 non-null    float64\n",
      " 8   Initial private expenditure on education (other non-educational private entities) as a percentage of GDP (%)  494 non-null    float64\n",
      " 9   International expenditure on education as a percentage of GDP (%)                                             1399 non-null   float64\n",
      " 10  Percentage of total aid to education allocated to least developed countries (%)                               451 non-null    float64\n",
      "dtypes: float64(9), int64(1), object(1)\n",
      "memory usage: 195.6+ KB\n"
     ]
    }
   ],
   "source": [
    "df_pivoted.info()"
   ]
  },
  {
   "cell_type": "code",
   "execution_count": 140,
   "id": "36a2400f",
   "metadata": {},
   "outputs": [],
   "source": [
    "df_pivoted.index.name = None\n",
    "df_pivoted.columns.name = None"
   ]
  },
  {
   "cell_type": "code",
   "execution_count": 141,
   "id": "b85d18fe",
   "metadata": {},
   "outputs": [
    {
     "data": {
      "text/html": [
       "<div>\n",
       "<style scoped>\n",
       "    .dataframe tbody tr th:only-of-type {\n",
       "        vertical-align: middle;\n",
       "    }\n",
       "\n",
       "    .dataframe tbody tr th {\n",
       "        vertical-align: top;\n",
       "    }\n",
       "\n",
       "    .dataframe thead th {\n",
       "        text-align: right;\n",
       "    }\n",
       "</style>\n",
       "<table border=\"1\" class=\"dataframe\">\n",
       "  <thead>\n",
       "    <tr style=\"text-align: right;\">\n",
       "      <th></th>\n",
       "      <th>Country</th>\n",
       "      <th>Year</th>\n",
       "      <th>Expenditure on education (public, households, ODA) as a percentage of GDP</th>\n",
       "      <th>Expenditure on education (public, private, international) as a percentage of GDP</th>\n",
       "      <th>Expenditure on education as a percentage of total government expenditure (%)</th>\n",
       "      <th>Government expenditure on education as a percentage of GDP (%)</th>\n",
       "      <th>Initial government expenditure on education as a percentage of GDP (%)</th>\n",
       "      <th>Initial private expenditure on education (household) as a percentage of GDP (%)</th>\n",
       "      <th>Initial private expenditure on education (other non-educational private entities) as a percentage of GDP (%)</th>\n",
       "      <th>International expenditure on education as a percentage of GDP (%)</th>\n",
       "      <th>Percentage of total aid to education allocated to least developed countries (%)</th>\n",
       "    </tr>\n",
       "  </thead>\n",
       "  <tbody>\n",
       "    <tr>\n",
       "      <th>0</th>\n",
       "      <td>Afghanistan</td>\n",
       "      <td>2010</td>\n",
       "      <td>NaN</td>\n",
       "      <td>NaN</td>\n",
       "      <td>6.40</td>\n",
       "      <td>3.48</td>\n",
       "      <td>2.85</td>\n",
       "      <td>NaN</td>\n",
       "      <td>NaN</td>\n",
       "      <td>0.63</td>\n",
       "      <td>NaN</td>\n",
       "    </tr>\n",
       "    <tr>\n",
       "      <th>1</th>\n",
       "      <td>Afghanistan</td>\n",
       "      <td>2011</td>\n",
       "      <td>NaN</td>\n",
       "      <td>NaN</td>\n",
       "      <td>5.15</td>\n",
       "      <td>3.46</td>\n",
       "      <td>3.46</td>\n",
       "      <td>NaN</td>\n",
       "      <td>0.0</td>\n",
       "      <td>2.08</td>\n",
       "      <td>NaN</td>\n",
       "    </tr>\n",
       "    <tr>\n",
       "      <th>2</th>\n",
       "      <td>Afghanistan</td>\n",
       "      <td>2012</td>\n",
       "      <td>NaN</td>\n",
       "      <td>NaN</td>\n",
       "      <td>6.49</td>\n",
       "      <td>2.60</td>\n",
       "      <td>2.22</td>\n",
       "      <td>NaN</td>\n",
       "      <td>0.0</td>\n",
       "      <td>0.38</td>\n",
       "      <td>NaN</td>\n",
       "    </tr>\n",
       "    <tr>\n",
       "      <th>3</th>\n",
       "      <td>Afghanistan</td>\n",
       "      <td>2013</td>\n",
       "      <td>NaN</td>\n",
       "      <td>NaN</td>\n",
       "      <td>7.13</td>\n",
       "      <td>3.45</td>\n",
       "      <td>2.81</td>\n",
       "      <td>NaN</td>\n",
       "      <td>0.0</td>\n",
       "      <td>0.65</td>\n",
       "      <td>NaN</td>\n",
       "    </tr>\n",
       "    <tr>\n",
       "      <th>4</th>\n",
       "      <td>Afghanistan</td>\n",
       "      <td>2014</td>\n",
       "      <td>NaN</td>\n",
       "      <td>NaN</td>\n",
       "      <td>7.96</td>\n",
       "      <td>3.70</td>\n",
       "      <td>2.99</td>\n",
       "      <td>NaN</td>\n",
       "      <td>0.0</td>\n",
       "      <td>0.70</td>\n",
       "      <td>NaN</td>\n",
       "    </tr>\n",
       "  </tbody>\n",
       "</table>\n",
       "</div>"
      ],
      "text/plain": [
       "       Country  Year  \\\n",
       "0  Afghanistan  2010   \n",
       "1  Afghanistan  2011   \n",
       "2  Afghanistan  2012   \n",
       "3  Afghanistan  2013   \n",
       "4  Afghanistan  2014   \n",
       "\n",
       "   Expenditure on education (public, households, ODA) as a percentage of GDP  \\\n",
       "0                                                NaN                           \n",
       "1                                                NaN                           \n",
       "2                                                NaN                           \n",
       "3                                                NaN                           \n",
       "4                                                NaN                           \n",
       "\n",
       "   Expenditure on education (public, private, international) as a percentage of GDP  \\\n",
       "0                                                NaN                                  \n",
       "1                                                NaN                                  \n",
       "2                                                NaN                                  \n",
       "3                                                NaN                                  \n",
       "4                                                NaN                                  \n",
       "\n",
       "   Expenditure on education as a percentage of total government expenditure (%)  \\\n",
       "0                                               6.40                              \n",
       "1                                               5.15                              \n",
       "2                                               6.49                              \n",
       "3                                               7.13                              \n",
       "4                                               7.96                              \n",
       "\n",
       "   Government expenditure on education as a percentage of GDP (%)  \\\n",
       "0                                               3.48                \n",
       "1                                               3.46                \n",
       "2                                               2.60                \n",
       "3                                               3.45                \n",
       "4                                               3.70                \n",
       "\n",
       "   Initial government expenditure on education as a percentage of GDP (%)  \\\n",
       "0                                               2.85                        \n",
       "1                                               3.46                        \n",
       "2                                               2.22                        \n",
       "3                                               2.81                        \n",
       "4                                               2.99                        \n",
       "\n",
       "   Initial private expenditure on education (household) as a percentage of GDP (%)  \\\n",
       "0                                                NaN                                 \n",
       "1                                                NaN                                 \n",
       "2                                                NaN                                 \n",
       "3                                                NaN                                 \n",
       "4                                                NaN                                 \n",
       "\n",
       "   Initial private expenditure on education (other non-educational private entities) as a percentage of GDP (%)  \\\n",
       "0                                                NaN                                                              \n",
       "1                                                0.0                                                              \n",
       "2                                                0.0                                                              \n",
       "3                                                0.0                                                              \n",
       "4                                                0.0                                                              \n",
       "\n",
       "   International expenditure on education as a percentage of GDP (%)  \\\n",
       "0                                               0.63                   \n",
       "1                                               2.08                   \n",
       "2                                               0.38                   \n",
       "3                                               0.65                   \n",
       "4                                               0.70                   \n",
       "\n",
       "   Percentage of total aid to education allocated to least developed countries (%)  \n",
       "0                                                NaN                                \n",
       "1                                                NaN                                \n",
       "2                                                NaN                                \n",
       "3                                                NaN                                \n",
       "4                                                NaN                                "
      ]
     },
     "execution_count": 141,
     "metadata": {},
     "output_type": "execute_result"
    }
   ],
   "source": [
    "df_pivoted.head()"
   ]
  },
  {
   "cell_type": "code",
   "execution_count": 142,
   "id": "6e872a81",
   "metadata": {},
   "outputs": [
    {
     "data": {
      "text/plain": [
       "Index(['Country', 'Year',\n",
       "       'Expenditure on education (public, households, ODA) as a percentage of GDP',\n",
       "       'Expenditure on education (public, private, international) as a percentage of GDP',\n",
       "       'Expenditure on education as a percentage of total government expenditure (%)',\n",
       "       'Government expenditure on education as a percentage of GDP (%)',\n",
       "       'Initial government expenditure on education as a percentage of GDP (%)',\n",
       "       'Initial private expenditure on education (household) as a percentage of GDP (%)',\n",
       "       'Initial private expenditure on education (other non-educational private entities) as a percentage of GDP (%)',\n",
       "       'International expenditure on education as a percentage of GDP (%)',\n",
       "       'Percentage of total aid to education allocated to least developed countries (%)'],\n",
       "      dtype='object')"
      ]
     },
     "execution_count": 142,
     "metadata": {},
     "output_type": "execute_result"
    }
   ],
   "source": [
    "df_pivoted.columns"
   ]
  },
  {
   "cell_type": "code",
   "execution_count": 143,
   "id": "6293f7b0",
   "metadata": {},
   "outputs": [
    {
     "data": {
      "text/plain": [
       "Country                                                                                                          0.000000\n",
       "Year                                                                                                             0.000000\n",
       "Expenditure on education (public, households, ODA) as a percentage of GDP                                       77.880387\n",
       "Expenditure on education (public, private, international) as a percentage of GDP                                88.786280\n",
       "Expenditure on education as a percentage of total government expenditure (%)                                    11.125770\n",
       "Government expenditure on education as a percentage of GDP (%)                                                   7.959543\n",
       "Initial government expenditure on education as a percentage of GDP (%)                                          40.809147\n",
       "Initial private expenditure on education (household) as a percentage of GDP (%)                                 74.054529\n",
       "Initial private expenditure on education (other non-educational private entities) as a percentage of GDP (%)    78.276165\n",
       "International expenditure on education as a percentage of GDP (%)                                               38.478452\n",
       "Percentage of total aid to education allocated to least developed countries (%)                                 80.167106\n",
       "dtype: float64"
      ]
     },
     "execution_count": 143,
     "metadata": {},
     "output_type": "execute_result"
    }
   ],
   "source": [
    "# percentage of missing values\n",
    "\n",
    "df_pivoted.isnull().mean() * 100"
   ]
  },
  {
   "cell_type": "code",
   "execution_count": 144,
   "id": "b95db7aa",
   "metadata": {},
   "outputs": [],
   "source": [
    "# drop columns with more than 30% null values\n",
    "\n",
    "df1 = df_pivoted.drop(columns= [\"Expenditure on education (public, households, ODA) as a percentage of GDP\",\n",
    "                               \"Expenditure on education (public, private, international) as a percentage of GDP\",\n",
    "                               \"Initial government expenditure on education as a percentage of GDP (%)\",\n",
    "                               \"Initial private expenditure on education (household) as a percentage of GDP (%)\",\n",
    "                               \"Initial private expenditure on education (other non-educational private entities) as a percentage of GDP (%)\",\n",
    "                               \"International expenditure on education as a percentage of GDP (%)\",\n",
    "                               \"Percentage of total aid to education allocated to least developed countries (%)\"])"
   ]
  },
  {
   "cell_type": "code",
   "execution_count": 145,
   "id": "895e9f6d",
   "metadata": {},
   "outputs": [
    {
     "data": {
      "text/html": [
       "<div>\n",
       "<style scoped>\n",
       "    .dataframe tbody tr th:only-of-type {\n",
       "        vertical-align: middle;\n",
       "    }\n",
       "\n",
       "    .dataframe tbody tr th {\n",
       "        vertical-align: top;\n",
       "    }\n",
       "\n",
       "    .dataframe thead th {\n",
       "        text-align: right;\n",
       "    }\n",
       "</style>\n",
       "<table border=\"1\" class=\"dataframe\">\n",
       "  <thead>\n",
       "    <tr style=\"text-align: right;\">\n",
       "      <th></th>\n",
       "      <th>Country</th>\n",
       "      <th>Year</th>\n",
       "      <th>Expenditure on education as a percentage of total government expenditure (%)</th>\n",
       "      <th>Government expenditure on education as a percentage of GDP (%)</th>\n",
       "    </tr>\n",
       "  </thead>\n",
       "  <tbody>\n",
       "    <tr>\n",
       "      <th>0</th>\n",
       "      <td>Afghanistan</td>\n",
       "      <td>2010</td>\n",
       "      <td>6.40</td>\n",
       "      <td>3.48</td>\n",
       "    </tr>\n",
       "    <tr>\n",
       "      <th>1</th>\n",
       "      <td>Afghanistan</td>\n",
       "      <td>2011</td>\n",
       "      <td>5.15</td>\n",
       "      <td>3.46</td>\n",
       "    </tr>\n",
       "    <tr>\n",
       "      <th>2</th>\n",
       "      <td>Afghanistan</td>\n",
       "      <td>2012</td>\n",
       "      <td>6.49</td>\n",
       "      <td>2.60</td>\n",
       "    </tr>\n",
       "    <tr>\n",
       "      <th>3</th>\n",
       "      <td>Afghanistan</td>\n",
       "      <td>2013</td>\n",
       "      <td>7.13</td>\n",
       "      <td>3.45</td>\n",
       "    </tr>\n",
       "    <tr>\n",
       "      <th>4</th>\n",
       "      <td>Afghanistan</td>\n",
       "      <td>2014</td>\n",
       "      <td>7.96</td>\n",
       "      <td>3.70</td>\n",
       "    </tr>\n",
       "  </tbody>\n",
       "</table>\n",
       "</div>"
      ],
      "text/plain": [
       "       Country  Year  \\\n",
       "0  Afghanistan  2010   \n",
       "1  Afghanistan  2011   \n",
       "2  Afghanistan  2012   \n",
       "3  Afghanistan  2013   \n",
       "4  Afghanistan  2014   \n",
       "\n",
       "   Expenditure on education as a percentage of total government expenditure (%)  \\\n",
       "0                                               6.40                              \n",
       "1                                               5.15                              \n",
       "2                                               6.49                              \n",
       "3                                               7.13                              \n",
       "4                                               7.96                              \n",
       "\n",
       "   Government expenditure on education as a percentage of GDP (%)  \n",
       "0                                               3.48               \n",
       "1                                               3.46               \n",
       "2                                               2.60               \n",
       "3                                               3.45               \n",
       "4                                               3.70               "
      ]
     },
     "execution_count": 145,
     "metadata": {},
     "output_type": "execute_result"
    }
   ],
   "source": [
    "df1.head()"
   ]
  },
  {
   "cell_type": "code",
   "execution_count": 146,
   "id": "f0db13db",
   "metadata": {},
   "outputs": [
    {
     "data": {
      "text/plain": [
       "Country                                                                          0.000000\n",
       "Year                                                                             0.000000\n",
       "Expenditure on education as a percentage of total government expenditure (%)    11.125770\n",
       "Government expenditure on education as a percentage of GDP (%)                   7.959543\n",
       "dtype: float64"
      ]
     },
     "execution_count": 146,
     "metadata": {},
     "output_type": "execute_result"
    }
   ],
   "source": [
    "# percentage of missing values\n",
    "\n",
    "df1.isnull().mean() * 100"
   ]
  },
  {
   "cell_type": "code",
   "execution_count": 147,
   "id": "26c0e604",
   "metadata": {},
   "outputs": [
    {
     "data": {
      "text/plain": [
       "count    2021.000000\n",
       "mean       13.993345\n",
       "std         4.885673\n",
       "min         0.000000\n",
       "25%        10.600000\n",
       "50%        13.420000\n",
       "75%        16.970000\n",
       "max        35.010000\n",
       "Name: Expenditure on education as a percentage of total government expenditure (%), dtype: float64"
      ]
     },
     "execution_count": 147,
     "metadata": {},
     "output_type": "execute_result"
    }
   ],
   "source": [
    "df1['Expenditure on education as a percentage of total government expenditure (%)'].describe()"
   ]
  },
  {
   "cell_type": "code",
   "execution_count": 148,
   "id": "c5df4c32",
   "metadata": {},
   "outputs": [
    {
     "data": {
      "text/plain": [
       "count    2093.000000\n",
       "mean        4.415968\n",
       "std         1.875801\n",
       "min         0.000000\n",
       "25%         3.150000\n",
       "50%         4.240000\n",
       "75%         5.420000\n",
       "max        16.580000\n",
       "Name: Government expenditure on education as a percentage of GDP (%), dtype: float64"
      ]
     },
     "execution_count": 148,
     "metadata": {},
     "output_type": "execute_result"
    }
   ],
   "source": [
    "df1['Government expenditure on education as a percentage of GDP (%)'].describe()"
   ]
  },
  {
   "cell_type": "code",
   "execution_count": 149,
   "id": "059f6a37",
   "metadata": {},
   "outputs": [],
   "source": [
    "# filling missing values with the mean\n",
    "\n",
    "df1[\"Government expenditure on education as a percentage of GDP (%)\"] = df1[\"Government expenditure on education as a percentage of GDP (%)\"].fillna(df1[\"Government expenditure on education as a percentage of GDP (%)\"].mean())\n",
    "df1['Expenditure on education as a percentage of total government expenditure (%)'] = df1[\"Expenditure on education as a percentage of total government expenditure (%)\"].fillna(df1[\"Expenditure on education as a percentage of total government expenditure (%)\"].mean())"
   ]
  },
  {
   "cell_type": "code",
   "execution_count": 150,
   "id": "bd168c1b",
   "metadata": {},
   "outputs": [
    {
     "data": {
      "text/plain": [
       "Country                                                                         0.0\n",
       "Year                                                                            0.0\n",
       "Expenditure on education as a percentage of total government expenditure (%)    0.0\n",
       "Government expenditure on education as a percentage of GDP (%)                  0.0\n",
       "dtype: float64"
      ]
     },
     "execution_count": 150,
     "metadata": {},
     "output_type": "execute_result"
    }
   ],
   "source": [
    "# percentage of missing values\n",
    "\n",
    "df1.isnull().mean() * 100"
   ]
  },
  {
   "cell_type": "code",
   "execution_count": 151,
   "id": "2414c2fb",
   "metadata": {},
   "outputs": [
    {
     "data": {
      "text/html": [
       "<div>\n",
       "<style scoped>\n",
       "    .dataframe tbody tr th:only-of-type {\n",
       "        vertical-align: middle;\n",
       "    }\n",
       "\n",
       "    .dataframe tbody tr th {\n",
       "        vertical-align: top;\n",
       "    }\n",
       "\n",
       "    .dataframe thead th {\n",
       "        text-align: right;\n",
       "    }\n",
       "</style>\n",
       "<table border=\"1\" class=\"dataframe\">\n",
       "  <thead>\n",
       "    <tr style=\"text-align: right;\">\n",
       "      <th></th>\n",
       "      <th>Country</th>\n",
       "      <th>Year</th>\n",
       "      <th>Expenditure on education as a percentage of total government expenditure (%)</th>\n",
       "      <th>Government expenditure on education as a percentage of GDP (%)</th>\n",
       "    </tr>\n",
       "  </thead>\n",
       "  <tbody>\n",
       "    <tr>\n",
       "      <th>0</th>\n",
       "      <td>Afghanistan</td>\n",
       "      <td>2010</td>\n",
       "      <td>6.40</td>\n",
       "      <td>3.48</td>\n",
       "    </tr>\n",
       "    <tr>\n",
       "      <th>1</th>\n",
       "      <td>Afghanistan</td>\n",
       "      <td>2011</td>\n",
       "      <td>5.15</td>\n",
       "      <td>3.46</td>\n",
       "    </tr>\n",
       "    <tr>\n",
       "      <th>2</th>\n",
       "      <td>Afghanistan</td>\n",
       "      <td>2012</td>\n",
       "      <td>6.49</td>\n",
       "      <td>2.60</td>\n",
       "    </tr>\n",
       "    <tr>\n",
       "      <th>3</th>\n",
       "      <td>Afghanistan</td>\n",
       "      <td>2013</td>\n",
       "      <td>7.13</td>\n",
       "      <td>3.45</td>\n",
       "    </tr>\n",
       "    <tr>\n",
       "      <th>4</th>\n",
       "      <td>Afghanistan</td>\n",
       "      <td>2014</td>\n",
       "      <td>7.96</td>\n",
       "      <td>3.70</td>\n",
       "    </tr>\n",
       "  </tbody>\n",
       "</table>\n",
       "</div>"
      ],
      "text/plain": [
       "       Country  Year  \\\n",
       "0  Afghanistan  2010   \n",
       "1  Afghanistan  2011   \n",
       "2  Afghanistan  2012   \n",
       "3  Afghanistan  2013   \n",
       "4  Afghanistan  2014   \n",
       "\n",
       "   Expenditure on education as a percentage of total government expenditure (%)  \\\n",
       "0                                               6.40                              \n",
       "1                                               5.15                              \n",
       "2                                               6.49                              \n",
       "3                                               7.13                              \n",
       "4                                               7.96                              \n",
       "\n",
       "   Government expenditure on education as a percentage of GDP (%)  \n",
       "0                                               3.48               \n",
       "1                                               3.46               \n",
       "2                                               2.60               \n",
       "3                                               3.45               \n",
       "4                                               3.70               "
      ]
     },
     "execution_count": 151,
     "metadata": {},
     "output_type": "execute_result"
    }
   ],
   "source": [
    "df1.head()"
   ]
  },
  {
   "cell_type": "code",
   "execution_count": 152,
   "id": "5898add5",
   "metadata": {},
   "outputs": [],
   "source": [
    "# a dataframe for 2023 which will be used to test the models built\n",
    "\n",
    "df_2023 = df1[df1['Year'] == 2023]"
   ]
  },
  {
   "cell_type": "code",
   "execution_count": 153,
   "id": "4f68efe7",
   "metadata": {},
   "outputs": [
    {
     "data": {
      "text/html": [
       "<div>\n",
       "<style scoped>\n",
       "    .dataframe tbody tr th:only-of-type {\n",
       "        vertical-align: middle;\n",
       "    }\n",
       "\n",
       "    .dataframe tbody tr th {\n",
       "        vertical-align: top;\n",
       "    }\n",
       "\n",
       "    .dataframe thead th {\n",
       "        text-align: right;\n",
       "    }\n",
       "</style>\n",
       "<table border=\"1\" class=\"dataframe\">\n",
       "  <thead>\n",
       "    <tr style=\"text-align: right;\">\n",
       "      <th></th>\n",
       "      <th>Country</th>\n",
       "      <th>Year</th>\n",
       "      <th>Expenditure on education as a percentage of total government expenditure (%)</th>\n",
       "      <th>Government expenditure on education as a percentage of GDP (%)</th>\n",
       "    </tr>\n",
       "  </thead>\n",
       "  <tbody>\n",
       "    <tr>\n",
       "      <th>35</th>\n",
       "      <td>Algeria</td>\n",
       "      <td>2023</td>\n",
       "      <td>13.26</td>\n",
       "      <td>4.415968</td>\n",
       "    </tr>\n",
       "    <tr>\n",
       "      <th>62</th>\n",
       "      <td>Angola</td>\n",
       "      <td>2023</td>\n",
       "      <td>7.73</td>\n",
       "      <td>4.415968</td>\n",
       "    </tr>\n",
       "    <tr>\n",
       "      <th>86</th>\n",
       "      <td>Antigua and Barbuda</td>\n",
       "      <td>2023</td>\n",
       "      <td>9.80</td>\n",
       "      <td>4.415968</td>\n",
       "    </tr>\n",
       "    <tr>\n",
       "      <th>171</th>\n",
       "      <td>Bahamas</td>\n",
       "      <td>2023</td>\n",
       "      <td>11.59</td>\n",
       "      <td>3.090000</td>\n",
       "    </tr>\n",
       "    <tr>\n",
       "      <th>198</th>\n",
       "      <td>Bangladesh</td>\n",
       "      <td>2023</td>\n",
       "      <td>12.01</td>\n",
       "      <td>2.050000</td>\n",
       "    </tr>\n",
       "  </tbody>\n",
       "</table>\n",
       "</div>"
      ],
      "text/plain": [
       "                 Country  Year  \\\n",
       "35               Algeria  2023   \n",
       "62                Angola  2023   \n",
       "86   Antigua and Barbuda  2023   \n",
       "171              Bahamas  2023   \n",
       "198           Bangladesh  2023   \n",
       "\n",
       "     Expenditure on education as a percentage of total government expenditure (%)  \\\n",
       "35                                               13.26                              \n",
       "62                                                7.73                              \n",
       "86                                                9.80                              \n",
       "171                                              11.59                              \n",
       "198                                              12.01                              \n",
       "\n",
       "     Government expenditure on education as a percentage of GDP (%)  \n",
       "35                                            4.415968               \n",
       "62                                            4.415968               \n",
       "86                                            4.415968               \n",
       "171                                           3.090000               \n",
       "198                                           2.050000               "
      ]
     },
     "execution_count": 153,
     "metadata": {},
     "output_type": "execute_result"
    }
   ],
   "source": [
    "df_2023.head()"
   ]
  },
  {
   "cell_type": "code",
   "execution_count": 154,
   "id": "72e10b78",
   "metadata": {},
   "outputs": [
    {
     "name": "stdout",
     "output_type": "stream",
     "text": [
      "<class 'pandas.core.frame.DataFrame'>\n",
      "Int64Index: 56 entries, 35 to 2263\n",
      "Data columns (total 4 columns):\n",
      " #   Column                                                                        Non-Null Count  Dtype  \n",
      "---  ------                                                                        --------------  -----  \n",
      " 0   Country                                                                       56 non-null     object \n",
      " 1   Year                                                                          56 non-null     int64  \n",
      " 2   Expenditure on education as a percentage of total government expenditure (%)  56 non-null     float64\n",
      " 3   Government expenditure on education as a percentage of GDP (%)                56 non-null     float64\n",
      "dtypes: float64(2), int64(1), object(1)\n",
      "memory usage: 2.2+ KB\n"
     ]
    }
   ],
   "source": [
    "df_2023.info()"
   ]
  },
  {
   "cell_type": "code",
   "execution_count": 155,
   "id": "e1a25f0e",
   "metadata": {},
   "outputs": [],
   "source": [
    "# drop rows where year == '2023'\n",
    "df1 = df1[df1['Year'] != 2023]"
   ]
  },
  {
   "cell_type": "code",
   "execution_count": 156,
   "id": "a4ff9f10",
   "metadata": {},
   "outputs": [
    {
     "data": {
      "text/html": [
       "<div>\n",
       "<style scoped>\n",
       "    .dataframe tbody tr th:only-of-type {\n",
       "        vertical-align: middle;\n",
       "    }\n",
       "\n",
       "    .dataframe tbody tr th {\n",
       "        vertical-align: top;\n",
       "    }\n",
       "\n",
       "    .dataframe thead th {\n",
       "        text-align: right;\n",
       "    }\n",
       "</style>\n",
       "<table border=\"1\" class=\"dataframe\">\n",
       "  <thead>\n",
       "    <tr style=\"text-align: right;\">\n",
       "      <th></th>\n",
       "      <th>Country</th>\n",
       "      <th>Year</th>\n",
       "      <th>Expenditure on education as a percentage of total government expenditure (%)</th>\n",
       "      <th>Government expenditure on education as a percentage of GDP (%)</th>\n",
       "    </tr>\n",
       "  </thead>\n",
       "  <tbody>\n",
       "    <tr>\n",
       "      <th>0</th>\n",
       "      <td>Afghanistan</td>\n",
       "      <td>2010</td>\n",
       "      <td>6.40</td>\n",
       "      <td>3.48</td>\n",
       "    </tr>\n",
       "    <tr>\n",
       "      <th>1</th>\n",
       "      <td>Afghanistan</td>\n",
       "      <td>2011</td>\n",
       "      <td>5.15</td>\n",
       "      <td>3.46</td>\n",
       "    </tr>\n",
       "    <tr>\n",
       "      <th>2</th>\n",
       "      <td>Afghanistan</td>\n",
       "      <td>2012</td>\n",
       "      <td>6.49</td>\n",
       "      <td>2.60</td>\n",
       "    </tr>\n",
       "    <tr>\n",
       "      <th>3</th>\n",
       "      <td>Afghanistan</td>\n",
       "      <td>2013</td>\n",
       "      <td>7.13</td>\n",
       "      <td>3.45</td>\n",
       "    </tr>\n",
       "    <tr>\n",
       "      <th>4</th>\n",
       "      <td>Afghanistan</td>\n",
       "      <td>2014</td>\n",
       "      <td>7.96</td>\n",
       "      <td>3.70</td>\n",
       "    </tr>\n",
       "  </tbody>\n",
       "</table>\n",
       "</div>"
      ],
      "text/plain": [
       "       Country  Year  \\\n",
       "0  Afghanistan  2010   \n",
       "1  Afghanistan  2011   \n",
       "2  Afghanistan  2012   \n",
       "3  Afghanistan  2013   \n",
       "4  Afghanistan  2014   \n",
       "\n",
       "   Expenditure on education as a percentage of total government expenditure (%)  \\\n",
       "0                                               6.40                              \n",
       "1                                               5.15                              \n",
       "2                                               6.49                              \n",
       "3                                               7.13                              \n",
       "4                                               7.96                              \n",
       "\n",
       "   Government expenditure on education as a percentage of GDP (%)  \n",
       "0                                               3.48               \n",
       "1                                               3.46               \n",
       "2                                               2.60               \n",
       "3                                               3.45               \n",
       "4                                               3.70               "
      ]
     },
     "execution_count": 156,
     "metadata": {},
     "output_type": "execute_result"
    }
   ],
   "source": [
    "df1.head()"
   ]
  },
  {
   "cell_type": "code",
   "execution_count": 157,
   "id": "26969033",
   "metadata": {},
   "outputs": [
    {
     "name": "stdout",
     "output_type": "stream",
     "text": [
      "<class 'pandas.core.frame.DataFrame'>\n",
      "Int64Index: 2218 entries, 0 to 2273\n",
      "Data columns (total 4 columns):\n",
      " #   Column                                                                        Non-Null Count  Dtype  \n",
      "---  ------                                                                        --------------  -----  \n",
      " 0   Country                                                                       2218 non-null   object \n",
      " 1   Year                                                                          2218 non-null   int64  \n",
      " 2   Expenditure on education as a percentage of total government expenditure (%)  2218 non-null   float64\n",
      " 3   Government expenditure on education as a percentage of GDP (%)                2218 non-null   float64\n",
      "dtypes: float64(2), int64(1), object(1)\n",
      "memory usage: 86.6+ KB\n"
     ]
    }
   ],
   "source": [
    "df1.info()"
   ]
  },
  {
   "cell_type": "code",
   "execution_count": 158,
   "id": "7ae41a44",
   "metadata": {},
   "outputs": [],
   "source": [
    "# save the dataframe as a .csv file\n",
    "\n",
    "df1.to_csv(\"education_expenditure.csv\", index=False)\n",
    "df_2023.to_csv(\"df_2023.csv\", index=False)"
   ]
  },
  {
   "cell_type": "code",
   "execution_count": null,
   "id": "ff4dd838",
   "metadata": {},
   "outputs": [],
   "source": []
  },
  {
   "cell_type": "code",
   "execution_count": null,
   "id": "c1a24584",
   "metadata": {},
   "outputs": [],
   "source": []
  }
 ],
 "metadata": {
  "kernelspec": {
   "display_name": "Python 3 (ipykernel)",
   "language": "python",
   "name": "python3"
  },
  "language_info": {
   "codemirror_mode": {
    "name": "ipython",
    "version": 3
   },
   "file_extension": ".py",
   "mimetype": "text/x-python",
   "name": "python",
   "nbconvert_exporter": "python",
   "pygments_lexer": "ipython3",
   "version": "3.11.3"
  }
 },
 "nbformat": 4,
 "nbformat_minor": 5
}
