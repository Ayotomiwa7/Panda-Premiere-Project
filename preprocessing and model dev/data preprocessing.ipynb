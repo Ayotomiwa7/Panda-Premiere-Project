{
 "cells": [
  {
   "cell_type": "markdown",
   "id": "b6208643",
   "metadata": {},
   "source": [
    "# Import Packages"
   ]
  },
  {
   "cell_type": "code",
   "execution_count": 1,
   "id": "b9742e36",
   "metadata": {},
   "outputs": [],
   "source": [
    "import numpy as np\n",
    "import pandas as pd\n",
    "import matplotlib.pyplot as plt\n",
    "import seaborn as sns"
   ]
  },
  {
   "cell_type": "markdown",
   "id": "6de71d73",
   "metadata": {},
   "source": [
    "# Load Data"
   ]
  },
  {
   "cell_type": "code",
   "execution_count": 2,
   "id": "a1e25c58",
   "metadata": {},
   "outputs": [],
   "source": [
    "df = pd.read_csv(\"unesco data.csv\")"
   ]
  },
  {
   "cell_type": "code",
   "execution_count": 3,
   "id": "7ca4e7cd",
   "metadata": {},
   "outputs": [
    {
     "name": "stdout",
     "output_type": "stream",
     "text": [
      "<class 'pandas.core.frame.DataFrame'>\n",
      "RangeIndex: 9152 entries, 0 to 9151\n",
      "Data columns (total 8 columns):\n",
      " #   Column            Non-Null Count  Dtype  \n",
      "---  ------            --------------  -----  \n",
      " 0   Region            9152 non-null   object \n",
      " 1   Country           9152 non-null   object \n",
      " 2   Target            9152 non-null   object \n",
      " 3   Indicator Number  9152 non-null   object \n",
      " 4   Indicator Name    9152 non-null   object \n",
      " 5   Year              9152 non-null   int64  \n",
      " 6   Value             9152 non-null   float64\n",
      " 7   Metadata          7342 non-null   object \n",
      "dtypes: float64(1), int64(1), object(6)\n",
      "memory usage: 572.1+ KB\n"
     ]
    }
   ],
   "source": [
    "df.info()"
   ]
  },
  {
   "cell_type": "code",
   "execution_count": 4,
   "id": "27e85a6a",
   "metadata": {},
   "outputs": [
    {
     "data": {
      "text/html": [
       "<div>\n",
       "<style scoped>\n",
       "    .dataframe tbody tr th:only-of-type {\n",
       "        vertical-align: middle;\n",
       "    }\n",
       "\n",
       "    .dataframe tbody tr th {\n",
       "        vertical-align: top;\n",
       "    }\n",
       "\n",
       "    .dataframe thead th {\n",
       "        text-align: right;\n",
       "    }\n",
       "</style>\n",
       "<table border=\"1\" class=\"dataframe\">\n",
       "  <thead>\n",
       "    <tr style=\"text-align: right;\">\n",
       "      <th></th>\n",
       "      <th>Region</th>\n",
       "      <th>Country</th>\n",
       "      <th>Target</th>\n",
       "      <th>Indicator Number</th>\n",
       "      <th>Indicator Name</th>\n",
       "      <th>Year</th>\n",
       "      <th>Value</th>\n",
       "      <th>Metadata</th>\n",
       "    </tr>\n",
       "  </thead>\n",
       "  <tbody>\n",
       "    <tr>\n",
       "      <th>0</th>\n",
       "      <td>SDG: Sub-Saharan Africa</td>\n",
       "      <td>Zimbabwe</td>\n",
       "      <td>Education 2030 FFA</td>\n",
       "      <td>Education 2030 FFA</td>\n",
       "      <td>Government expenditure on education as a perce...</td>\n",
       "      <td>2010</td>\n",
       "      <td>1.54</td>\n",
       "      <td>NaN</td>\n",
       "    </tr>\n",
       "    <tr>\n",
       "      <th>1</th>\n",
       "      <td>SDG: Latin America and the Caribbean</td>\n",
       "      <td>Guyana</td>\n",
       "      <td>4.5</td>\n",
       "      <td>4.5.6</td>\n",
       "      <td>Initial government expenditure on education as...</td>\n",
       "      <td>2010</td>\n",
       "      <td>2.37</td>\n",
       "      <td>SOURCE: UIS/UOE data</td>\n",
       "    </tr>\n",
       "  </tbody>\n",
       "</table>\n",
       "</div>"
      ],
      "text/plain": [
       "                                 Region   Country              Target  \\\n",
       "0               SDG: Sub-Saharan Africa  Zimbabwe  Education 2030 FFA   \n",
       "1  SDG: Latin America and the Caribbean    Guyana                 4.5   \n",
       "\n",
       "     Indicator Number                                     Indicator Name  \\\n",
       "0  Education 2030 FFA  Government expenditure on education as a perce...   \n",
       "1               4.5.6  Initial government expenditure on education as...   \n",
       "\n",
       "   Year  Value              Metadata  \n",
       "0  2010   1.54                   NaN  \n",
       "1  2010   2.37  SOURCE: UIS/UOE data  "
      ]
     },
     "execution_count": 4,
     "metadata": {},
     "output_type": "execute_result"
    }
   ],
   "source": [
    "df.head(2)"
   ]
  },
  {
   "cell_type": "code",
   "execution_count": 5,
   "id": "5cad3fef",
   "metadata": {},
   "outputs": [],
   "source": [
    "# drop irrelevant columns\n",
    "\n",
    "df.drop(columns=['Region', 'Target', 'Indicator Number', 'Metadata'], inplace=True)"
   ]
  },
  {
   "cell_type": "code",
   "execution_count": 6,
   "id": "e4cfd444",
   "metadata": {},
   "outputs": [
    {
     "name": "stdout",
     "output_type": "stream",
     "text": [
      "<class 'pandas.core.frame.DataFrame'>\n",
      "RangeIndex: 9152 entries, 0 to 9151\n",
      "Data columns (total 4 columns):\n",
      " #   Column          Non-Null Count  Dtype  \n",
      "---  ------          --------------  -----  \n",
      " 0   Country         9152 non-null   object \n",
      " 1   Indicator Name  9152 non-null   object \n",
      " 2   Year            9152 non-null   int64  \n",
      " 3   Value           9152 non-null   float64\n",
      "dtypes: float64(1), int64(1), object(2)\n",
      "memory usage: 286.1+ KB\n"
     ]
    }
   ],
   "source": [
    "df.info()"
   ]
  },
  {
   "cell_type": "code",
   "execution_count": 7,
   "id": "3f9823b3",
   "metadata": {},
   "outputs": [
    {
     "data": {
      "text/html": [
       "<div>\n",
       "<style scoped>\n",
       "    .dataframe tbody tr th:only-of-type {\n",
       "        vertical-align: middle;\n",
       "    }\n",
       "\n",
       "    .dataframe tbody tr th {\n",
       "        vertical-align: top;\n",
       "    }\n",
       "\n",
       "    .dataframe thead th {\n",
       "        text-align: right;\n",
       "    }\n",
       "</style>\n",
       "<table border=\"1\" class=\"dataframe\">\n",
       "  <thead>\n",
       "    <tr style=\"text-align: right;\">\n",
       "      <th></th>\n",
       "      <th>Country</th>\n",
       "      <th>Indicator Name</th>\n",
       "      <th>Year</th>\n",
       "      <th>Value</th>\n",
       "    </tr>\n",
       "  </thead>\n",
       "  <tbody>\n",
       "    <tr>\n",
       "      <th>0</th>\n",
       "      <td>Zimbabwe</td>\n",
       "      <td>Government expenditure on education as a perce...</td>\n",
       "      <td>2010</td>\n",
       "      <td>1.54</td>\n",
       "    </tr>\n",
       "    <tr>\n",
       "      <th>1</th>\n",
       "      <td>Guyana</td>\n",
       "      <td>Initial government expenditure on education as...</td>\n",
       "      <td>2010</td>\n",
       "      <td>2.37</td>\n",
       "    </tr>\n",
       "  </tbody>\n",
       "</table>\n",
       "</div>"
      ],
      "text/plain": [
       "    Country                                     Indicator Name  Year  Value\n",
       "0  Zimbabwe  Government expenditure on education as a perce...  2010   1.54\n",
       "1    Guyana  Initial government expenditure on education as...  2010   2.37"
      ]
     },
     "execution_count": 7,
     "metadata": {},
     "output_type": "execute_result"
    }
   ],
   "source": [
    "df.head(2)"
   ]
  },
  {
   "cell_type": "code",
   "execution_count": 8,
   "id": "0ae96480",
   "metadata": {},
   "outputs": [],
   "source": [
    "# a dataframe for 2023 which will be used to test the models built\n",
    "\n",
    "df_2023 = df[df['Year'] == 2023]"
   ]
  },
  {
   "cell_type": "code",
   "execution_count": 10,
   "id": "fa0c5b5d",
   "metadata": {},
   "outputs": [
    {
     "data": {
      "text/html": [
       "<div>\n",
       "<style scoped>\n",
       "    .dataframe tbody tr th:only-of-type {\n",
       "        vertical-align: middle;\n",
       "    }\n",
       "\n",
       "    .dataframe tbody tr th {\n",
       "        vertical-align: top;\n",
       "    }\n",
       "\n",
       "    .dataframe thead th {\n",
       "        text-align: right;\n",
       "    }\n",
       "</style>\n",
       "<table border=\"1\" class=\"dataframe\">\n",
       "  <thead>\n",
       "    <tr style=\"text-align: right;\">\n",
       "      <th></th>\n",
       "      <th>Country</th>\n",
       "      <th>Indicator Name</th>\n",
       "      <th>Year</th>\n",
       "      <th>Value</th>\n",
       "    </tr>\n",
       "  </thead>\n",
       "  <tbody>\n",
       "    <tr>\n",
       "      <th>9081</th>\n",
       "      <td>Bangladesh</td>\n",
       "      <td>Expenditure on education as a percentage of to...</td>\n",
       "      <td>2023</td>\n",
       "      <td>12.01</td>\n",
       "    </tr>\n",
       "    <tr>\n",
       "      <th>9082</th>\n",
       "      <td>Central African Republic</td>\n",
       "      <td>Expenditure on education as a percentage of to...</td>\n",
       "      <td>2023</td>\n",
       "      <td>9.99</td>\n",
       "    </tr>\n",
       "    <tr>\n",
       "      <th>9083</th>\n",
       "      <td>Maldives</td>\n",
       "      <td>Expenditure on education as a percentage of to...</td>\n",
       "      <td>2023</td>\n",
       "      <td>10.85</td>\n",
       "    </tr>\n",
       "    <tr>\n",
       "      <th>9084</th>\n",
       "      <td>Lesotho</td>\n",
       "      <td>Expenditure on education as a percentage of to...</td>\n",
       "      <td>2023</td>\n",
       "      <td>11.26</td>\n",
       "    </tr>\n",
       "    <tr>\n",
       "      <th>9085</th>\n",
       "      <td>Congo</td>\n",
       "      <td>Expenditure on education as a percentage of to...</td>\n",
       "      <td>2023</td>\n",
       "      <td>15.75</td>\n",
       "    </tr>\n",
       "  </tbody>\n",
       "</table>\n",
       "</div>"
      ],
      "text/plain": [
       "                       Country  \\\n",
       "9081                Bangladesh   \n",
       "9082  Central African Republic   \n",
       "9083                  Maldives   \n",
       "9084                   Lesotho   \n",
       "9085                     Congo   \n",
       "\n",
       "                                         Indicator Name  Year  Value  \n",
       "9081  Expenditure on education as a percentage of to...  2023  12.01  \n",
       "9082  Expenditure on education as a percentage of to...  2023   9.99  \n",
       "9083  Expenditure on education as a percentage of to...  2023  10.85  \n",
       "9084  Expenditure on education as a percentage of to...  2023  11.26  \n",
       "9085  Expenditure on education as a percentage of to...  2023  15.75  "
      ]
     },
     "execution_count": 10,
     "metadata": {},
     "output_type": "execute_result"
    }
   ],
   "source": [
    "df_2023.head()"
   ]
  },
  {
   "cell_type": "code",
   "execution_count": 11,
   "id": "f426fcc8",
   "metadata": {},
   "outputs": [
    {
     "name": "stdout",
     "output_type": "stream",
     "text": [
      "<class 'pandas.core.frame.DataFrame'>\n",
      "Int64Index: 71 entries, 9081 to 9151\n",
      "Data columns (total 4 columns):\n",
      " #   Column          Non-Null Count  Dtype  \n",
      "---  ------          --------------  -----  \n",
      " 0   Country         71 non-null     object \n",
      " 1   Indicator Name  71 non-null     object \n",
      " 2   Year            71 non-null     int64  \n",
      " 3   Value           71 non-null     float64\n",
      "dtypes: float64(1), int64(1), object(2)\n",
      "memory usage: 2.8+ KB\n"
     ]
    }
   ],
   "source": [
    "df_2023.info()"
   ]
  },
  {
   "cell_type": "code",
   "execution_count": 31,
   "id": "6f155ee8",
   "metadata": {},
   "outputs": [],
   "source": [
    "df_2023_pivoted = df_2023.pivot_table(index=[\"Country\", \"Year\"], columns=\"Indicator Name\", values=\"Value\").reset_index()"
   ]
  },
  {
   "cell_type": "code",
   "execution_count": 32,
   "id": "3f936aba",
   "metadata": {},
   "outputs": [
    {
     "data": {
      "text/html": [
       "<div>\n",
       "<style scoped>\n",
       "    .dataframe tbody tr th:only-of-type {\n",
       "        vertical-align: middle;\n",
       "    }\n",
       "\n",
       "    .dataframe tbody tr th {\n",
       "        vertical-align: top;\n",
       "    }\n",
       "\n",
       "    .dataframe thead th {\n",
       "        text-align: right;\n",
       "    }\n",
       "</style>\n",
       "<table border=\"1\" class=\"dataframe\">\n",
       "  <thead>\n",
       "    <tr style=\"text-align: right;\">\n",
       "      <th>Indicator Name</th>\n",
       "      <th>Country</th>\n",
       "      <th>Year</th>\n",
       "      <th>Expenditure on education as a percentage of total government expenditure (%)</th>\n",
       "      <th>Government expenditure on education as a percentage of GDP (%)</th>\n",
       "      <th>Initial government expenditure on education as a percentage of GDP (%)</th>\n",
       "      <th>Initial private expenditure on education (household) as a percentage of GDP (%)</th>\n",
       "      <th>International expenditure on education as a percentage of GDP (%)</th>\n",
       "    </tr>\n",
       "  </thead>\n",
       "  <tbody>\n",
       "    <tr>\n",
       "      <th>0</th>\n",
       "      <td>Algeria</td>\n",
       "      <td>2023</td>\n",
       "      <td>13.26</td>\n",
       "      <td>NaN</td>\n",
       "      <td>NaN</td>\n",
       "      <td>NaN</td>\n",
       "      <td>NaN</td>\n",
       "    </tr>\n",
       "    <tr>\n",
       "      <th>1</th>\n",
       "      <td>Angola</td>\n",
       "      <td>2023</td>\n",
       "      <td>7.73</td>\n",
       "      <td>NaN</td>\n",
       "      <td>NaN</td>\n",
       "      <td>NaN</td>\n",
       "      <td>NaN</td>\n",
       "    </tr>\n",
       "  </tbody>\n",
       "</table>\n",
       "</div>"
      ],
      "text/plain": [
       "Indicator Name  Country  Year  \\\n",
       "0               Algeria  2023   \n",
       "1                Angola  2023   \n",
       "\n",
       "Indicator Name  Expenditure on education as a percentage of total government expenditure (%)  \\\n",
       "0                                                           13.26                              \n",
       "1                                                            7.73                              \n",
       "\n",
       "Indicator Name  Government expenditure on education as a percentage of GDP (%)  \\\n",
       "0                                                             NaN                \n",
       "1                                                             NaN                \n",
       "\n",
       "Indicator Name  Initial government expenditure on education as a percentage of GDP (%)  \\\n",
       "0                                                             NaN                        \n",
       "1                                                             NaN                        \n",
       "\n",
       "Indicator Name  Initial private expenditure on education (household) as a percentage of GDP (%)  \\\n",
       "0                                                             NaN                                 \n",
       "1                                                             NaN                                 \n",
       "\n",
       "Indicator Name  International expenditure on education as a percentage of GDP (%)  \n",
       "0                                                             NaN                  \n",
       "1                                                             NaN                  "
      ]
     },
     "execution_count": 32,
     "metadata": {},
     "output_type": "execute_result"
    }
   ],
   "source": [
    "df_2023_pivoted.head(2)"
   ]
  },
  {
   "cell_type": "code",
   "execution_count": 33,
   "id": "91a3eb65",
   "metadata": {},
   "outputs": [
    {
     "data": {
      "text/plain": [
       "Index(['Country', 'Year',\n",
       "       'Expenditure on education as a percentage of total government expenditure (%)',\n",
       "       'Government expenditure on education as a percentage of GDP (%)',\n",
       "       'Initial government expenditure on education as a percentage of GDP (%)',\n",
       "       'Initial private expenditure on education (household) as a percentage of GDP (%)',\n",
       "       'International expenditure on education as a percentage of GDP (%)'],\n",
       "      dtype='object', name='Indicator Name')"
      ]
     },
     "execution_count": 33,
     "metadata": {},
     "output_type": "execute_result"
    }
   ],
   "source": [
    "df_2023_pivoted.columns"
   ]
  },
  {
   "cell_type": "code",
   "execution_count": 34,
   "id": "10689d18",
   "metadata": {},
   "outputs": [
    {
     "name": "stdout",
     "output_type": "stream",
     "text": [
      "<class 'pandas.core.frame.DataFrame'>\n",
      "RangeIndex: 56 entries, 0 to 55\n",
      "Data columns (total 7 columns):\n",
      " #   Column                                                                           Non-Null Count  Dtype  \n",
      "---  ------                                                                           --------------  -----  \n",
      " 0   Country                                                                          56 non-null     object \n",
      " 1   Year                                                                             56 non-null     int64  \n",
      " 2   Expenditure on education as a percentage of total government expenditure (%)     51 non-null     float64\n",
      " 3   Government expenditure on education as a percentage of GDP (%)                   17 non-null     float64\n",
      " 4   Initial government expenditure on education as a percentage of GDP (%)           1 non-null      float64\n",
      " 5   Initial private expenditure on education (household) as a percentage of GDP (%)  1 non-null      float64\n",
      " 6   International expenditure on education as a percentage of GDP (%)                1 non-null      float64\n",
      "dtypes: float64(5), int64(1), object(1)\n",
      "memory usage: 3.2+ KB\n"
     ]
    }
   ],
   "source": [
    "df_2023_pivoted.info()"
   ]
  },
  {
   "cell_type": "code",
   "execution_count": 35,
   "id": "555a1bd1",
   "metadata": {},
   "outputs": [],
   "source": [
    "df_2023_pivoted.index.name = None\n",
    "df_2023_pivoted.columns.name = None"
   ]
  },
  {
   "cell_type": "code",
   "execution_count": 36,
   "id": "5f32dd40",
   "metadata": {},
   "outputs": [
    {
     "data": {
      "text/plain": [
       "Country                                                                             0.000000\n",
       "Year                                                                                0.000000\n",
       "Expenditure on education as a percentage of total government expenditure (%)        8.928571\n",
       "Government expenditure on education as a percentage of GDP (%)                     69.642857\n",
       "Initial government expenditure on education as a percentage of GDP (%)             98.214286\n",
       "Initial private expenditure on education (household) as a percentage of GDP (%)    98.214286\n",
       "International expenditure on education as a percentage of GDP (%)                  98.214286\n",
       "dtype: float64"
      ]
     },
     "execution_count": 36,
     "metadata": {},
     "output_type": "execute_result"
    }
   ],
   "source": [
    "# percentage of missing values\n",
    "\n",
    "df_2023_pivoted.isnull().mean() * 100"
   ]
  },
  {
   "cell_type": "code",
   "execution_count": 41,
   "id": "5575015f",
   "metadata": {},
   "outputs": [
    {
     "data": {
      "text/plain": [
       "Index(['Country', 'Year',\n",
       "       'Expenditure on education as a percentage of total government expenditure (%)',\n",
       "       'Government expenditure on education as a percentage of GDP (%)',\n",
       "       'Initial government expenditure on education as a percentage of GDP (%)',\n",
       "       'Initial private expenditure on education (household) as a percentage of GDP (%)',\n",
       "       'International expenditure on education as a percentage of GDP (%)'],\n",
       "      dtype='object')"
      ]
     },
     "execution_count": 41,
     "metadata": {},
     "output_type": "execute_result"
    }
   ],
   "source": [
    "df_2023_pivoted.columns"
   ]
  },
  {
   "cell_type": "code",
   "execution_count": 42,
   "id": "d5a941aa",
   "metadata": {},
   "outputs": [],
   "source": [
    "# drop columns\n",
    "\n",
    "df_2023 = df_2023_pivoted.drop(columns= ['Initial government expenditure on education as a percentage of GDP (%)',\n",
    "       'Initial private expenditure on education (household) as a percentage of GDP (%)',\n",
    "       'International expenditure on education as a percentage of GDP (%)'])"
   ]
  },
  {
   "cell_type": "code",
   "execution_count": 43,
   "id": "99e6ffa5",
   "metadata": {},
   "outputs": [
    {
     "data": {
      "text/html": [
       "<div>\n",
       "<style scoped>\n",
       "    .dataframe tbody tr th:only-of-type {\n",
       "        vertical-align: middle;\n",
       "    }\n",
       "\n",
       "    .dataframe tbody tr th {\n",
       "        vertical-align: top;\n",
       "    }\n",
       "\n",
       "    .dataframe thead th {\n",
       "        text-align: right;\n",
       "    }\n",
       "</style>\n",
       "<table border=\"1\" class=\"dataframe\">\n",
       "  <thead>\n",
       "    <tr style=\"text-align: right;\">\n",
       "      <th></th>\n",
       "      <th>Country</th>\n",
       "      <th>Year</th>\n",
       "      <th>Expenditure on education as a percentage of total government expenditure (%)</th>\n",
       "      <th>Government expenditure on education as a percentage of GDP (%)</th>\n",
       "    </tr>\n",
       "  </thead>\n",
       "  <tbody>\n",
       "    <tr>\n",
       "      <th>0</th>\n",
       "      <td>Algeria</td>\n",
       "      <td>2023</td>\n",
       "      <td>13.26</td>\n",
       "      <td>NaN</td>\n",
       "    </tr>\n",
       "    <tr>\n",
       "      <th>1</th>\n",
       "      <td>Angola</td>\n",
       "      <td>2023</td>\n",
       "      <td>7.73</td>\n",
       "      <td>NaN</td>\n",
       "    </tr>\n",
       "  </tbody>\n",
       "</table>\n",
       "</div>"
      ],
      "text/plain": [
       "   Country  Year  \\\n",
       "0  Algeria  2023   \n",
       "1   Angola  2023   \n",
       "\n",
       "   Expenditure on education as a percentage of total government expenditure (%)  \\\n",
       "0                                              13.26                              \n",
       "1                                               7.73                              \n",
       "\n",
       "   Government expenditure on education as a percentage of GDP (%)  \n",
       "0                                                NaN               \n",
       "1                                                NaN               "
      ]
     },
     "execution_count": 43,
     "metadata": {},
     "output_type": "execute_result"
    }
   ],
   "source": [
    "df_2023.head(2)"
   ]
  },
  {
   "cell_type": "code",
   "execution_count": 44,
   "id": "39d3cf3c",
   "metadata": {},
   "outputs": [
    {
     "data": {
      "text/plain": [
       "Country                                                                          0.000000\n",
       "Year                                                                             0.000000\n",
       "Expenditure on education as a percentage of total government expenditure (%)     8.928571\n",
       "Government expenditure on education as a percentage of GDP (%)                  69.642857\n",
       "dtype: float64"
      ]
     },
     "execution_count": 44,
     "metadata": {},
     "output_type": "execute_result"
    }
   ],
   "source": [
    "# percentage of missing values\n",
    "\n",
    "df_2023.isnull().mean() * 100"
   ]
  },
  {
   "cell_type": "code",
   "execution_count": 50,
   "id": "c5c2c0ed",
   "metadata": {},
   "outputs": [],
   "source": [
    "# drop missing values\n",
    "\n",
    "df_2023.dropna(inplace=True)"
   ]
  },
  {
   "cell_type": "code",
   "execution_count": 51,
   "id": "56124b32",
   "metadata": {},
   "outputs": [
    {
     "data": {
      "text/html": [
       "<div>\n",
       "<style scoped>\n",
       "    .dataframe tbody tr th:only-of-type {\n",
       "        vertical-align: middle;\n",
       "    }\n",
       "\n",
       "    .dataframe tbody tr th {\n",
       "        vertical-align: top;\n",
       "    }\n",
       "\n",
       "    .dataframe thead th {\n",
       "        text-align: right;\n",
       "    }\n",
       "</style>\n",
       "<table border=\"1\" class=\"dataframe\">\n",
       "  <thead>\n",
       "    <tr style=\"text-align: right;\">\n",
       "      <th></th>\n",
       "      <th>Country</th>\n",
       "      <th>Year</th>\n",
       "      <th>Expenditure on education as a percentage of total government expenditure (%)</th>\n",
       "      <th>Government expenditure on education as a percentage of GDP (%)</th>\n",
       "    </tr>\n",
       "  </thead>\n",
       "  <tbody>\n",
       "    <tr>\n",
       "      <th>3</th>\n",
       "      <td>Bahamas</td>\n",
       "      <td>2023</td>\n",
       "      <td>11.59</td>\n",
       "      <td>3.09</td>\n",
       "    </tr>\n",
       "    <tr>\n",
       "      <th>4</th>\n",
       "      <td>Bangladesh</td>\n",
       "      <td>2023</td>\n",
       "      <td>12.01</td>\n",
       "      <td>2.05</td>\n",
       "    </tr>\n",
       "    <tr>\n",
       "      <th>5</th>\n",
       "      <td>Barbados</td>\n",
       "      <td>2023</td>\n",
       "      <td>13.60</td>\n",
       "      <td>5.13</td>\n",
       "    </tr>\n",
       "    <tr>\n",
       "      <th>6</th>\n",
       "      <td>Belize</td>\n",
       "      <td>2023</td>\n",
       "      <td>18.88</td>\n",
       "      <td>5.00</td>\n",
       "    </tr>\n",
       "    <tr>\n",
       "      <th>8</th>\n",
       "      <td>Bermuda</td>\n",
       "      <td>2023</td>\n",
       "      <td>12.18</td>\n",
       "      <td>1.93</td>\n",
       "    </tr>\n",
       "    <tr>\n",
       "      <th>28</th>\n",
       "      <td>Holy See</td>\n",
       "      <td>2023</td>\n",
       "      <td>0.00</td>\n",
       "      <td>0.00</td>\n",
       "    </tr>\n",
       "    <tr>\n",
       "      <th>30</th>\n",
       "      <td>Lesotho</td>\n",
       "      <td>2023</td>\n",
       "      <td>11.26</td>\n",
       "      <td>6.69</td>\n",
       "    </tr>\n",
       "    <tr>\n",
       "      <th>31</th>\n",
       "      <td>Liberia</td>\n",
       "      <td>2023</td>\n",
       "      <td>12.43</td>\n",
       "      <td>2.42</td>\n",
       "    </tr>\n",
       "    <tr>\n",
       "      <th>37</th>\n",
       "      <td>Namibia</td>\n",
       "      <td>2023</td>\n",
       "      <td>24.97</td>\n",
       "      <td>9.04</td>\n",
       "    </tr>\n",
       "    <tr>\n",
       "      <th>42</th>\n",
       "      <td>Rwanda</td>\n",
       "      <td>2023</td>\n",
       "      <td>12.20</td>\n",
       "      <td>4.14</td>\n",
       "    </tr>\n",
       "    <tr>\n",
       "      <th>52</th>\n",
       "      <td>Uganda</td>\n",
       "      <td>2023</td>\n",
       "      <td>8.63</td>\n",
       "      <td>2.55</td>\n",
       "    </tr>\n",
       "    <tr>\n",
       "      <th>53</th>\n",
       "      <td>United Republic of Tanzania</td>\n",
       "      <td>2023</td>\n",
       "      <td>13.70</td>\n",
       "      <td>3.26</td>\n",
       "    </tr>\n",
       "  </tbody>\n",
       "</table>\n",
       "</div>"
      ],
      "text/plain": [
       "                        Country  Year  \\\n",
       "3                       Bahamas  2023   \n",
       "4                    Bangladesh  2023   \n",
       "5                      Barbados  2023   \n",
       "6                        Belize  2023   \n",
       "8                       Bermuda  2023   \n",
       "28                     Holy See  2023   \n",
       "30                      Lesotho  2023   \n",
       "31                      Liberia  2023   \n",
       "37                      Namibia  2023   \n",
       "42                       Rwanda  2023   \n",
       "52                       Uganda  2023   \n",
       "53  United Republic of Tanzania  2023   \n",
       "\n",
       "    Expenditure on education as a percentage of total government expenditure (%)  \\\n",
       "3                                               11.59                              \n",
       "4                                               12.01                              \n",
       "5                                               13.60                              \n",
       "6                                               18.88                              \n",
       "8                                               12.18                              \n",
       "28                                               0.00                              \n",
       "30                                              11.26                              \n",
       "31                                              12.43                              \n",
       "37                                              24.97                              \n",
       "42                                              12.20                              \n",
       "52                                               8.63                              \n",
       "53                                              13.70                              \n",
       "\n",
       "    Government expenditure on education as a percentage of GDP (%)  \n",
       "3                                                3.09               \n",
       "4                                                2.05               \n",
       "5                                                5.13               \n",
       "6                                                5.00               \n",
       "8                                                1.93               \n",
       "28                                               0.00               \n",
       "30                                               6.69               \n",
       "31                                               2.42               \n",
       "37                                               9.04               \n",
       "42                                               4.14               \n",
       "52                                               2.55               \n",
       "53                                               3.26               "
      ]
     },
     "execution_count": 51,
     "metadata": {},
     "output_type": "execute_result"
    }
   ],
   "source": [
    "df_2023"
   ]
  },
  {
   "cell_type": "code",
   "execution_count": 9,
   "id": "6bd12bd3",
   "metadata": {},
   "outputs": [],
   "source": [
    "# drop rows where year == '2023'\n",
    "df1 = df[df['Year'] != 2023]"
   ]
  },
  {
   "cell_type": "code",
   "execution_count": 12,
   "id": "deb45d39",
   "metadata": {},
   "outputs": [
    {
     "data": {
      "text/html": [
       "<div>\n",
       "<style scoped>\n",
       "    .dataframe tbody tr th:only-of-type {\n",
       "        vertical-align: middle;\n",
       "    }\n",
       "\n",
       "    .dataframe tbody tr th {\n",
       "        vertical-align: top;\n",
       "    }\n",
       "\n",
       "    .dataframe thead th {\n",
       "        text-align: right;\n",
       "    }\n",
       "</style>\n",
       "<table border=\"1\" class=\"dataframe\">\n",
       "  <thead>\n",
       "    <tr style=\"text-align: right;\">\n",
       "      <th></th>\n",
       "      <th>Country</th>\n",
       "      <th>Indicator Name</th>\n",
       "      <th>Year</th>\n",
       "      <th>Value</th>\n",
       "    </tr>\n",
       "  </thead>\n",
       "  <tbody>\n",
       "    <tr>\n",
       "      <th>0</th>\n",
       "      <td>Zimbabwe</td>\n",
       "      <td>Government expenditure on education as a perce...</td>\n",
       "      <td>2010</td>\n",
       "      <td>1.54</td>\n",
       "    </tr>\n",
       "    <tr>\n",
       "      <th>1</th>\n",
       "      <td>Guyana</td>\n",
       "      <td>Initial government expenditure on education as...</td>\n",
       "      <td>2010</td>\n",
       "      <td>2.37</td>\n",
       "    </tr>\n",
       "    <tr>\n",
       "      <th>2</th>\n",
       "      <td>Burundi</td>\n",
       "      <td>Government expenditure on education as a perce...</td>\n",
       "      <td>2010</td>\n",
       "      <td>6.78</td>\n",
       "    </tr>\n",
       "    <tr>\n",
       "      <th>3</th>\n",
       "      <td>Iran (Islamic Republic of)</td>\n",
       "      <td>Initial government expenditure on education as...</td>\n",
       "      <td>2010</td>\n",
       "      <td>3.71</td>\n",
       "    </tr>\n",
       "    <tr>\n",
       "      <th>4</th>\n",
       "      <td>Sierra Leone</td>\n",
       "      <td>Expenditure on education as a percentage of to...</td>\n",
       "      <td>2010</td>\n",
       "      <td>12.80</td>\n",
       "    </tr>\n",
       "  </tbody>\n",
       "</table>\n",
       "</div>"
      ],
      "text/plain": [
       "                      Country  \\\n",
       "0                    Zimbabwe   \n",
       "1                      Guyana   \n",
       "2                     Burundi   \n",
       "3  Iran (Islamic Republic of)   \n",
       "4                Sierra Leone   \n",
       "\n",
       "                                      Indicator Name  Year  Value  \n",
       "0  Government expenditure on education as a perce...  2010   1.54  \n",
       "1  Initial government expenditure on education as...  2010   2.37  \n",
       "2  Government expenditure on education as a perce...  2010   6.78  \n",
       "3  Initial government expenditure on education as...  2010   3.71  \n",
       "4  Expenditure on education as a percentage of to...  2010  12.80  "
      ]
     },
     "execution_count": 12,
     "metadata": {},
     "output_type": "execute_result"
    }
   ],
   "source": [
    "df1.head()"
   ]
  },
  {
   "cell_type": "code",
   "execution_count": 13,
   "id": "b1a3d715",
   "metadata": {},
   "outputs": [],
   "source": [
    "df_pivoted = df1.pivot_table(index=[\"Country\", \"Year\"], columns=\"Indicator Name\", values=\"Value\").reset_index()"
   ]
  },
  {
   "cell_type": "code",
   "execution_count": 14,
   "id": "28acee3d",
   "metadata": {},
   "outputs": [
    {
     "data": {
      "text/html": [
       "<div>\n",
       "<style scoped>\n",
       "    .dataframe tbody tr th:only-of-type {\n",
       "        vertical-align: middle;\n",
       "    }\n",
       "\n",
       "    .dataframe tbody tr th {\n",
       "        vertical-align: top;\n",
       "    }\n",
       "\n",
       "    .dataframe thead th {\n",
       "        text-align: right;\n",
       "    }\n",
       "</style>\n",
       "<table border=\"1\" class=\"dataframe\">\n",
       "  <thead>\n",
       "    <tr style=\"text-align: right;\">\n",
       "      <th>Indicator Name</th>\n",
       "      <th>Country</th>\n",
       "      <th>Year</th>\n",
       "      <th>Expenditure on education (public, households, ODA) as a percentage of GDP</th>\n",
       "      <th>Expenditure on education (public, private, international) as a percentage of GDP</th>\n",
       "      <th>Expenditure on education as a percentage of total government expenditure (%)</th>\n",
       "      <th>Government expenditure on education as a percentage of GDP (%)</th>\n",
       "      <th>Initial government expenditure on education as a percentage of GDP (%)</th>\n",
       "      <th>Initial private expenditure on education (household) as a percentage of GDP (%)</th>\n",
       "      <th>Initial private expenditure on education (other non-educational private entities) as a percentage of GDP (%)</th>\n",
       "      <th>International expenditure on education as a percentage of GDP (%)</th>\n",
       "      <th>Percentage of total aid to education allocated to least developed countries (%)</th>\n",
       "    </tr>\n",
       "  </thead>\n",
       "  <tbody>\n",
       "    <tr>\n",
       "      <th>0</th>\n",
       "      <td>Afghanistan</td>\n",
       "      <td>2010</td>\n",
       "      <td>NaN</td>\n",
       "      <td>NaN</td>\n",
       "      <td>6.40</td>\n",
       "      <td>3.48</td>\n",
       "      <td>2.85</td>\n",
       "      <td>NaN</td>\n",
       "      <td>NaN</td>\n",
       "      <td>0.63</td>\n",
       "      <td>NaN</td>\n",
       "    </tr>\n",
       "    <tr>\n",
       "      <th>1</th>\n",
       "      <td>Afghanistan</td>\n",
       "      <td>2011</td>\n",
       "      <td>NaN</td>\n",
       "      <td>NaN</td>\n",
       "      <td>5.15</td>\n",
       "      <td>3.46</td>\n",
       "      <td>3.46</td>\n",
       "      <td>NaN</td>\n",
       "      <td>0.0</td>\n",
       "      <td>2.08</td>\n",
       "      <td>NaN</td>\n",
       "    </tr>\n",
       "  </tbody>\n",
       "</table>\n",
       "</div>"
      ],
      "text/plain": [
       "Indicator Name      Country  Year  \\\n",
       "0               Afghanistan  2010   \n",
       "1               Afghanistan  2011   \n",
       "\n",
       "Indicator Name  Expenditure on education (public, households, ODA) as a percentage of GDP  \\\n",
       "0                                                             NaN                           \n",
       "1                                                             NaN                           \n",
       "\n",
       "Indicator Name  Expenditure on education (public, private, international) as a percentage of GDP  \\\n",
       "0                                                             NaN                                  \n",
       "1                                                             NaN                                  \n",
       "\n",
       "Indicator Name  Expenditure on education as a percentage of total government expenditure (%)  \\\n",
       "0                                                            6.40                              \n",
       "1                                                            5.15                              \n",
       "\n",
       "Indicator Name  Government expenditure on education as a percentage of GDP (%)  \\\n",
       "0                                                            3.48                \n",
       "1                                                            3.46                \n",
       "\n",
       "Indicator Name  Initial government expenditure on education as a percentage of GDP (%)  \\\n",
       "0                                                            2.85                        \n",
       "1                                                            3.46                        \n",
       "\n",
       "Indicator Name  Initial private expenditure on education (household) as a percentage of GDP (%)  \\\n",
       "0                                                             NaN                                 \n",
       "1                                                             NaN                                 \n",
       "\n",
       "Indicator Name  Initial private expenditure on education (other non-educational private entities) as a percentage of GDP (%)  \\\n",
       "0                                                             NaN                                                              \n",
       "1                                                             0.0                                                              \n",
       "\n",
       "Indicator Name  International expenditure on education as a percentage of GDP (%)  \\\n",
       "0                                                            0.63                   \n",
       "1                                                            2.08                   \n",
       "\n",
       "Indicator Name  Percentage of total aid to education allocated to least developed countries (%)  \n",
       "0                                                             NaN                                \n",
       "1                                                             NaN                                "
      ]
     },
     "execution_count": 14,
     "metadata": {},
     "output_type": "execute_result"
    }
   ],
   "source": [
    "df_pivoted.head(2)"
   ]
  },
  {
   "cell_type": "code",
   "execution_count": 15,
   "id": "7b9e5506",
   "metadata": {},
   "outputs": [
    {
     "data": {
      "text/plain": [
       "Index(['Country', 'Year',\n",
       "       'Expenditure on education (public, households, ODA) as a percentage of GDP',\n",
       "       'Expenditure on education (public, private, international) as a percentage of GDP',\n",
       "       'Expenditure on education as a percentage of total government expenditure (%)',\n",
       "       'Government expenditure on education as a percentage of GDP (%)',\n",
       "       'Initial government expenditure on education as a percentage of GDP (%)',\n",
       "       'Initial private expenditure on education (household) as a percentage of GDP (%)',\n",
       "       'Initial private expenditure on education (other non-educational private entities) as a percentage of GDP (%)',\n",
       "       'International expenditure on education as a percentage of GDP (%)',\n",
       "       'Percentage of total aid to education allocated to least developed countries (%)'],\n",
       "      dtype='object', name='Indicator Name')"
      ]
     },
     "execution_count": 15,
     "metadata": {},
     "output_type": "execute_result"
    }
   ],
   "source": [
    "df_pivoted.columns"
   ]
  },
  {
   "cell_type": "code",
   "execution_count": 16,
   "id": "cd834f39",
   "metadata": {},
   "outputs": [
    {
     "name": "stdout",
     "output_type": "stream",
     "text": [
      "<class 'pandas.core.frame.DataFrame'>\n",
      "RangeIndex: 2218 entries, 0 to 2217\n",
      "Data columns (total 11 columns):\n",
      " #   Column                                                                                                        Non-Null Count  Dtype  \n",
      "---  ------                                                                                                        --------------  -----  \n",
      " 0   Country                                                                                                       2218 non-null   object \n",
      " 1   Year                                                                                                          2218 non-null   int64  \n",
      " 2   Expenditure on education (public, households, ODA) as a percentage of GDP                                     503 non-null    float64\n",
      " 3   Expenditure on education (public, private, international) as a percentage of GDP                              255 non-null    float64\n",
      " 4   Expenditure on education as a percentage of total government expenditure (%)                                  1970 non-null   float64\n",
      " 5   Government expenditure on education as a percentage of GDP (%)                                                2076 non-null   float64\n",
      " 6   Initial government expenditure on education as a percentage of GDP (%)                                        1345 non-null   float64\n",
      " 7   Initial private expenditure on education (household) as a percentage of GDP (%)                               589 non-null    float64\n",
      " 8   Initial private expenditure on education (other non-educational private entities) as a percentage of GDP (%)  494 non-null    float64\n",
      " 9   International expenditure on education as a percentage of GDP (%)                                             1398 non-null   float64\n",
      " 10  Percentage of total aid to education allocated to least developed countries (%)                               451 non-null    float64\n",
      "dtypes: float64(9), int64(1), object(1)\n",
      "memory usage: 190.7+ KB\n"
     ]
    }
   ],
   "source": [
    "df_pivoted.info()"
   ]
  },
  {
   "cell_type": "code",
   "execution_count": 17,
   "id": "36a2400f",
   "metadata": {},
   "outputs": [],
   "source": [
    "df_pivoted.index.name = None\n",
    "df_pivoted.columns.name = None"
   ]
  },
  {
   "cell_type": "code",
   "execution_count": 18,
   "id": "b85d18fe",
   "metadata": {},
   "outputs": [
    {
     "data": {
      "text/html": [
       "<div>\n",
       "<style scoped>\n",
       "    .dataframe tbody tr th:only-of-type {\n",
       "        vertical-align: middle;\n",
       "    }\n",
       "\n",
       "    .dataframe tbody tr th {\n",
       "        vertical-align: top;\n",
       "    }\n",
       "\n",
       "    .dataframe thead th {\n",
       "        text-align: right;\n",
       "    }\n",
       "</style>\n",
       "<table border=\"1\" class=\"dataframe\">\n",
       "  <thead>\n",
       "    <tr style=\"text-align: right;\">\n",
       "      <th></th>\n",
       "      <th>Country</th>\n",
       "      <th>Year</th>\n",
       "      <th>Expenditure on education (public, households, ODA) as a percentage of GDP</th>\n",
       "      <th>Expenditure on education (public, private, international) as a percentage of GDP</th>\n",
       "      <th>Expenditure on education as a percentage of total government expenditure (%)</th>\n",
       "      <th>Government expenditure on education as a percentage of GDP (%)</th>\n",
       "      <th>Initial government expenditure on education as a percentage of GDP (%)</th>\n",
       "      <th>Initial private expenditure on education (household) as a percentage of GDP (%)</th>\n",
       "      <th>Initial private expenditure on education (other non-educational private entities) as a percentage of GDP (%)</th>\n",
       "      <th>International expenditure on education as a percentage of GDP (%)</th>\n",
       "      <th>Percentage of total aid to education allocated to least developed countries (%)</th>\n",
       "    </tr>\n",
       "  </thead>\n",
       "  <tbody>\n",
       "    <tr>\n",
       "      <th>0</th>\n",
       "      <td>Afghanistan</td>\n",
       "      <td>2010</td>\n",
       "      <td>NaN</td>\n",
       "      <td>NaN</td>\n",
       "      <td>6.40</td>\n",
       "      <td>3.48</td>\n",
       "      <td>2.85</td>\n",
       "      <td>NaN</td>\n",
       "      <td>NaN</td>\n",
       "      <td>0.63</td>\n",
       "      <td>NaN</td>\n",
       "    </tr>\n",
       "    <tr>\n",
       "      <th>1</th>\n",
       "      <td>Afghanistan</td>\n",
       "      <td>2011</td>\n",
       "      <td>NaN</td>\n",
       "      <td>NaN</td>\n",
       "      <td>5.15</td>\n",
       "      <td>3.46</td>\n",
       "      <td>3.46</td>\n",
       "      <td>NaN</td>\n",
       "      <td>0.0</td>\n",
       "      <td>2.08</td>\n",
       "      <td>NaN</td>\n",
       "    </tr>\n",
       "    <tr>\n",
       "      <th>2</th>\n",
       "      <td>Afghanistan</td>\n",
       "      <td>2012</td>\n",
       "      <td>NaN</td>\n",
       "      <td>NaN</td>\n",
       "      <td>6.49</td>\n",
       "      <td>2.60</td>\n",
       "      <td>2.22</td>\n",
       "      <td>NaN</td>\n",
       "      <td>0.0</td>\n",
       "      <td>0.38</td>\n",
       "      <td>NaN</td>\n",
       "    </tr>\n",
       "    <tr>\n",
       "      <th>3</th>\n",
       "      <td>Afghanistan</td>\n",
       "      <td>2013</td>\n",
       "      <td>NaN</td>\n",
       "      <td>NaN</td>\n",
       "      <td>7.13</td>\n",
       "      <td>3.45</td>\n",
       "      <td>2.81</td>\n",
       "      <td>NaN</td>\n",
       "      <td>0.0</td>\n",
       "      <td>0.65</td>\n",
       "      <td>NaN</td>\n",
       "    </tr>\n",
       "    <tr>\n",
       "      <th>4</th>\n",
       "      <td>Afghanistan</td>\n",
       "      <td>2014</td>\n",
       "      <td>NaN</td>\n",
       "      <td>NaN</td>\n",
       "      <td>7.96</td>\n",
       "      <td>3.70</td>\n",
       "      <td>2.99</td>\n",
       "      <td>NaN</td>\n",
       "      <td>0.0</td>\n",
       "      <td>0.70</td>\n",
       "      <td>NaN</td>\n",
       "    </tr>\n",
       "  </tbody>\n",
       "</table>\n",
       "</div>"
      ],
      "text/plain": [
       "       Country  Year  \\\n",
       "0  Afghanistan  2010   \n",
       "1  Afghanistan  2011   \n",
       "2  Afghanistan  2012   \n",
       "3  Afghanistan  2013   \n",
       "4  Afghanistan  2014   \n",
       "\n",
       "   Expenditure on education (public, households, ODA) as a percentage of GDP  \\\n",
       "0                                                NaN                           \n",
       "1                                                NaN                           \n",
       "2                                                NaN                           \n",
       "3                                                NaN                           \n",
       "4                                                NaN                           \n",
       "\n",
       "   Expenditure on education (public, private, international) as a percentage of GDP  \\\n",
       "0                                                NaN                                  \n",
       "1                                                NaN                                  \n",
       "2                                                NaN                                  \n",
       "3                                                NaN                                  \n",
       "4                                                NaN                                  \n",
       "\n",
       "   Expenditure on education as a percentage of total government expenditure (%)  \\\n",
       "0                                               6.40                              \n",
       "1                                               5.15                              \n",
       "2                                               6.49                              \n",
       "3                                               7.13                              \n",
       "4                                               7.96                              \n",
       "\n",
       "   Government expenditure on education as a percentage of GDP (%)  \\\n",
       "0                                               3.48                \n",
       "1                                               3.46                \n",
       "2                                               2.60                \n",
       "3                                               3.45                \n",
       "4                                               3.70                \n",
       "\n",
       "   Initial government expenditure on education as a percentage of GDP (%)  \\\n",
       "0                                               2.85                        \n",
       "1                                               3.46                        \n",
       "2                                               2.22                        \n",
       "3                                               2.81                        \n",
       "4                                               2.99                        \n",
       "\n",
       "   Initial private expenditure on education (household) as a percentage of GDP (%)  \\\n",
       "0                                                NaN                                 \n",
       "1                                                NaN                                 \n",
       "2                                                NaN                                 \n",
       "3                                                NaN                                 \n",
       "4                                                NaN                                 \n",
       "\n",
       "   Initial private expenditure on education (other non-educational private entities) as a percentage of GDP (%)  \\\n",
       "0                                                NaN                                                              \n",
       "1                                                0.0                                                              \n",
       "2                                                0.0                                                              \n",
       "3                                                0.0                                                              \n",
       "4                                                0.0                                                              \n",
       "\n",
       "   International expenditure on education as a percentage of GDP (%)  \\\n",
       "0                                               0.63                   \n",
       "1                                               2.08                   \n",
       "2                                               0.38                   \n",
       "3                                               0.65                   \n",
       "4                                               0.70                   \n",
       "\n",
       "   Percentage of total aid to education allocated to least developed countries (%)  \n",
       "0                                                NaN                                \n",
       "1                                                NaN                                \n",
       "2                                                NaN                                \n",
       "3                                                NaN                                \n",
       "4                                                NaN                                "
      ]
     },
     "execution_count": 18,
     "metadata": {},
     "output_type": "execute_result"
    }
   ],
   "source": [
    "df_pivoted.head()"
   ]
  },
  {
   "cell_type": "code",
   "execution_count": 19,
   "id": "6e872a81",
   "metadata": {},
   "outputs": [
    {
     "data": {
      "text/plain": [
       "Index(['Country', 'Year',\n",
       "       'Expenditure on education (public, households, ODA) as a percentage of GDP',\n",
       "       'Expenditure on education (public, private, international) as a percentage of GDP',\n",
       "       'Expenditure on education as a percentage of total government expenditure (%)',\n",
       "       'Government expenditure on education as a percentage of GDP (%)',\n",
       "       'Initial government expenditure on education as a percentage of GDP (%)',\n",
       "       'Initial private expenditure on education (household) as a percentage of GDP (%)',\n",
       "       'Initial private expenditure on education (other non-educational private entities) as a percentage of GDP (%)',\n",
       "       'International expenditure on education as a percentage of GDP (%)',\n",
       "       'Percentage of total aid to education allocated to least developed countries (%)'],\n",
       "      dtype='object')"
      ]
     },
     "execution_count": 19,
     "metadata": {},
     "output_type": "execute_result"
    }
   ],
   "source": [
    "df_pivoted.columns"
   ]
  },
  {
   "cell_type": "code",
   "execution_count": 20,
   "id": "6293f7b0",
   "metadata": {},
   "outputs": [
    {
     "data": {
      "text/plain": [
       "Country                                                                                                          0.000000\n",
       "Year                                                                                                             0.000000\n",
       "Expenditure on education (public, households, ODA) as a percentage of GDP                                       77.321912\n",
       "Expenditure on education (public, private, international) as a percentage of GDP                                88.503156\n",
       "Expenditure on education as a percentage of total government expenditure (%)                                    11.181244\n",
       "Government expenditure on education as a percentage of GDP (%)                                                   6.402164\n",
       "Initial government expenditure on education as a percentage of GDP (%)                                          39.359784\n",
       "Initial private expenditure on education (household) as a percentage of GDP (%)                                 73.444545\n",
       "Initial private expenditure on education (other non-educational private entities) as a percentage of GDP (%)    77.727683\n",
       "International expenditure on education as a percentage of GDP (%)                                               36.970243\n",
       "Percentage of total aid to education allocated to least developed countries (%)                                 79.666366\n",
       "dtype: float64"
      ]
     },
     "execution_count": 20,
     "metadata": {},
     "output_type": "execute_result"
    }
   ],
   "source": [
    "# percentage of missing values\n",
    "\n",
    "df_pivoted.isnull().mean() * 100"
   ]
  },
  {
   "cell_type": "code",
   "execution_count": 21,
   "id": "b95db7aa",
   "metadata": {},
   "outputs": [],
   "source": [
    "# drop columns with more than 30% null values\n",
    "\n",
    "df1 = df_pivoted.drop(columns= [\"Expenditure on education (public, households, ODA) as a percentage of GDP\",\n",
    "                               \"Expenditure on education (public, private, international) as a percentage of GDP\",\n",
    "                               \"Initial government expenditure on education as a percentage of GDP (%)\",\n",
    "                               \"Initial private expenditure on education (household) as a percentage of GDP (%)\",\n",
    "                               \"Initial private expenditure on education (other non-educational private entities) as a percentage of GDP (%)\",\n",
    "                               \"International expenditure on education as a percentage of GDP (%)\",\n",
    "                               \"Percentage of total aid to education allocated to least developed countries (%)\"])"
   ]
  },
  {
   "cell_type": "code",
   "execution_count": 22,
   "id": "895e9f6d",
   "metadata": {},
   "outputs": [
    {
     "data": {
      "text/html": [
       "<div>\n",
       "<style scoped>\n",
       "    .dataframe tbody tr th:only-of-type {\n",
       "        vertical-align: middle;\n",
       "    }\n",
       "\n",
       "    .dataframe tbody tr th {\n",
       "        vertical-align: top;\n",
       "    }\n",
       "\n",
       "    .dataframe thead th {\n",
       "        text-align: right;\n",
       "    }\n",
       "</style>\n",
       "<table border=\"1\" class=\"dataframe\">\n",
       "  <thead>\n",
       "    <tr style=\"text-align: right;\">\n",
       "      <th></th>\n",
       "      <th>Country</th>\n",
       "      <th>Year</th>\n",
       "      <th>Expenditure on education as a percentage of total government expenditure (%)</th>\n",
       "      <th>Government expenditure on education as a percentage of GDP (%)</th>\n",
       "    </tr>\n",
       "  </thead>\n",
       "  <tbody>\n",
       "    <tr>\n",
       "      <th>0</th>\n",
       "      <td>Afghanistan</td>\n",
       "      <td>2010</td>\n",
       "      <td>6.40</td>\n",
       "      <td>3.48</td>\n",
       "    </tr>\n",
       "    <tr>\n",
       "      <th>1</th>\n",
       "      <td>Afghanistan</td>\n",
       "      <td>2011</td>\n",
       "      <td>5.15</td>\n",
       "      <td>3.46</td>\n",
       "    </tr>\n",
       "    <tr>\n",
       "      <th>2</th>\n",
       "      <td>Afghanistan</td>\n",
       "      <td>2012</td>\n",
       "      <td>6.49</td>\n",
       "      <td>2.60</td>\n",
       "    </tr>\n",
       "    <tr>\n",
       "      <th>3</th>\n",
       "      <td>Afghanistan</td>\n",
       "      <td>2013</td>\n",
       "      <td>7.13</td>\n",
       "      <td>3.45</td>\n",
       "    </tr>\n",
       "    <tr>\n",
       "      <th>4</th>\n",
       "      <td>Afghanistan</td>\n",
       "      <td>2014</td>\n",
       "      <td>7.96</td>\n",
       "      <td>3.70</td>\n",
       "    </tr>\n",
       "  </tbody>\n",
       "</table>\n",
       "</div>"
      ],
      "text/plain": [
       "       Country  Year  \\\n",
       "0  Afghanistan  2010   \n",
       "1  Afghanistan  2011   \n",
       "2  Afghanistan  2012   \n",
       "3  Afghanistan  2013   \n",
       "4  Afghanistan  2014   \n",
       "\n",
       "   Expenditure on education as a percentage of total government expenditure (%)  \\\n",
       "0                                               6.40                              \n",
       "1                                               5.15                              \n",
       "2                                               6.49                              \n",
       "3                                               7.13                              \n",
       "4                                               7.96                              \n",
       "\n",
       "   Government expenditure on education as a percentage of GDP (%)  \n",
       "0                                               3.48               \n",
       "1                                               3.46               \n",
       "2                                               2.60               \n",
       "3                                               3.45               \n",
       "4                                               3.70               "
      ]
     },
     "execution_count": 22,
     "metadata": {},
     "output_type": "execute_result"
    }
   ],
   "source": [
    "df1.head()"
   ]
  },
  {
   "cell_type": "code",
   "execution_count": 23,
   "id": "f0db13db",
   "metadata": {},
   "outputs": [
    {
     "data": {
      "text/plain": [
       "Country                                                                          0.000000\n",
       "Year                                                                             0.000000\n",
       "Expenditure on education as a percentage of total government expenditure (%)    11.181244\n",
       "Government expenditure on education as a percentage of GDP (%)                   6.402164\n",
       "dtype: float64"
      ]
     },
     "execution_count": 23,
     "metadata": {},
     "output_type": "execute_result"
    }
   ],
   "source": [
    "# percentage of missing values\n",
    "\n",
    "df1.isnull().mean() * 100"
   ]
  },
  {
   "cell_type": "code",
   "execution_count": 24,
   "id": "26c0e604",
   "metadata": {},
   "outputs": [
    {
     "data": {
      "text/plain": [
       "count    1970.000000\n",
       "mean       14.013406\n",
       "std         4.892373\n",
       "min         0.000000\n",
       "25%        10.602500\n",
       "50%        13.445000\n",
       "75%        17.030000\n",
       "max        35.010000\n",
       "Name: Expenditure on education as a percentage of total government expenditure (%), dtype: float64"
      ]
     },
     "execution_count": 24,
     "metadata": {},
     "output_type": "execute_result"
    }
   ],
   "source": [
    "df1['Expenditure on education as a percentage of total government expenditure (%)'].describe()"
   ]
  },
  {
   "cell_type": "code",
   "execution_count": 25,
   "id": "c5df4c32",
   "metadata": {},
   "outputs": [
    {
     "data": {
      "text/plain": [
       "count    2076.000000\n",
       "mean        4.416628\n",
       "std         1.872824\n",
       "min         0.000000\n",
       "25%         3.150000\n",
       "50%         4.240000\n",
       "75%         5.410000\n",
       "max        16.580000\n",
       "Name: Government expenditure on education as a percentage of GDP (%), dtype: float64"
      ]
     },
     "execution_count": 25,
     "metadata": {},
     "output_type": "execute_result"
    }
   ],
   "source": [
    "df1['Government expenditure on education as a percentage of GDP (%)'].describe()"
   ]
  },
  {
   "cell_type": "code",
   "execution_count": 26,
   "id": "059f6a37",
   "metadata": {},
   "outputs": [],
   "source": [
    "# filling missing values with the mean\n",
    "\n",
    "df1[\"Government expenditure on education as a percentage of GDP (%)\"] = df1[\"Government expenditure on education as a percentage of GDP (%)\"].fillna(df1[\"Government expenditure on education as a percentage of GDP (%)\"].mean())\n",
    "df1['Expenditure on education as a percentage of total government expenditure (%)'] = df1[\"Expenditure on education as a percentage of total government expenditure (%)\"].fillna(df1[\"Expenditure on education as a percentage of total government expenditure (%)\"].mean())"
   ]
  },
  {
   "cell_type": "code",
   "execution_count": 27,
   "id": "bd168c1b",
   "metadata": {},
   "outputs": [
    {
     "data": {
      "text/plain": [
       "Country                                                                         0.0\n",
       "Year                                                                            0.0\n",
       "Expenditure on education as a percentage of total government expenditure (%)    0.0\n",
       "Government expenditure on education as a percentage of GDP (%)                  0.0\n",
       "dtype: float64"
      ]
     },
     "execution_count": 27,
     "metadata": {},
     "output_type": "execute_result"
    }
   ],
   "source": [
    "# percentage of missing values\n",
    "\n",
    "df1.isnull().mean() * 100"
   ]
  },
  {
   "cell_type": "code",
   "execution_count": 28,
   "id": "2414c2fb",
   "metadata": {},
   "outputs": [
    {
     "data": {
      "text/html": [
       "<div>\n",
       "<style scoped>\n",
       "    .dataframe tbody tr th:only-of-type {\n",
       "        vertical-align: middle;\n",
       "    }\n",
       "\n",
       "    .dataframe tbody tr th {\n",
       "        vertical-align: top;\n",
       "    }\n",
       "\n",
       "    .dataframe thead th {\n",
       "        text-align: right;\n",
       "    }\n",
       "</style>\n",
       "<table border=\"1\" class=\"dataframe\">\n",
       "  <thead>\n",
       "    <tr style=\"text-align: right;\">\n",
       "      <th></th>\n",
       "      <th>Country</th>\n",
       "      <th>Year</th>\n",
       "      <th>Expenditure on education as a percentage of total government expenditure (%)</th>\n",
       "      <th>Government expenditure on education as a percentage of GDP (%)</th>\n",
       "    </tr>\n",
       "  </thead>\n",
       "  <tbody>\n",
       "    <tr>\n",
       "      <th>0</th>\n",
       "      <td>Afghanistan</td>\n",
       "      <td>2010</td>\n",
       "      <td>6.40</td>\n",
       "      <td>3.48</td>\n",
       "    </tr>\n",
       "    <tr>\n",
       "      <th>1</th>\n",
       "      <td>Afghanistan</td>\n",
       "      <td>2011</td>\n",
       "      <td>5.15</td>\n",
       "      <td>3.46</td>\n",
       "    </tr>\n",
       "    <tr>\n",
       "      <th>2</th>\n",
       "      <td>Afghanistan</td>\n",
       "      <td>2012</td>\n",
       "      <td>6.49</td>\n",
       "      <td>2.60</td>\n",
       "    </tr>\n",
       "    <tr>\n",
       "      <th>3</th>\n",
       "      <td>Afghanistan</td>\n",
       "      <td>2013</td>\n",
       "      <td>7.13</td>\n",
       "      <td>3.45</td>\n",
       "    </tr>\n",
       "    <tr>\n",
       "      <th>4</th>\n",
       "      <td>Afghanistan</td>\n",
       "      <td>2014</td>\n",
       "      <td>7.96</td>\n",
       "      <td>3.70</td>\n",
       "    </tr>\n",
       "  </tbody>\n",
       "</table>\n",
       "</div>"
      ],
      "text/plain": [
       "       Country  Year  \\\n",
       "0  Afghanistan  2010   \n",
       "1  Afghanistan  2011   \n",
       "2  Afghanistan  2012   \n",
       "3  Afghanistan  2013   \n",
       "4  Afghanistan  2014   \n",
       "\n",
       "   Expenditure on education as a percentage of total government expenditure (%)  \\\n",
       "0                                               6.40                              \n",
       "1                                               5.15                              \n",
       "2                                               6.49                              \n",
       "3                                               7.13                              \n",
       "4                                               7.96                              \n",
       "\n",
       "   Government expenditure on education as a percentage of GDP (%)  \n",
       "0                                               3.48               \n",
       "1                                               3.46               \n",
       "2                                               2.60               \n",
       "3                                               3.45               \n",
       "4                                               3.70               "
      ]
     },
     "execution_count": 28,
     "metadata": {},
     "output_type": "execute_result"
    }
   ],
   "source": [
    "df1.head()"
   ]
  },
  {
   "cell_type": "code",
   "execution_count": 29,
   "id": "a4ff9f10",
   "metadata": {},
   "outputs": [
    {
     "data": {
      "text/html": [
       "<div>\n",
       "<style scoped>\n",
       "    .dataframe tbody tr th:only-of-type {\n",
       "        vertical-align: middle;\n",
       "    }\n",
       "\n",
       "    .dataframe tbody tr th {\n",
       "        vertical-align: top;\n",
       "    }\n",
       "\n",
       "    .dataframe thead th {\n",
       "        text-align: right;\n",
       "    }\n",
       "</style>\n",
       "<table border=\"1\" class=\"dataframe\">\n",
       "  <thead>\n",
       "    <tr style=\"text-align: right;\">\n",
       "      <th></th>\n",
       "      <th>Country</th>\n",
       "      <th>Year</th>\n",
       "      <th>Expenditure on education as a percentage of total government expenditure (%)</th>\n",
       "      <th>Government expenditure on education as a percentage of GDP (%)</th>\n",
       "    </tr>\n",
       "  </thead>\n",
       "  <tbody>\n",
       "    <tr>\n",
       "      <th>0</th>\n",
       "      <td>Afghanistan</td>\n",
       "      <td>2010</td>\n",
       "      <td>6.40</td>\n",
       "      <td>3.48</td>\n",
       "    </tr>\n",
       "    <tr>\n",
       "      <th>1</th>\n",
       "      <td>Afghanistan</td>\n",
       "      <td>2011</td>\n",
       "      <td>5.15</td>\n",
       "      <td>3.46</td>\n",
       "    </tr>\n",
       "    <tr>\n",
       "      <th>2</th>\n",
       "      <td>Afghanistan</td>\n",
       "      <td>2012</td>\n",
       "      <td>6.49</td>\n",
       "      <td>2.60</td>\n",
       "    </tr>\n",
       "    <tr>\n",
       "      <th>3</th>\n",
       "      <td>Afghanistan</td>\n",
       "      <td>2013</td>\n",
       "      <td>7.13</td>\n",
       "      <td>3.45</td>\n",
       "    </tr>\n",
       "    <tr>\n",
       "      <th>4</th>\n",
       "      <td>Afghanistan</td>\n",
       "      <td>2014</td>\n",
       "      <td>7.96</td>\n",
       "      <td>3.70</td>\n",
       "    </tr>\n",
       "  </tbody>\n",
       "</table>\n",
       "</div>"
      ],
      "text/plain": [
       "       Country  Year  \\\n",
       "0  Afghanistan  2010   \n",
       "1  Afghanistan  2011   \n",
       "2  Afghanistan  2012   \n",
       "3  Afghanistan  2013   \n",
       "4  Afghanistan  2014   \n",
       "\n",
       "   Expenditure on education as a percentage of total government expenditure (%)  \\\n",
       "0                                               6.40                              \n",
       "1                                               5.15                              \n",
       "2                                               6.49                              \n",
       "3                                               7.13                              \n",
       "4                                               7.96                              \n",
       "\n",
       "   Government expenditure on education as a percentage of GDP (%)  \n",
       "0                                               3.48               \n",
       "1                                               3.46               \n",
       "2                                               2.60               \n",
       "3                                               3.45               \n",
       "4                                               3.70               "
      ]
     },
     "execution_count": 29,
     "metadata": {},
     "output_type": "execute_result"
    }
   ],
   "source": [
    "df1.head()"
   ]
  },
  {
   "cell_type": "code",
   "execution_count": 30,
   "id": "26969033",
   "metadata": {},
   "outputs": [
    {
     "name": "stdout",
     "output_type": "stream",
     "text": [
      "<class 'pandas.core.frame.DataFrame'>\n",
      "RangeIndex: 2218 entries, 0 to 2217\n",
      "Data columns (total 4 columns):\n",
      " #   Column                                                                        Non-Null Count  Dtype  \n",
      "---  ------                                                                        --------------  -----  \n",
      " 0   Country                                                                       2218 non-null   object \n",
      " 1   Year                                                                          2218 non-null   int64  \n",
      " 2   Expenditure on education as a percentage of total government expenditure (%)  2218 non-null   float64\n",
      " 3   Government expenditure on education as a percentage of GDP (%)                2218 non-null   float64\n",
      "dtypes: float64(2), int64(1), object(1)\n",
      "memory usage: 69.4+ KB\n"
     ]
    }
   ],
   "source": [
    "df1.info()"
   ]
  },
  {
   "cell_type": "code",
   "execution_count": 52,
   "id": "7ae41a44",
   "metadata": {},
   "outputs": [],
   "source": [
    "# save the dataframe as a .csv file\n",
    "\n",
    "df1.to_csv(\"education_expenditure.csv\", index=False)\n",
    "df_2023.to_csv(\"df_2023.csv\", index=False)"
   ]
  },
  {
   "cell_type": "code",
   "execution_count": null,
   "id": "ff4dd838",
   "metadata": {},
   "outputs": [],
   "source": []
  },
  {
   "cell_type": "code",
   "execution_count": null,
   "id": "c1a24584",
   "metadata": {},
   "outputs": [],
   "source": []
  }
 ],
 "metadata": {
  "kernelspec": {
   "display_name": "Python 3 (ipykernel)",
   "language": "python",
   "name": "python3"
  },
  "language_info": {
   "codemirror_mode": {
    "name": "ipython",
    "version": 3
   },
   "file_extension": ".py",
   "mimetype": "text/x-python",
   "name": "python",
   "nbconvert_exporter": "python",
   "pygments_lexer": "ipython3",
   "version": "3.11.5"
  }
 },
 "nbformat": 4,
 "nbformat_minor": 5
}
