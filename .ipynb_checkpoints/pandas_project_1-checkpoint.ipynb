{
 "cells": [
  {
   "cell_type": "code",
   "execution_count": 1,
   "id": "de0753f9-65ec-4458-9aa3-30e2a4788b30",
   "metadata": {},
   "outputs": [],
   "source": [
    "import pandas as pd "
   ]
  },
  {
   "cell_type": "code",
   "execution_count": 2,
   "id": "ecf06be3-1bc0-4957-a2c2-c944611274c3",
   "metadata": {},
   "outputs": [],
   "source": [
    "df1 = pd.read_csv(\"dataset_1.csv\")\n",
    "df2 = pd.read_csv(\"dataset_2.csv\")"
   ]
  },
  {
   "cell_type": "code",
   "execution_count": 6,
   "id": "9a928108-7e95-4d24-b198-309aacb65c1d",
   "metadata": {},
   "outputs": [
    {
     "data": {
      "text/plain": [
       "Region      0.000000\n",
       "Country     0.534759\n",
       "2015        8.021390\n",
       "2016        9.625668\n",
       "2017        7.486631\n",
       "2018        9.625668\n",
       "2019       11.229947\n",
       "2020       12.834225\n",
       "2021       16.577540\n",
       "2022       42.245989\n",
       "2023       90.909091\n",
       "dtype: float64"
      ]
     },
     "execution_count": 6,
     "metadata": {},
     "output_type": "execute_result"
    }
   ],
   "source": [
    "df1.isnull().sum() / len(df1) * 100"
   ]
  },
  {
   "cell_type": "code",
   "execution_count": 8,
   "id": "cd79a9ba-0f65-4328-a058-09a0b8f4f5b3",
   "metadata": {},
   "outputs": [],
   "source": [
    "df = pd.concat([df1, df2], axis=0)"
   ]
  },
  {
   "cell_type": "code",
   "execution_count": 10,
   "id": "4430b1c5-6556-4771-9b4b-95f37c6f3143",
   "metadata": {},
   "outputs": [
    {
     "data": {
      "text/plain": [
       "(379, 187, 192)"
      ]
     },
     "execution_count": 10,
     "metadata": {},
     "output_type": "execute_result"
    }
   ],
   "source": [
    "len(df), len(df1), len(df2)"
   ]
  }
 ],
 "metadata": {
  "kernelspec": {
   "display_name": "Python 3 (ipykernel)",
   "language": "python",
   "name": "python3"
  },
  "language_info": {
   "codemirror_mode": {
    "name": "ipython",
    "version": 3
   },
   "file_extension": ".py",
   "mimetype": "text/x-python",
   "name": "python",
   "nbconvert_exporter": "python",
   "pygments_lexer": "ipython3",
   "version": "3.11.5"
  }
 },
 "nbformat": 4,
 "nbformat_minor": 5
}
